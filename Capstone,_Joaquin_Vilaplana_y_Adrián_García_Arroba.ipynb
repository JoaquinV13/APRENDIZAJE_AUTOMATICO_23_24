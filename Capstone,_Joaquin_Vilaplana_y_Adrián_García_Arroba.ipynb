{
  "nbformat": 4,
  "nbformat_minor": 0,
  "metadata": {
    "colab": {
      "provenance": [],
      "include_colab_link": true
    },
    "kernelspec": {
      "name": "python3",
      "display_name": "Python 3"
    },
    "language_info": {
      "name": "python"
    }
  },
  "cells": [
    {
      "cell_type": "markdown",
      "metadata": {
        "id": "view-in-github",
        "colab_type": "text"
      },
      "source": [
        "<a href=\"https://colab.research.google.com/github/JoaquinV13/APRENDIZAJE_AUTOMATICO_23_24/blob/main/Capstone%2C_Joaquin_Vilaplana_y_Adri%C3%A1n_Garc%C3%ADa_Arroba.ipynb\" target=\"_parent\"><img src=\"https://colab.research.google.com/assets/colab-badge.svg\" alt=\"Open In Colab\"/></a>"
      ]
    },
    {
      "cell_type": "markdown",
      "source": [
        "Hecho por: Joaquín Manuel Vilaplana y Adrián García-Arroba"
      ],
      "metadata": {
        "id": "0zIXKqrBXYZi"
      }
    },
    {
      "cell_type": "markdown",
      "source": [
        "# Introducción\n",
        "\n",
        "El propósito de nuestro proyecto final es aprovechar la oportunidad de aplicar los conceptos que hemos adquirido a lo largo del curso de Aprendizaje Automático en un entorno práctico y con datos reales. Desde el comienzo de la asignatura, nos hemos organizado en grupo (en este caso siendo dos personas) con el objetivo de abordar un desafío específico, ya sea en el ámbito de clasificación, regresión o algoritmos genéticos.\n",
        "\n",
        "Se han hecho varias entregas a lo largo del curso. Todas se debían hacer en formato Jupyter Notebook en Google Colab. Como hay problemas a la hora de guardar si más de una persona está conectada, lo que hemos hecho es ponernos de acuerdo cada vez que uno se conectaba. Otra opción también ha sido trabajar con copias del original, y, en caso de estar bien una parte se añade al original sin que la otra persona esté conectada ahí.\n",
        "\n",
        "En la primera práctica el objetivo era trabajar con los principios básicos de las Redes de Neuronas Artificiales. El modelo creado fue capaz de reconocer y clasificar imágenes de ropa en sus diferentes tipologías utilizando el conjunto de datos Fashion-MNIST de Keras. Se proporcionaron pautas específicas para la configuración y entrenamiento del modelo, así como para la evaluación y mejora del mismo.\n",
        "\n",
        "La segunda práctica consistía en la implementación de dos modelos de aprendizaje automático: Perceptrón y Adaline. Después de clasificar datos, había que responder preguntas sobre los gráficos y rendimientos de los modelos. Se trabajó el algoritmo de Gradiente Descendente Estocástico (SGD) y diversos conceptos como por ejemplo la frontera de decisión.\n",
        "\n",
        "La tercera práctica consistió en crear y entrenar un modelo de Redes Neuronales Convolucionales (CNN) para la clasificación de imágenes en 100 categorías utilizando el conjunto de datos CIFAR-100. Se trabajó mucho los hiperparámetros como la tasa de aprendizaje, el tamaño del lote y el número de épocas. También se profundizaron conceptos clave como Batch Normalization y Dropout.\n",
        "\n",
        "En la cuarta práctica se empleó el Algoritmo Genético. Se debía encontrar el máximo de una función en un dominio determinado. También utilizar la función de Rastringin y comparar el Algoritmo Genético con un punto de cruce y con dos.\n",
        "\n",
        "Queremos usar todas las herramientas y técnicas que hemos aprendido para desarrollar soluciones innovadoras. Cuando entreguemos nuestro proyecto final, no será solo una evaluación de nuestras habilidades, sino una oportunidad para mostrar lo lejos que hemos llegado y lo creativos que podemos ser. Estamos emocionados por este desafío y ansiosos por compartir los resultados de nuestro esfuerzo al final del cuatrimestre."
      ],
      "metadata": {
        "id": "7eCwbT2o6S7W"
      }
    },
    {
      "cell_type": "markdown",
      "source": [
        "# Datos\n",
        "\n",
        "\n",
        "La base de datos se llama: Fitness Club Dataset for ML Classification.\n",
        "\n",
        "(Datacamp's Data Science Associate Practical Certification dataset)\n",
        "\n",
        "Fue extraída de la web Kaggle en el siguiente link:https://www.kaggle.com/datasets/ddosad/datacamps-data-science-associate-certification?rvi=1\n",
        "\n",
        "Su uso es de domonio público.\n",
        "\n",
        "Después de una búsqueda y análisis de diferentes bases de datos, acabamos seleccionando esta por su posible comercialización, es un problema a resolver muy tangible y porque no se han encontrado proyectos en internet en el que se resuelva. Además, las variables, haciendo diversos cambios que posteriormente mencionaremos, son muy manejables.\n",
        "\n",
        "Nuestra propuesta consiste en un gimnasio que nos ha pedido ayuda con la logística y organización de las diferentes actividades que organiza diariamente.\n",
        "\n",
        "Se puede reservar una clase de zumba, pilates, bici o lo que sea, el problema surge cuando una clase se llena (y por culpa de eso no se puede apuntar más gente) y luego hay alguna baja, cierta persona no asiste y en consecuencia se pierde esa plaza.\n",
        "\n",
        "Debido a que la tasa de inasistencia es muy alta, se nos pide estudiar diversas variables de cada persona y poder llegar a predecir si va a asistir o no. Por lo tanto, se va a estudiar una base de datos con 1500 reservas y con información en cada una de ellas del miembro del club que la hizo.\n",
        "\n",
        "La base de datos esta compuesta por 8 columnas con los siguientes atributos, el identificador de la reserva, los meses que lleva de membresía el socio, su peso, los días de antelación con los que reservó, el día de la semana de la clase, la hora de la clase si es ante meridiem o post meridiem, el tipo de clase y, por último, si asiste o no."
      ],
      "metadata": {
        "id": "3HAn3njjwVAo"
      }
    },
    {
      "cell_type": "code",
      "source": [
        "# Bibliotecas.\n",
        "import pandas as pd\n",
        "import numpy as np\n",
        "from tensorflow import keras\n",
        "from keras import models\n",
        "from keras import layers"
      ],
      "metadata": {
        "id": "KgkTjcpvwVAp"
      },
      "execution_count": 775,
      "outputs": []
    },
    {
      "cell_type": "code",
      "execution_count": 776,
      "metadata": {
        "id": "j3dBjVMic_mj",
        "colab": {
          "base_uri": "https://localhost:8080/",
          "height": 201
        },
        "outputId": "e5f076ef-18c1-455e-b2c0-922f4523d333"
      },
      "outputs": [
        {
          "output_type": "execute_result",
          "data": {
            "text/plain": [
              "   booking_id  months_as_member  weight days_before day_of_week time  \\\n",
              "0           1                17   79.56           8         Wed   PM   \n",
              "1           2                10   79.01           2         Mon   AM   \n",
              "2           3                16   74.53          14         Sun   AM   \n",
              "3           4                 5   86.12          10         Fri   AM   \n",
              "4           5                15   69.29           8         Thu   AM   \n",
              "\n",
              "   category  attended  \n",
              "0  Strength         0  \n",
              "1      HIIT         0  \n",
              "2  Strength         0  \n",
              "3   Cycling         0  \n",
              "4      HIIT         0  "
            ],
            "text/html": [
              "\n",
              "  <div id=\"df-4ef57889-db0e-4a2b-b55a-b3a1777dcca2\" class=\"colab-df-container\">\n",
              "    <div>\n",
              "<style scoped>\n",
              "    .dataframe tbody tr th:only-of-type {\n",
              "        vertical-align: middle;\n",
              "    }\n",
              "\n",
              "    .dataframe tbody tr th {\n",
              "        vertical-align: top;\n",
              "    }\n",
              "\n",
              "    .dataframe thead th {\n",
              "        text-align: right;\n",
              "    }\n",
              "</style>\n",
              "<table border=\"1\" class=\"dataframe\">\n",
              "  <thead>\n",
              "    <tr style=\"text-align: right;\">\n",
              "      <th></th>\n",
              "      <th>booking_id</th>\n",
              "      <th>months_as_member</th>\n",
              "      <th>weight</th>\n",
              "      <th>days_before</th>\n",
              "      <th>day_of_week</th>\n",
              "      <th>time</th>\n",
              "      <th>category</th>\n",
              "      <th>attended</th>\n",
              "    </tr>\n",
              "  </thead>\n",
              "  <tbody>\n",
              "    <tr>\n",
              "      <th>0</th>\n",
              "      <td>1</td>\n",
              "      <td>17</td>\n",
              "      <td>79.56</td>\n",
              "      <td>8</td>\n",
              "      <td>Wed</td>\n",
              "      <td>PM</td>\n",
              "      <td>Strength</td>\n",
              "      <td>0</td>\n",
              "    </tr>\n",
              "    <tr>\n",
              "      <th>1</th>\n",
              "      <td>2</td>\n",
              "      <td>10</td>\n",
              "      <td>79.01</td>\n",
              "      <td>2</td>\n",
              "      <td>Mon</td>\n",
              "      <td>AM</td>\n",
              "      <td>HIIT</td>\n",
              "      <td>0</td>\n",
              "    </tr>\n",
              "    <tr>\n",
              "      <th>2</th>\n",
              "      <td>3</td>\n",
              "      <td>16</td>\n",
              "      <td>74.53</td>\n",
              "      <td>14</td>\n",
              "      <td>Sun</td>\n",
              "      <td>AM</td>\n",
              "      <td>Strength</td>\n",
              "      <td>0</td>\n",
              "    </tr>\n",
              "    <tr>\n",
              "      <th>3</th>\n",
              "      <td>4</td>\n",
              "      <td>5</td>\n",
              "      <td>86.12</td>\n",
              "      <td>10</td>\n",
              "      <td>Fri</td>\n",
              "      <td>AM</td>\n",
              "      <td>Cycling</td>\n",
              "      <td>0</td>\n",
              "    </tr>\n",
              "    <tr>\n",
              "      <th>4</th>\n",
              "      <td>5</td>\n",
              "      <td>15</td>\n",
              "      <td>69.29</td>\n",
              "      <td>8</td>\n",
              "      <td>Thu</td>\n",
              "      <td>AM</td>\n",
              "      <td>HIIT</td>\n",
              "      <td>0</td>\n",
              "    </tr>\n",
              "  </tbody>\n",
              "</table>\n",
              "</div>\n",
              "    <div class=\"colab-df-buttons\">\n",
              "\n",
              "  <div class=\"colab-df-container\">\n",
              "    <button class=\"colab-df-convert\" onclick=\"convertToInteractive('df-4ef57889-db0e-4a2b-b55a-b3a1777dcca2')\"\n",
              "            title=\"Convert this dataframe to an interactive table.\"\n",
              "            style=\"display:none;\">\n",
              "\n",
              "  <svg xmlns=\"http://www.w3.org/2000/svg\" height=\"24px\" viewBox=\"0 -960 960 960\">\n",
              "    <path d=\"M120-120v-720h720v720H120Zm60-500h600v-160H180v160Zm220 220h160v-160H400v160Zm0 220h160v-160H400v160ZM180-400h160v-160H180v160Zm440 0h160v-160H620v160ZM180-180h160v-160H180v160Zm440 0h160v-160H620v160Z\"/>\n",
              "  </svg>\n",
              "    </button>\n",
              "\n",
              "  <style>\n",
              "    .colab-df-container {\n",
              "      display:flex;\n",
              "      gap: 12px;\n",
              "    }\n",
              "\n",
              "    .colab-df-convert {\n",
              "      background-color: #E8F0FE;\n",
              "      border: none;\n",
              "      border-radius: 50%;\n",
              "      cursor: pointer;\n",
              "      display: none;\n",
              "      fill: #1967D2;\n",
              "      height: 32px;\n",
              "      padding: 0 0 0 0;\n",
              "      width: 32px;\n",
              "    }\n",
              "\n",
              "    .colab-df-convert:hover {\n",
              "      background-color: #E2EBFA;\n",
              "      box-shadow: 0px 1px 2px rgba(60, 64, 67, 0.3), 0px 1px 3px 1px rgba(60, 64, 67, 0.15);\n",
              "      fill: #174EA6;\n",
              "    }\n",
              "\n",
              "    .colab-df-buttons div {\n",
              "      margin-bottom: 4px;\n",
              "    }\n",
              "\n",
              "    [theme=dark] .colab-df-convert {\n",
              "      background-color: #3B4455;\n",
              "      fill: #D2E3FC;\n",
              "    }\n",
              "\n",
              "    [theme=dark] .colab-df-convert:hover {\n",
              "      background-color: #434B5C;\n",
              "      box-shadow: 0px 1px 3px 1px rgba(0, 0, 0, 0.15);\n",
              "      filter: drop-shadow(0px 1px 2px rgba(0, 0, 0, 0.3));\n",
              "      fill: #FFFFFF;\n",
              "    }\n",
              "  </style>\n",
              "\n",
              "    <script>\n",
              "      const buttonEl =\n",
              "        document.querySelector('#df-4ef57889-db0e-4a2b-b55a-b3a1777dcca2 button.colab-df-convert');\n",
              "      buttonEl.style.display =\n",
              "        google.colab.kernel.accessAllowed ? 'block' : 'none';\n",
              "\n",
              "      async function convertToInteractive(key) {\n",
              "        const element = document.querySelector('#df-4ef57889-db0e-4a2b-b55a-b3a1777dcca2');\n",
              "        const dataTable =\n",
              "          await google.colab.kernel.invokeFunction('convertToInteractive',\n",
              "                                                    [key], {});\n",
              "        if (!dataTable) return;\n",
              "\n",
              "        const docLinkHtml = 'Like what you see? Visit the ' +\n",
              "          '<a target=\"_blank\" href=https://colab.research.google.com/notebooks/data_table.ipynb>data table notebook</a>'\n",
              "          + ' to learn more about interactive tables.';\n",
              "        element.innerHTML = '';\n",
              "        dataTable['output_type'] = 'display_data';\n",
              "        await google.colab.output.renderOutput(dataTable, element);\n",
              "        const docLink = document.createElement('div');\n",
              "        docLink.innerHTML = docLinkHtml;\n",
              "        element.appendChild(docLink);\n",
              "      }\n",
              "    </script>\n",
              "  </div>\n",
              "\n",
              "\n",
              "<div id=\"df-8c95b286-adcb-4d67-a07a-e9eccef434f0\">\n",
              "  <button class=\"colab-df-quickchart\" onclick=\"quickchart('df-8c95b286-adcb-4d67-a07a-e9eccef434f0')\"\n",
              "            title=\"Suggest charts\"\n",
              "            style=\"display:none;\">\n",
              "\n",
              "<svg xmlns=\"http://www.w3.org/2000/svg\" height=\"24px\"viewBox=\"0 0 24 24\"\n",
              "     width=\"24px\">\n",
              "    <g>\n",
              "        <path d=\"M19 3H5c-1.1 0-2 .9-2 2v14c0 1.1.9 2 2 2h14c1.1 0 2-.9 2-2V5c0-1.1-.9-2-2-2zM9 17H7v-7h2v7zm4 0h-2V7h2v10zm4 0h-2v-4h2v4z\"/>\n",
              "    </g>\n",
              "</svg>\n",
              "  </button>\n",
              "\n",
              "<style>\n",
              "  .colab-df-quickchart {\n",
              "      --bg-color: #E8F0FE;\n",
              "      --fill-color: #1967D2;\n",
              "      --hover-bg-color: #E2EBFA;\n",
              "      --hover-fill-color: #174EA6;\n",
              "      --disabled-fill-color: #AAA;\n",
              "      --disabled-bg-color: #DDD;\n",
              "  }\n",
              "\n",
              "  [theme=dark] .colab-df-quickchart {\n",
              "      --bg-color: #3B4455;\n",
              "      --fill-color: #D2E3FC;\n",
              "      --hover-bg-color: #434B5C;\n",
              "      --hover-fill-color: #FFFFFF;\n",
              "      --disabled-bg-color: #3B4455;\n",
              "      --disabled-fill-color: #666;\n",
              "  }\n",
              "\n",
              "  .colab-df-quickchart {\n",
              "    background-color: var(--bg-color);\n",
              "    border: none;\n",
              "    border-radius: 50%;\n",
              "    cursor: pointer;\n",
              "    display: none;\n",
              "    fill: var(--fill-color);\n",
              "    height: 32px;\n",
              "    padding: 0;\n",
              "    width: 32px;\n",
              "  }\n",
              "\n",
              "  .colab-df-quickchart:hover {\n",
              "    background-color: var(--hover-bg-color);\n",
              "    box-shadow: 0 1px 2px rgba(60, 64, 67, 0.3), 0 1px 3px 1px rgba(60, 64, 67, 0.15);\n",
              "    fill: var(--button-hover-fill-color);\n",
              "  }\n",
              "\n",
              "  .colab-df-quickchart-complete:disabled,\n",
              "  .colab-df-quickchart-complete:disabled:hover {\n",
              "    background-color: var(--disabled-bg-color);\n",
              "    fill: var(--disabled-fill-color);\n",
              "    box-shadow: none;\n",
              "  }\n",
              "\n",
              "  .colab-df-spinner {\n",
              "    border: 2px solid var(--fill-color);\n",
              "    border-color: transparent;\n",
              "    border-bottom-color: var(--fill-color);\n",
              "    animation:\n",
              "      spin 1s steps(1) infinite;\n",
              "  }\n",
              "\n",
              "  @keyframes spin {\n",
              "    0% {\n",
              "      border-color: transparent;\n",
              "      border-bottom-color: var(--fill-color);\n",
              "      border-left-color: var(--fill-color);\n",
              "    }\n",
              "    20% {\n",
              "      border-color: transparent;\n",
              "      border-left-color: var(--fill-color);\n",
              "      border-top-color: var(--fill-color);\n",
              "    }\n",
              "    30% {\n",
              "      border-color: transparent;\n",
              "      border-left-color: var(--fill-color);\n",
              "      border-top-color: var(--fill-color);\n",
              "      border-right-color: var(--fill-color);\n",
              "    }\n",
              "    40% {\n",
              "      border-color: transparent;\n",
              "      border-right-color: var(--fill-color);\n",
              "      border-top-color: var(--fill-color);\n",
              "    }\n",
              "    60% {\n",
              "      border-color: transparent;\n",
              "      border-right-color: var(--fill-color);\n",
              "    }\n",
              "    80% {\n",
              "      border-color: transparent;\n",
              "      border-right-color: var(--fill-color);\n",
              "      border-bottom-color: var(--fill-color);\n",
              "    }\n",
              "    90% {\n",
              "      border-color: transparent;\n",
              "      border-bottom-color: var(--fill-color);\n",
              "    }\n",
              "  }\n",
              "</style>\n",
              "\n",
              "  <script>\n",
              "    async function quickchart(key) {\n",
              "      const quickchartButtonEl =\n",
              "        document.querySelector('#' + key + ' button');\n",
              "      quickchartButtonEl.disabled = true;  // To prevent multiple clicks.\n",
              "      quickchartButtonEl.classList.add('colab-df-spinner');\n",
              "      try {\n",
              "        const charts = await google.colab.kernel.invokeFunction(\n",
              "            'suggestCharts', [key], {});\n",
              "      } catch (error) {\n",
              "        console.error('Error during call to suggestCharts:', error);\n",
              "      }\n",
              "      quickchartButtonEl.classList.remove('colab-df-spinner');\n",
              "      quickchartButtonEl.classList.add('colab-df-quickchart-complete');\n",
              "    }\n",
              "    (() => {\n",
              "      let quickchartButtonEl =\n",
              "        document.querySelector('#df-8c95b286-adcb-4d67-a07a-e9eccef434f0 button');\n",
              "      quickchartButtonEl.style.display =\n",
              "        google.colab.kernel.accessAllowed ? 'block' : 'none';\n",
              "    })();\n",
              "  </script>\n",
              "</div>\n",
              "    </div>\n",
              "  </div>\n"
            ]
          },
          "metadata": {},
          "execution_count": 776
        }
      ],
      "source": [
        "# Lee el archivo CSV usando pandas.\n",
        "nombre_archivo = 'fitness_class_2212.csv'\n",
        "df = pd.read_csv(nombre_archivo)\n",
        "\n",
        "df.head() # Visualización del contenido del archivo."
      ]
    },
    {
      "cell_type": "code",
      "source": [
        "df.shape # Tamaño de la base de datos."
      ],
      "metadata": {
        "id": "9TwwvFMFwVAr",
        "colab": {
          "base_uri": "https://localhost:8080/"
        },
        "outputId": "fe9a805d-6394-477d-ccec-0672be45a8b8"
      },
      "execution_count": 777,
      "outputs": [
        {
          "output_type": "execute_result",
          "data": {
            "text/plain": [
              "(1500, 8)"
            ]
          },
          "metadata": {},
          "execution_count": 777
        }
      ]
    },
    {
      "cell_type": "markdown",
      "source": [
        "Se comprueba que no haya niguna fila con valores del tipo NA y si la hay, se elimina."
      ],
      "metadata": {
        "id": "1yRKepqCmiLv"
      }
    },
    {
      "cell_type": "code",
      "source": [
        "if df.isna().any(axis=1).any():\n",
        "    df = df.dropna()\n",
        "    print(\"Se eliminaron filas con valores NA.\")\n",
        "\n",
        "else:\n",
        "    print(\"No se encontraron filas con valores NA.\")\n",
        "\n",
        "df.shape # Nuevo tamaño de la base de datos."
      ],
      "metadata": {
        "id": "SBu7NQ_rmsxp",
        "colab": {
          "base_uri": "https://localhost:8080/"
        },
        "outputId": "2deb1b3b-bc1c-458b-d58b-70fd2c5823df"
      },
      "execution_count": 778,
      "outputs": [
        {
          "output_type": "stream",
          "name": "stdout",
          "text": [
            "Se eliminaron filas con valores NA.\n"
          ]
        },
        {
          "output_type": "execute_result",
          "data": {
            "text/plain": [
              "(1480, 8)"
            ]
          },
          "metadata": {},
          "execution_count": 778
        }
      ]
    },
    {
      "cell_type": "markdown",
      "source": [
        "Se acabaron eliminando 20 filas con ese valor."
      ],
      "metadata": {
        "id": "4lg71Z69nHvz"
      }
    },
    {
      "cell_type": "markdown",
      "source": [
        "Se tiene un archivo con 1480 filas y 8 columnas, resulta que la etiqueta principal que es , si ha asistido a la clase o no, se encuentra en una de esas columnas lo cual se tendrá que separar del resto creando los valores por un lado y sus etiquetas por otro.\n",
        "\n",
        "Cabe recalcar que en una de las columnas representa el booking_id, el identificador de la reserva, cuyo valor no tiene ninguna correlación con el posible resultado de asistir o no a la clase, es por ello que esta columna se eliminará."
      ],
      "metadata": {
        "id": "AMp8lsYywVAs"
      }
    },
    {
      "cell_type": "code",
      "source": [
        "df = df.drop(df.columns[0], 1) # Se elimina la primera columna, booking_id.\n",
        "dflabel = df.pop(df.columns[6]) # Se asignan las etiquetas a otra variable.\n",
        "print('El tamaño del archivo mdificado es de:',df.shape,'\\n\\n')\n",
        "print('El tamaño de las etiquetas es de:',dflabel.shape,'\\n\\n')"
      ],
      "metadata": {
        "id": "kQ2RL_iZwVAs",
        "colab": {
          "base_uri": "https://localhost:8080/"
        },
        "outputId": "41c062af-0e26-44b0-a7c7-5dddde57c5e1"
      },
      "execution_count": 779,
      "outputs": [
        {
          "output_type": "stream",
          "name": "stdout",
          "text": [
            "El tamaño del archivo mdificado es de: (1480, 6) \n",
            "\n",
            "\n",
            "El tamaño de las etiquetas es de: (1480,) \n",
            "\n",
            "\n"
          ]
        },
        {
          "output_type": "stream",
          "name": "stderr",
          "text": [
            "<ipython-input-779-89fc83b7d7fa>:1: FutureWarning: In a future version of pandas all arguments of DataFrame.drop except for the argument 'labels' will be keyword-only.\n",
            "  df = df.drop(df.columns[0], 1) # Se elimina la primera columna, booking_id.\n"
          ]
        }
      ]
    },
    {
      "cell_type": "markdown",
      "source": [
        "Se procede a comprobar ahora en qué formato se encuentran los valores del archivo."
      ],
      "metadata": {
        "id": "ZFmj_qaywVAs"
      }
    },
    {
      "cell_type": "code",
      "source": [
        "for i in range(df.shape[1]):\n",
        "  print(type(df.iloc[0, i])) # Formato de las variables de los datos."
      ],
      "metadata": {
        "id": "OzW8Y5TowVAs",
        "colab": {
          "base_uri": "https://localhost:8080/"
        },
        "outputId": "2d1e203a-fdaf-4caa-a03b-f36ee59e3c61"
      },
      "execution_count": 780,
      "outputs": [
        {
          "output_type": "stream",
          "name": "stdout",
          "text": [
            "<class 'numpy.int64'>\n",
            "<class 'numpy.float64'>\n",
            "<class 'str'>\n",
            "<class 'str'>\n",
            "<class 'str'>\n",
            "<class 'str'>\n"
          ]
        }
      ]
    },
    {
      "cell_type": "markdown",
      "source": [
        "La primera variable, perteneciente a los meses de membresía, son números enteros, la segunda, el peso, son números reales y todos los demás están en formato 'string' cadena."
      ],
      "metadata": {
        "id": "-x0kc-RwwVAt"
      }
    },
    {
      "cell_type": "code",
      "source": [
        "print(type(dflabel.iloc[0]))"
      ],
      "metadata": {
        "id": "P3LBZZnewVAt",
        "colab": {
          "base_uri": "https://localhost:8080/"
        },
        "outputId": "356a77db-afda-42ee-cc96-d6aded73695c"
      },
      "execution_count": 781,
      "outputs": [
        {
          "output_type": "stream",
          "name": "stdout",
          "text": [
            "<class 'numpy.int64'>\n"
          ]
        }
      ]
    },
    {
      "cell_type": "markdown",
      "source": [
        "Las etiquetas son números enteros, de hecho son el 0, representando la no asistencia, y el 1, asiste."
      ],
      "metadata": {
        "id": "X7k-HP62wVAt"
      }
    },
    {
      "cell_type": "markdown",
      "source": [
        "Acontinuación, se va a proceder al recuento del número de veces que aparecen cada una de las variables categóricas de las reservas para ver si esos atributos aparecen un número parecido de veces. En caso contrario, los datos para poder entrenar el modelo estarían desequilibrados ya que habría más información de un tipo que de otro."
      ],
      "metadata": {
        "id": "q9cHoTUIj2kE"
      }
    },
    {
      "cell_type": "code",
      "source": [
        "for columna in df.columns[3:6]:\n",
        "    conteo_valores = df[columna].value_counts().to_string()\n",
        "    print(f\"Valores únicos para la columna '{columna}':\\n{conteo_valores}\\n\")"
      ],
      "metadata": {
        "id": "8CpQTMuri_r9",
        "colab": {
          "base_uri": "https://localhost:8080/"
        },
        "outputId": "e1b402d1-ead5-4fb1-b107-01fc004b4a6d"
      },
      "execution_count": 782,
      "outputs": [
        {
          "output_type": "stream",
          "name": "stdout",
          "text": [
            "Valores únicos para la columna 'day_of_week':\n",
            "Fri          277\n",
            "Thu          235\n",
            "Mon          215\n",
            "Sun          211\n",
            "Sat          200\n",
            "Tue          192\n",
            "Wed           79\n",
            "Wednesday     35\n",
            "Fri.          26\n",
            "Monday        10\n",
            "\n",
            "Valores únicos para la columna 'time':\n",
            "AM    1130\n",
            "PM     350\n",
            "\n",
            "Valores únicos para la columna 'category':\n",
            "HIIT        657\n",
            "Cycling     370\n",
            "Strength    231\n",
            "Yoga        135\n",
            "Aqua         74\n",
            "-            13\n",
            "\n"
          ]
        }
      ]
    },
    {
      "cell_type": "markdown",
      "source": [
        "En el anterior recuento se ven ciertas redundancias en los días de la semana, en el miércoles, el viernes y el lunes, se procede a resolverlas."
      ],
      "metadata": {
        "id": "_b4EB5Lnn-OS"
      }
    },
    {
      "cell_type": "code",
      "source": [
        "# Reemplazar el string 'Fri.' por 'Fri' en la columna 'day_of_week'.\n",
        "df['day_of_week'] = df['day_of_week'].replace('Fri.', 'Fri')\n",
        "\n",
        "# Reemplazar el string 'Wednesday' por 'Wed' en la columna 'day_of_week'.\n",
        "df['day_of_week'] = df['day_of_week'].replace('Wednesday', 'Wed')\n",
        "\n",
        "# Reemplazar el string 'Monday' por 'Mon' en la columna 'day_of_week'.\n",
        "df['day_of_week'] = df['day_of_week'].replace('Monday', 'Mon')\n",
        "\n",
        "# Imprimir los valores únicos actualizados.\n",
        "for columna in df.columns[3:6]:\n",
        "    conteo_valores = df[columna].value_counts().to_string()\n",
        "    print(f\"Valores únicos para la columna '{columna}':\\n{conteo_valores}\\n\")"
      ],
      "metadata": {
        "id": "hlRTGUxBoiC5",
        "colab": {
          "base_uri": "https://localhost:8080/"
        },
        "outputId": "f654a3b3-879d-4124-c3d8-404c42efffad"
      },
      "execution_count": 783,
      "outputs": [
        {
          "output_type": "stream",
          "name": "stdout",
          "text": [
            "Valores únicos para la columna 'day_of_week':\n",
            "Fri    303\n",
            "Thu    235\n",
            "Mon    225\n",
            "Sun    211\n",
            "Sat    200\n",
            "Tue    192\n",
            "Wed    114\n",
            "\n",
            "Valores únicos para la columna 'time':\n",
            "AM    1130\n",
            "PM     350\n",
            "\n",
            "Valores únicos para la columna 'category':\n",
            "HIIT        657\n",
            "Cycling     370\n",
            "Strength    231\n",
            "Yoga        135\n",
            "Aqua         74\n",
            "-            13\n",
            "\n"
          ]
        }
      ]
    },
    {
      "cell_type": "code",
      "source": [
        "conteo_valores = dflabel.value_counts().to_string()\n",
        "print(f\"Valores únicos para la etiqueta:\\n{conteo_valores}\\n\")"
      ],
      "metadata": {
        "id": "RCsoi2dllbEy",
        "colab": {
          "base_uri": "https://localhost:8080/"
        },
        "outputId": "5761c14c-edee-40d2-e7f7-b294a4fd317b"
      },
      "execution_count": 784,
      "outputs": [
        {
          "output_type": "stream",
          "name": "stdout",
          "text": [
            "Valores únicos para la etiqueta:\n",
            "0    1031\n",
            "1     449\n",
            "\n"
          ]
        }
      ]
    },
    {
      "cell_type": "markdown",
      "source": [
        "Un posible problema que podríamos encontrar es que el modelo sepa predecir mejor si el cliente no asistirá que al contrario ya que en nuestro conjunto de datos hay más información de aquellos clientes que no asisten que los que sí craando un desequilibrio. Se procederá a probar en qué casos el modelo predecirá mejor, si con los datos que tenemos actualmente, eliminando parte de las reservas en los que los clientes no asisten o realizando un aumento de los datos de clientes que sí asisten mediante la función SMOTE cuya explicación se dará próximamente."
      ],
      "metadata": {
        "id": "BH0KR1kINl2a"
      }
    },
    {
      "cell_type": "markdown",
      "source": [
        "Facilitaría al modelo para su convergencia transformar las variables categóricas de tipo string a one-hot encoding.\n",
        "\n",
        "One-hot encoding es un método para convertir variables categóricas en representaciones numéricas, creando columnas binarias (0 o 1) para cada categoría única en la columna original.\n",
        "\n",
        "Ello se realiza con el siguiente código, se transforman primero las variables del día de la semana."
      ],
      "metadata": {
        "id": "YjnEhbHQX6nS"
      }
    },
    {
      "cell_type": "code",
      "source": [
        "# Visualización del contenido del archivo antes de One-Hot Encoding.\n",
        "print(\"Antes de One-Hot Encoding:\")\n",
        "print(df.head())\n",
        "\n",
        "# Aplica One-Hot Encoding a la columna 'day_of_week'.\n",
        "df = pd.get_dummies(df, columns=['day_of_week'], prefix='day')\n",
        "\n",
        "# Visualización después de One-Hot Encoding.\n",
        "print(\"\\nDespués de One-Hot Encoding:\")\n",
        "print(df.head())"
      ],
      "metadata": {
        "id": "OmUm5mdDwVAv",
        "colab": {
          "base_uri": "https://localhost:8080/"
        },
        "outputId": "c14f39e3-3a3d-41da-985f-9b4d3478ff90"
      },
      "execution_count": 785,
      "outputs": [
        {
          "output_type": "stream",
          "name": "stdout",
          "text": [
            "Antes de One-Hot Encoding:\n",
            "   months_as_member  weight days_before day_of_week time  category\n",
            "0                17   79.56           8         Wed   PM  Strength\n",
            "1                10   79.01           2         Mon   AM      HIIT\n",
            "2                16   74.53          14         Sun   AM  Strength\n",
            "3                 5   86.12          10         Fri   AM   Cycling\n",
            "4                15   69.29           8         Thu   AM      HIIT\n",
            "\n",
            "Después de One-Hot Encoding:\n",
            "   months_as_member  weight days_before time  category  day_Fri  day_Mon  \\\n",
            "0                17   79.56           8   PM  Strength        0        0   \n",
            "1                10   79.01           2   AM      HIIT        0        1   \n",
            "2                16   74.53          14   AM  Strength        0        0   \n",
            "3                 5   86.12          10   AM   Cycling        1        0   \n",
            "4                15   69.29           8   AM      HIIT        0        0   \n",
            "\n",
            "   day_Sat  day_Sun  day_Thu  day_Tue  day_Wed  \n",
            "0        0        0        0        0        1  \n",
            "1        0        0        0        0        0  \n",
            "2        0        1        0        0        0  \n",
            "3        0        0        0        0        0  \n",
            "4        0        0        1        0        0  \n"
          ]
        }
      ]
    },
    {
      "cell_type": "markdown",
      "source": [
        "Acontinuación se transforman a one-hot encoding las variables que determinan el tipo de clase, strength, HIIT..."
      ],
      "metadata": {
        "id": "Yt35JIPjlMtc"
      }
    },
    {
      "cell_type": "code",
      "source": [
        "# Visualización del contenido del archivo antes de One-Hot Encoding.\n",
        "print(\"Antes de One-Hot Encoding:\")\n",
        "print(df.head())\n",
        "\n",
        "# Aplica One-Hot Encoding a la columna 'category'.\n",
        "df = pd.get_dummies(df, columns=['category'], prefix='category')\n",
        "\n",
        "# Visualización después de One-Hot Encoding.\n",
        "print(\"\\nDespués de One-Hot Encoding:\")\n",
        "print(df.head())"
      ],
      "metadata": {
        "id": "TwYMtczDgyy8",
        "colab": {
          "base_uri": "https://localhost:8080/"
        },
        "outputId": "38238fed-ecb1-4778-c4d2-0d9156a9df11"
      },
      "execution_count": 786,
      "outputs": [
        {
          "output_type": "stream",
          "name": "stdout",
          "text": [
            "Antes de One-Hot Encoding:\n",
            "   months_as_member  weight days_before time  category  day_Fri  day_Mon  \\\n",
            "0                17   79.56           8   PM  Strength        0        0   \n",
            "1                10   79.01           2   AM      HIIT        0        1   \n",
            "2                16   74.53          14   AM  Strength        0        0   \n",
            "3                 5   86.12          10   AM   Cycling        1        0   \n",
            "4                15   69.29           8   AM      HIIT        0        0   \n",
            "\n",
            "   day_Sat  day_Sun  day_Thu  day_Tue  day_Wed  \n",
            "0        0        0        0        0        1  \n",
            "1        0        0        0        0        0  \n",
            "2        0        1        0        0        0  \n",
            "3        0        0        0        0        0  \n",
            "4        0        0        1        0        0  \n",
            "\n",
            "Después de One-Hot Encoding:\n",
            "   months_as_member  weight days_before time  day_Fri  day_Mon  day_Sat  \\\n",
            "0                17   79.56           8   PM        0        0        0   \n",
            "1                10   79.01           2   AM        0        1        0   \n",
            "2                16   74.53          14   AM        0        0        0   \n",
            "3                 5   86.12          10   AM        1        0        0   \n",
            "4                15   69.29           8   AM        0        0        0   \n",
            "\n",
            "   day_Sun  day_Thu  day_Tue  day_Wed  category_-  category_Aqua  \\\n",
            "0        0        0        0        1           0              0   \n",
            "1        0        0        0        0           0              0   \n",
            "2        1        0        0        0           0              0   \n",
            "3        0        0        0        0           0              0   \n",
            "4        0        1        0        0           0              0   \n",
            "\n",
            "   category_Cycling  category_HIIT  category_Strength  category_Yoga  \n",
            "0                 0              0                  1              0  \n",
            "1                 0              1                  0              0  \n",
            "2                 0              0                  1              0  \n",
            "3                 1              0                  0              0  \n",
            "4                 0              1                  0              0  \n"
          ]
        }
      ]
    },
    {
      "cell_type": "markdown",
      "source": [
        "Por último, se convierte en codificación binaria la hora en la que se realiza la clase."
      ],
      "metadata": {
        "id": "NRQbMO4jln8m"
      }
    },
    {
      "cell_type": "code",
      "source": [
        "# Visualización del contenido del archivo antes de la conversión.\n",
        "print(\"Antes de la conversión:\")\n",
        "print(df['time'].head())\n",
        "\n",
        "# Mapear 'AM' a 0 y 'PM' a 1 en la columna 'time'.\n",
        "df['time'] = df['time'].map({'AM': 0, 'PM': 1})\n",
        "\n",
        "# Visualización después de la conversión.\n",
        "print(\"\\nDespués de la conversión:\")\n",
        "print(df['time'].head())"
      ],
      "metadata": {
        "id": "ThmLiMIpiMb1",
        "colab": {
          "base_uri": "https://localhost:8080/"
        },
        "outputId": "255b7705-cd4b-482f-a3f8-4e4b0bdfbfb7"
      },
      "execution_count": 787,
      "outputs": [
        {
          "output_type": "stream",
          "name": "stdout",
          "text": [
            "Antes de la conversión:\n",
            "0    PM\n",
            "1    AM\n",
            "2    AM\n",
            "3    AM\n",
            "4    AM\n",
            "Name: time, dtype: object\n",
            "\n",
            "Después de la conversión:\n",
            "0    1\n",
            "1    0\n",
            "2    0\n",
            "3    0\n",
            "4    0\n",
            "Name: time, dtype: int64\n"
          ]
        }
      ]
    },
    {
      "cell_type": "markdown",
      "source": [
        "De esta forma la base de datos quedaría así:"
      ],
      "metadata": {
        "id": "BhOcY3mBlxw0"
      }
    },
    {
      "cell_type": "code",
      "source": [
        "print(df.head())# Ejemplo de los 5 primeros datos."
      ],
      "metadata": {
        "id": "A9K5uwe1iNS1",
        "colab": {
          "base_uri": "https://localhost:8080/"
        },
        "outputId": "fefa2d06-5690-4d10-cd1c-13b1e0a06125"
      },
      "execution_count": 788,
      "outputs": [
        {
          "output_type": "stream",
          "name": "stdout",
          "text": [
            "   months_as_member  weight days_before  time  day_Fri  day_Mon  day_Sat  \\\n",
            "0                17   79.56           8     1        0        0        0   \n",
            "1                10   79.01           2     0        0        1        0   \n",
            "2                16   74.53          14     0        0        0        0   \n",
            "3                 5   86.12          10     0        1        0        0   \n",
            "4                15   69.29           8     0        0        0        0   \n",
            "\n",
            "   day_Sun  day_Thu  day_Tue  day_Wed  category_-  category_Aqua  \\\n",
            "0        0        0        0        1           0              0   \n",
            "1        0        0        0        0           0              0   \n",
            "2        1        0        0        0           0              0   \n",
            "3        0        0        0        0           0              0   \n",
            "4        0        1        0        0           0              0   \n",
            "\n",
            "   category_Cycling  category_HIIT  category_Strength  category_Yoga  \n",
            "0                 0              0                  1              0  \n",
            "1                 0              1                  0              0  \n",
            "2                 0              0                  1              0  \n",
            "3                 1              0                  0              0  \n",
            "4                 0              1                  0              0  \n"
          ]
        }
      ]
    },
    {
      "cell_type": "code",
      "source": [
        "import pandas as pd\n",
        "import matplotlib.pyplot as plt\n",
        "import seaborn as sns\n",
        "# Gráfico de la primera columna 'months_as_member'.\n",
        "plt.figure(figsize=(10, 6))\n",
        "sns.histplot(df['months_as_member'], bins=30, kde=True, color='skyblue')\n",
        "plt.title('Distribución de meses como miembro')\n",
        "plt.xlabel('Meses como miembro')\n",
        "plt.ylabel('Frecuencia')\n",
        "plt.show()"
      ],
      "metadata": {
        "id": "E9zOUY6mb8DJ",
        "colab": {
          "base_uri": "https://localhost:8080/",
          "height": 563
        },
        "outputId": "ba9dd24a-9be2-466d-c3a4-25e6d8eba0ca"
      },
      "execution_count": 789,
      "outputs": [
        {
          "output_type": "display_data",
          "data": {
            "text/plain": [
              "<Figure size 1000x600 with 1 Axes>"
            ],
            "image/png": "[encoded data removed]"
          },
          "metadata": {}
        }
      ]
    },
    {
      "cell_type": "code",
      "source": [
        "# Estadísticas básicas de 'months_as_member'.\n",
        "estadisticas1 = df['months_as_member'].describe()\n",
        "\n",
        "# Visualización de estadísticas.\n",
        "print(estadisticas1)"
      ],
      "metadata": {
        "id": "vkfYND7kjw8p",
        "colab": {
          "base_uri": "https://localhost:8080/"
        },
        "outputId": "cc73a227-00fb-4e54-db98-6f3358d5d27d"
      },
      "execution_count": 790,
      "outputs": [
        {
          "output_type": "stream",
          "name": "stdout",
          "text": [
            "count    1480.000000\n",
            "mean       15.659459\n",
            "std        12.971138\n",
            "min         1.000000\n",
            "25%         8.000000\n",
            "50%        12.000000\n",
            "75%        19.000000\n",
            "max       148.000000\n",
            "Name: months_as_member, dtype: float64\n"
          ]
        }
      ]
    },
    {
      "cell_type": "markdown",
      "source": [
        "Número de Observaciones (Count): Hay 1480 observaciones en la variable 'months_as_member'. Esto indica el tamaño del conjunto de datos.\n",
        "\n",
        "Media (Mean): La media es aproximadamente 15.66 meses. Indica el valor promedio de la variable 'months_as_member' en el conjunto de datos.\n",
        "\n",
        "Desviación Estándar (Std): La desviación estándar es aproximadamente 12.97 meses. Muestra la dispersión de los datos alrededor de la media. En este caso, la desviación estándar es relativamente alta, indicando una variabilidad significativa en los meses de membresía.\n",
        "\n",
        "Valor Mínimo y Máximo (Min y Max): El valor mínimo es 1 mes, y el valor máximo es 148 meses. Esto proporciona información sobre el rango de la variable.\n",
        "\n",
        "Percentiles (25%, 50%, 75%): Estos son valores que dividen los datos en porcentajes. El percentil 25 (Q1) es 8 meses, el percentil 50 (mediana o Q2) es 12 meses y el percentil 75 (Q3) es 19 meses. Estos percentiles ayudan a comprender la distribución en términos de cuartiles.\n",
        "\n",
        "Podemos concluir que la distribución de 'months_as_member' es bastante sesgada hacia la derecha, ya que la media es mayor que la mediana. Además, la gran desviación estándar indica una dispersión considerable en los datos."
      ],
      "metadata": {
        "id": "favz49ltj0Pl"
      }
    },
    {
      "cell_type": "code",
      "source": [
        "plt.figure(figsize=(10, 6))\n",
        "sns.histplot(df['weight'], bins=30, kde=True, color='salmon')\n",
        "plt.title('Distribución de pesos')\n",
        "plt.xlabel('Peso')\n",
        "plt.ylabel('Frecuencia')\n",
        "plt.show()"
      ],
      "metadata": {
        "id": "kCCGyfwmcK7a",
        "colab": {
          "base_uri": "https://localhost:8080/",
          "height": 564
        },
        "outputId": "da607c18-17c6-40bf-890c-ed94f5316ebe"
      },
      "execution_count": 791,
      "outputs": [
        {
          "output_type": "display_data",
          "data": {
            "text/plain": [
              "<Figure size 1000x600 with 1 Axes>"
            ],
            "image/png": "[encoded data removed]"
          },
          "metadata": {}
        }
      ]
    },
    {
      "cell_type": "code",
      "source": [
        "# Estadísticas básicas de 'weight'.\n",
        "estadisticas2 = df['weight'].describe()\n",
        "\n",
        "# Visualización de estadísticas.\n",
        "print(estadisticas2)"
      ],
      "metadata": {
        "id": "O4Bn-XXLlqH6",
        "colab": {
          "base_uri": "https://localhost:8080/"
        },
        "outputId": "a9d2e1e2-200c-4bbb-9502-5fcf440152dc"
      },
      "execution_count": 792,
      "outputs": [
        {
          "output_type": "stream",
          "name": "stdout",
          "text": [
            "count    1480.000000\n",
            "mean       82.610378\n",
            "std        12.765859\n",
            "min        55.410000\n",
            "25%        73.490000\n",
            "50%        80.760000\n",
            "75%        89.520000\n",
            "max       170.520000\n",
            "Name: weight, dtype: float64\n"
          ]
        }
      ]
    },
    {
      "cell_type": "markdown",
      "source": [
        "Número de Observaciones (Count): Hay 1480 observaciones en la variable 'weight'. Esto indica el tamaño del conjunto de datos.\n",
        "\n",
        "Media (Mean): La media es aproximadamente 82.61. Indica el valor promedio de la variable 'weight' en el conjunto de datos.\n",
        "\n",
        "Desviación Estándar (Std): La desviación estándar es aproximadamente 12.77. Muestra la dispersión de los datos alrededor de la media. En este caso, la desviación estándar es moderada, indicando cierta variabilidad en los pesos.\n",
        "\n",
        "Valor Mínimo y Máximo (Min y Max): El valor mínimo es 55.41 y el valor máximo es 170.52. Esto proporciona información sobre el rango de la variable.\n",
        "\n",
        "Percentiles (25%, 50%, 75%): Estos son valores que dividen los datos en porcentajes. El percentil 25 (Q1) es 73.49, el percentil 50 (mediana o Q2) es 80.76, y el percentil 75 (Q3) es 89.52. Estos percentiles ayudan a comprender la distribución en términos de cuartiles.\n",
        "\n",
        "Podemos concluir que la distribución de 'weight' tiene una media y mediana relativamente cercanas, lo que sugiere una forma de distribución simétrica o ligeramente sesgada. La desviación estándar moderada indica cierta variabilidad en los pesos."
      ],
      "metadata": {
        "id": "alXZpu4-lrDR"
      }
    },
    {
      "cell_type": "markdown",
      "source": [
        "La frecuencia con que aparecen los mismos días con los que se reservó con antelación."
      ],
      "metadata": {
        "id": "FCqzwtjbmUP-"
      }
    },
    {
      "cell_type": "code",
      "source": [
        "# Calcular la frecuencia de la variable 'days_before'.\n",
        "frecuencia = df['days_before'].value_counts()\n",
        "\n",
        "# Crear una tabla con los resultados.\n",
        "tabla_frecuencia = pd.DataFrame({'days_before': frecuencia.index, 'Frecuencia': frecuencia.values})\n",
        "\n",
        "# Mostrar la tabla.\n",
        "print(tabla_frecuencia)"
      ],
      "metadata": {
        "id": "LIUb3cDvfYuA",
        "colab": {
          "base_uri": "https://localhost:8080/"
        },
        "outputId": "3c97dd7a-0ce2-456a-92c6-0d970a0c57df"
      },
      "execution_count": 793,
      "outputs": [
        {
          "output_type": "stream",
          "name": "stdout",
          "text": [
            "   days_before  Frecuencia\n",
            "0           10         290\n",
            "1            2         197\n",
            "2            8         190\n",
            "3           12         177\n",
            "4           14         170\n",
            "5            4         153\n",
            "6            6          70\n",
            "7            7          37\n",
            "8            3          31\n",
            "9            5          27\n",
            "10          11          25\n",
            "11          13          25\n",
            "12          15          24\n",
            "13           9          23\n",
            "14           1           8\n",
            "15     10 days           6\n",
            "16     14 days           3\n",
            "17     12 days           3\n",
            "18      6 days           3\n",
            "19      4 days           3\n",
            "20          16           3\n",
            "21          17           3\n",
            "22          20           1\n",
            "23      2 days           1\n",
            "24      5 days           1\n",
            "25      7 days           1\n",
            "26      8 days           1\n",
            "27      1 days           1\n",
            "28      3 days           1\n",
            "29     13 days           1\n",
            "30          29           1\n"
          ]
        }
      ]
    },
    {
      "cell_type": "markdown",
      "source": [
        "Se ven ciertos problemas de formato como que en algunos aparece la palabra days. Se resuelve este problema con el siguiente código."
      ],
      "metadata": {
        "id": "hQZATdtCmo6Z"
      }
    },
    {
      "cell_type": "code",
      "source": [
        "# Eliminar la palabra 'days' de la variable 'days_before'.\n",
        "df['days_before'] = df['days_before'].str.replace(' days', '')\n",
        "\n",
        "# Convertir la variable 'days_before' a tipo numérico.\n",
        "df['days_before'] = pd.to_numeric(df['days_before'], errors='coerce')\n",
        "\n",
        "# Calcular la frecuencia de la variable 'days_before' después de los cambios.\n",
        "frecuencia = df['days_before'].value_counts()\n",
        "\n",
        "# Crear una tabla con los resultados.\n",
        "tabla_frecuencia = pd.DataFrame({'days_before': frecuencia.index, 'Frecuencia': frecuencia.values})\n",
        "\n",
        "# Mostrar la tabla.\n",
        "print(tabla_frecuencia)"
      ],
      "metadata": {
        "id": "rjtOBrpRfbS4",
        "colab": {
          "base_uri": "https://localhost:8080/"
        },
        "outputId": "9ff0beb4-528d-4a3d-9ecb-88097fdf8bd3"
      },
      "execution_count": 794,
      "outputs": [
        {
          "output_type": "stream",
          "name": "stdout",
          "text": [
            "    days_before  Frecuencia\n",
            "0            10         296\n",
            "1             2         198\n",
            "2             8         191\n",
            "3            12         180\n",
            "4            14         173\n",
            "5             4         156\n",
            "6             6          73\n",
            "7             7          38\n",
            "8             3          32\n",
            "9             5          28\n",
            "10           13          26\n",
            "11           11          25\n",
            "12           15          24\n",
            "13            9          23\n",
            "14            1           9\n",
            "15           16           3\n",
            "16           17           3\n",
            "17           20           1\n",
            "18           29           1\n"
          ]
        }
      ]
    },
    {
      "cell_type": "code",
      "source": [
        "# Crear el gráfico de barras.\n",
        "plt.figure(figsize=(10, 6))\n",
        "plt.bar(tabla_frecuencia['days_before'], tabla_frecuencia['Frecuencia'], color='skyblue')\n",
        "plt.title('Frecuencia de days_before')\n",
        "plt.xlabel('days_before')\n",
        "plt.ylabel('Frecuencia')\n",
        "plt.grid(axis='y', linestyle='--', alpha=0.7)\n",
        "\n",
        "# Mostrar el gráfico.\n",
        "plt.show()"
      ],
      "metadata": {
        "id": "pxuIHk_PhVGi",
        "colab": {
          "base_uri": "https://localhost:8080/",
          "height": 563
        },
        "outputId": "b32e8994-ecb3-4dde-c228-6aa72cc0b409"
      },
      "execution_count": 795,
      "outputs": [
        {
          "output_type": "display_data",
          "data": {
            "text/plain": [
              "<Figure size 1000x600 with 1 Axes>"
            ],
            "image/png": "[encoded data removed]"
          },
          "metadata": {}
        }
      ]
    },
    {
      "cell_type": "code",
      "source": [
        "# Estadísticas descriptivas para 'days_before'.\n",
        "estadisticas_days_before = df['days_before'].describe()\n",
        "\n",
        "# Imprimir las estadísticas.\n",
        "print(estadisticas_days_before)"
      ],
      "metadata": {
        "id": "XC_7jLmDnBgU",
        "colab": {
          "base_uri": "https://localhost:8080/"
        },
        "outputId": "7a7e21a4-d3d6-4e75-8649-07f249d4de01"
      },
      "execution_count": 796,
      "outputs": [
        {
          "output_type": "stream",
          "name": "stdout",
          "text": [
            "count    1480.000000\n",
            "mean        8.356081\n",
            "std         4.082097\n",
            "min         1.000000\n",
            "25%         4.000000\n",
            "50%         9.000000\n",
            "75%        12.000000\n",
            "max        29.000000\n",
            "Name: days_before, dtype: float64\n"
          ]
        }
      ]
    },
    {
      "cell_type": "markdown",
      "source": [
        "Número de Observaciones (Count): Hay 1480 observaciones en la variable 'days_before'. Esto indica el tamaño del conjunto de datos.\n",
        "\n",
        "Media (Mean): La media es aproximadamente 8.36. Indica el valor promedio de la variable 'days_before' en el conjunto de datos después de la transformación.\n",
        "\n",
        "Desviación Estándar (Std): La desviación estándar es aproximadamente 4.08. Muestra la dispersión de los datos alrededor de la media. En este caso, la desviación estándar es moderada, indicando cierta variabilidad en los días antes del evento.\n",
        "\n",
        "Valor Mínimo y Máximo (Min y Max): El valor mínimo es 1 y el valor máximo es 29. Esto proporciona información sobre el rango de la variable.\n",
        "\n",
        "Percentiles (25%, 50%, 75%): Estos son valores que dividen los datos en porcentajes. El percentil 25 (Q1) es 4, el percentil 50 (mediana o Q2) es 9, y el percentil 75 (Q3) es 12. Estos percentiles ayudan a comprender la distribución en términos de cuartiles.\n",
        "\n",
        "Podemos concluir que la distribución de 'days_before' tiene una mediana cercana a la media, lo que sugiere una forma de distribución simétrica. La desviación estándar moderada indica cierta variabilidad en los días antes del evento."
      ],
      "metadata": {
        "id": "hZuhiaXznCnP"
      }
    },
    {
      "cell_type": "markdown",
      "source": [
        "Para que los datos aún estén mucho mejor adaptados facilitando el entrenamiento de nuestro modelo se procede a normalizar las variables númericas, el peso, días de antelación de reserva y meses de membresía. De esta forma todas las variables quedan comprendidas en una escala unitaria.\n",
        "\n",
        "No obstante, cabe recalcar que al normalizar dichas variables es importante que los datos que se vayan a utilizar en el test se normalicen en función de la escala de los valores de entrenamiento, se utilizan las medias y las desviaciones de los datos de entrenamiento para normalizar los de test.\n",
        "\n",
        "Por tanto, antes debemos separar los datos de test y de entrenamiento, de todos los datos alrededor del 25% serán de test y los demás de entrenamiento."
      ],
      "metadata": {
        "id": "ErsxCy31nH_x"
      }
    },
    {
      "cell_type": "code",
      "source": [
        "import random\n",
        "\n",
        "número = int(df.shape[0]*0.25) # 25% de los datos son de test.\n",
        "print('El 25% de los datos serán de test, es decir:',número,'\\n')\n",
        "print('Número de datos de entrenamiento es de:',df.shape[0]-número,'\\n')\n",
        "\n",
        "# Generar un vector de n valores siendo n alrededor del 25% de los datos.\n",
        "# Números enteros aleatorios entre 0 y 1479.\n",
        "vector_sin_repeticion = random.sample(range(0, 1480), número)\n",
        "\n",
        "# Convertir a enteros si se generan como flotantes.\n",
        "# Índices de las filas a seleccionar.\n",
        "indices_a_mover = [int(num) for num in vector_sin_repeticion]\n",
        "df_test = df.iloc[indices_a_mover]  # Seleccionar las filas\n",
        "dflabel_test = dflabel.iloc[indices_a_mover]  # Seleccionar las filas.\n",
        "\n",
        "# Resetear el índice de filas del DataFrame.\n",
        "df_test = df_test.reset_index(drop=True)\n",
        "dflabel_test = dflabel_test.reset_index(drop=True)\n",
        "df = df.reset_index(drop=True)\n",
        "dflabel = dflabel.reset_index(drop=True)\n",
        "\n",
        "# Eliminar las filas seleccionadas del DataFrame original.\n",
        "df = df.drop(indices_a_mover)\n",
        "dflabel = dflabel.drop(indices_a_mover)"
      ],
      "metadata": {
        "id": "PNW8vzVbW44W",
        "colab": {
          "base_uri": "https://localhost:8080/"
        },
        "outputId": "d27b11aa-6552-4fc8-94bf-4636f9af59ae"
      },
      "execution_count": 797,
      "outputs": [
        {
          "output_type": "stream",
          "name": "stdout",
          "text": [
            "El 25% de los datos serán de test, es decir: 370 \n",
            "\n",
            "Número de datos de entrenamiento es de: 1110 \n",
            "\n"
          ]
        }
      ]
    },
    {
      "cell_type": "code",
      "source": [
        "# Se procede a comprobar las dimensiones de ambos conjuntos de datos.\n",
        "\n",
        "print(df_test.shape,',',dflabel_test.shape,'\\n')\n",
        "print(df.shape,',',dflabel.shape,'\\n')\n"
      ],
      "metadata": {
        "id": "M7EYpM2vXnMU",
        "colab": {
          "base_uri": "https://localhost:8080/"
        },
        "outputId": "fee5e127-c8f8-4391-a680-07ff9b4bdbab"
      },
      "execution_count": 798,
      "outputs": [
        {
          "output_type": "stream",
          "name": "stdout",
          "text": [
            "(370, 17) , (370,) \n",
            "\n",
            "(1110, 17) , (1110,) \n",
            "\n"
          ]
        }
      ]
    },
    {
      "cell_type": "markdown",
      "source": [
        "Se va a aplicar la normalización z-score, que consiste en restar la media de los datos y dividir por la desviación estándar."
      ],
      "metadata": {
        "id": "GhvnrATZgLIh"
      }
    },
    {
      "cell_type": "code",
      "source": [
        "from sklearn.preprocessing import StandardScaler\n",
        "\n",
        "# Crear un objeto StandardScaler.\n",
        "scaler = StandardScaler()\n",
        "\n",
        "# Normalizar los datos de entrenamiento.\n",
        "df_normalized = scaler.fit_transform(df)\n",
        "\n",
        "# Normalizar los datos de prueba utilizando la media y la desviación estándar\n",
        "# aprendidas del conjunto de entrenamiento.\n",
        "df_test_normalized = scaler.transform(df_test)\n",
        "\n",
        "# Ahora, df_normalized y df_test_normalized contienen los datos normalizados."
      ],
      "metadata": {
        "id": "s1g20hgz5OG8"
      },
      "execution_count": 799,
      "outputs": []
    },
    {
      "cell_type": "markdown",
      "source": [
        "Para combrobar que está bien normalizado, se debe observar si tienen una media cercana a cero y una desviación estándar cercana a uno."
      ],
      "metadata": {
        "id": "Vw7sbR9N5Stq"
      }
    },
    {
      "cell_type": "code",
      "source": [
        "# Calcular la media y desviación estándar de los datos de entrenamiento\n",
        "# normalizados.\n",
        "mean_train = df_normalized.mean(axis=0)\n",
        "std_train = df_normalized.std(axis=0)\n",
        "\n",
        "# Imprimir la media y desviación estándar de los datos de entrenamiento\n",
        "# normalizados.\n",
        "print(\"Media de los datos de entrenamiento normalizados:\\n\", mean_train)\n",
        "print(\"\\nDesviación estándar de los datos de entrenamiento normalizados:\\n\", std_train)\n",
        "\n",
        "# Calcular la media y desviación estándar de los datos de prueba normalizados.\n",
        "mean_test = df_test_normalized.mean(axis=0)\n",
        "std_test = df_test_normalized.std(axis=0)\n",
        "\n",
        "# Imprimir la media y desviación estándar de los datos de prueba normalizados.\n",
        "print(\"\\nMedia de los datos de prueba normalizados:\\n\", mean_test)\n",
        "print(\"\\nDesviación estándar de los datos de prueba normalizados:\\n\", std_test)"
      ],
      "metadata": {
        "id": "CNWyogYB5X7I",
        "colab": {
          "base_uri": "https://localhost:8080/"
        },
        "outputId": "e829e9f8-4f42-4406-b610-3b80bcb4cc8d"
      },
      "execution_count": 800,
      "outputs": [
        {
          "output_type": "stream",
          "name": "stdout",
          "text": [
            "Media de los datos de entrenamiento normalizados:\n",
            " [ 6.08122161e-17 -1.60032148e-16 -2.72054651e-17  0.00000000e+00\n",
            " -2.72054651e-17  8.64173598e-17 -1.92038577e-17  9.60192886e-18\n",
            "  3.36067510e-17  3.20064295e-18 -5.12102873e-17  0.00000000e+00\n",
            "  3.20064295e-18 -3.04061081e-17 -4.96099658e-17  1.44028933e-17\n",
            "  1.52030540e-17]\n",
            "\n",
            "Desviación estándar de los datos de entrenamiento normalizados:\n",
            " [1. 1. 1. 1. 1. 1. 1. 1. 1. 1. 1. 1. 1. 1. 1. 1. 1.]\n",
            "\n",
            "Media de los datos de prueba normalizados:\n",
            " [-0.13943703  0.0488922  -0.13595049 -0.00423751 -0.0066899   0.17557806\n",
            " -0.11256584 -0.05839294  0.01236076 -0.04240349  0.04821971  0.07455251\n",
            "  0.04224979 -0.02900665 -0.04527611  0.01244814  0.05423234]\n",
            "\n",
            "Desviación estándar de los datos de prueba normalizados:\n",
            " [0.76399341 0.938786   1.0502246  0.99736591 0.99508729 1.15759425\n",
            " 0.87201009 0.93843447 1.01146975 0.95222154 1.07461058 1.36495049\n",
            " 1.08509606 0.98296712 0.99436734 1.01172344 1.07495802]\n"
          ]
        }
      ]
    },
    {
      "cell_type": "markdown",
      "source": [
        "Las medias de los datos de entrenamiento normalizados son cercanas a cero, lo cual es un indicativo de que la normalización se ha realizado correctamente.\n",
        "\n",
        "Las desviaciones estándar de los datos de entrenamiento normalizados son todas muy cercanas a uno, lo cual es otro indicativo de que la normalización ha sido exitosa.\n",
        "\n",
        "Las medias y desviaciones estándar de los datos de prueba normalizados también siguen patrones similares, lo cual es lo esperado cuando se normalizan los datos de prueba utilizando los parámetros (media y desviación estándar) aprendidos del conjunto de entrenamiento."
      ],
      "metadata": {
        "id": "Z78db6X_5arC"
      }
    },
    {
      "cell_type": "markdown",
      "source": [
        "# Método\n",
        "\n",
        "Una vez realizada la adaptación de los datos, ingeniería de datos, se procede a realizar el modelo. El objetivo es crear un modelo de aprendizaje automático que que sepa predecir con la precisión más alta posible si el cliente que ha hecho la reserva asistirá o no a la clase, lo más importante es conseguir que el modelo tenga buenos resultados con datos que no haya visto nunca, es decir, que generalice y no se sobreentrene.\n",
        "\n",
        "El método que se utilizará es el de arquitectura de red neuronal. Al tratarse el problema de una clasificación binaria es una arquitectura que se puede adaptar bien al problema y que, además, a diferencia de otros modelos, puede resultar en una rápida convergencia.\n",
        "\n",
        "El objetivo es empezar construyendo una red sencilla e ir haciendo diferentes cambios y adaptaciones para mejorar el modelo contruyendo cada vez una arquitectura más y más compleja que sepa encontrar con éxito patrones ocultos en nuestros datos.\n",
        "\n",
        "Las redes neuronales son un modelo, arquitectura, inspirado en la estructura y funcionamiento del cerebro humano. Está compuesta por múltiples nodos interconectados, llamados neuronas, organizados en capas. Estas redes se utilizan para aprender representaciones complejas de los datos y realizar tareas de clasificación, regresión, agrupación, entre otras.  \n",
        "\n",
        "En una red neuronal típica, hay tres tipos de capas:  \n",
        "\n",
        "Capa de entrada (Input Layer): Recibe los datos de entrada y transmite esta información a la siguiente capa. Cada nodo en esta capa representa una característica o atributo del conjunto de datos.\n",
        "\n",
        "Capas ocultas (Hidden Layers): Estas capas intermedias procesan la información de entrada mediante operaciones matriciales y aplicaciones de funciones de activación. Cada capa oculta realiza cálculos complejos para aprender representaciones más abstractas y significativas de los datos.\n",
        "\n",
        "Capa de salida (Output Layer): Esta capa produce los resultados finales de la red neuronal. Dependiendo del tipo de tarea (clasificación, regresión, etc.), la capa de salida puede tener uno o varios nodos, cada uno correspondiendo a una clase, valor de regresión, o cualquier otra salida deseada. El aprendizaje en una red neuronal ocurre a través de un proceso llamado \"entrenamiento\". Durante el entrenamiento, el modelo ajusta los pesos y sesgos de sus conexiones para minimizar la diferencia entre las salidas predichas y las salidas reales, utilizando técnicas como el descenso del gradiente y la retropropagación.\n",
        "\n",
        "![RNA_2_CAPAS.JPG](data:image/jpeg;base64,/9j/4AAQSkZJRgABAQEAYABgAAD/4RD0RXhpZgAATU0AKgAAAAgABAE7AAIAAAAOAAAISodpAAQAAAABAAAIWJydAAEAAAAcAAAQ0OocAAcAAAgMAAAAPgAAAAAc6gAAAAgAAAAAAAAAAAAAAAAAAAAAAAAAAAAAAAAAAAAAAAAAAAAAAAAAAAAAAAAAAAAAAAAAAAAAAAAAAAAAAAAAAAAAAAAAAAAAAAAAAAAAAAAAAAAAAAAAAAAAAAAAAAAAAAAAAAAAAAAAAAAAAAAAAAAAAAAAAAAAAAAAAAAAAAAAAAAAAAAAAAAAAAAAAAAAAAAAAAAAAAAAAAAAAAAAAAAAAAAAAAAAAAAAAAAAAAAAAAAAAAAAAAAAAAAAAAAAAAAAAAAAAAAAAAAAAAAAAAAAAAAAAAAAAAAAAAAAAAAAAAAAAAAAAAAAAAAAAAAAAAAAAAAAAAAAAAAAAAAAAAAAAAAAAAAAAAAAAAAAAAAAAAAAAAAAAAAAAAAAAAAAAAAAAAAAAAAAAAAAAAAAAAAAAAAAAAAAAAAAAAAAAAAAAAAAAAAAAAAAAAAAAAAAAAAAAAAAAAAAAAAAAAAAAAAAAAAAAAAAAAAAAAAAAAAAAAAAAAAAAAAAAAAAAAAAAAAAAAAAAAAAAAAAAAAAAAAAAAAAAAAAAAAAAAAAAAAAAAAAAAAAAAAAAAAAAAAAAAAAAAAAAAAAAAAAAAAAAAAAAAAAAAAAAAAAAAAAAAAAAAAAAAAAAAAAAAAAAAAAAAAAAAAAAAAAAAAAAAAAAAAAAAAAAAAAAAAAAAAAAAAAAAAAAAAAAAAAAAAAAAAAAAAAAAAAAAAAAAAAAAAAAAAAAAAAAAAAAAAAAAAAAAAAAAAAAAAAAAAAAAAAAAAAAAAAAAAAAAAAAAAAAAAAAAAAAAAAAAAAAAAAAAAAAAAAAAAAAAAAAAAAAAAAAAAAAAAAAAAAAAAAAAAAAAAAAAAAAAAAAAAAAAAAAAAAAAAAAAAAAAAAAAAAAAAAAAAAAAAAAAAAAAAAAAAAAAAAAAAAAAAAAAAAAAAAAAAAAAAAAAAAAAAAAAAAAAAAAAAAAAAAAAAAAAAAAAAAAAAAAAAAAAAAAAAAAAAAAAAAAAAAAAAAAAAAAAAAAAAAAAAAAAAAAAAAAAAAAAAAAAAAAAAAAAAAAAAAAAAAAAAAAAAAAAAAAAAAAAAAAAAAAAAAAAAAAAAAAAAAAAAAAAAAAAAAAAAAAAAAAAAAAAAAAAAAAAAAAAAAAAAAAAAAAAAAAAAAAAAAAAAAAAAAAAAAAAAAAAAAAAAAAAAAAAAAAAAAAAAAAAAAAAAAAAAAAAAAAAAAAAAAAAAAAAAAAAAAAAAAAAAAAAAAAAAAAAAAAAAAAAAAAAAAAAAAAAAAAAAAAAAAAAAAAAAAAAAAAAAAAAAAAAAAAAAAAAAAAAAAAAAAAAAAAAAAAAAAAAAAAAAAAAAAAAAAAAAAAAAAAAAAAAAAAAAAAAAAAAAAAAAAAAAAAAAAAAAAAAAAAAAAAAAAAAAAAAAAAAAAAAAAAAAAAAAAAAAAAAAAAAAAAAAAAAAAAAAAAAAAAAAAAAAAAAAAAAAAAAAAAAAAAAAAAAAAAAAAAAAAAAAAAAAAAAAAAAAAAAAAAAAAAAAAAAAAAAAAAAAAAAAAAAAAAAAAAAAAAAAAAAAAAAAAAAAAAAAAAAAAAAAAAAAAAAAAAAAAAAAAAAAAAAAAAAAAAAAAAAAAAAAAAAAAAAAAAAAAAAAAAAAAAAAAAAAAAAAAAAAAAAAAAAAAAAAAAAAAAAAAAAAAAAAAAAAAAAAAAAAAAAAAAAAAAAAAAAAAAAAAAAAAAAAAAAAAAAAAAAAAAAAAAAAAAAAAAAAAAAAAAAAAAAAAAAAAAAAAAAAAAAAAAAAAAAAAAAAAAAAAAAAAAAAAAAAAAAAAAAAAAAAAAAAAAAAAAAAAAAAAAAAAAAAAAAAAAAAAAAAAAAAAAAAAAAAAAAAAAAAAAAAAAAAAAAAAAAAAAAAAAAAAAAAAAAAAAAAAAAAAAAAAAAAAAAAAAAAAAAAAAAAAAAAAAAAAAAAAAAAAAAAAAAAAAAAAAAAAAAAAAAAAAAAAAAAAAAAAAAAAAAAAAAAAAAAAAAAAAAAAAAAAAAAAAAAAAAAAAAAAAAAAAAAAAAAAAAAAAAAAAAAAAAAAAAAAAAAAAAAAAAAAAAAAAAAAAAAAAAAAAAAAAAAAAAAAAAAAAAAAAAAAAAAAAAAAAAAAAAAAAAAAAAAAAAAAAAAAAAAAAAAAAAAAAAAAAAAAAAAAAAAAAAAAAAAAAAAAAAAAAAAAAAAAAAAAAAAAAAAAAAAAAAAAAAAAAAAAAAAAAAAAAAAAAAAAAAAAAAAAAAAAAAAAAAAAAAAAAAAAAAAAAAAAAAAAAAAAAAAAAAAAAAAAAAAAAAAAAAAAAAAAAAAAAAAAAAAAAAAAAAAAAAAAAAAAAAAAAAAAAAAAAAAAAAAAAAAAAAAAAAAAAAAAAAAAAAAAAAAAAAAAAAAAAAAAAAAAAAAAAAAAAAAAAAAAAAAAAAAAAAAAAAAAAAAAAAAAAAAAAAAAAAAAAAAAAAAAAAAAAAAAAAAAAAAAAAAAAAAAAAAAAAAAAAAAAAAAAAAAAAAAAAAAAAAAAAAAAAAAAAAAAAAAAAAAAAAAAAAAAAAAAAAAAAAAAAAAAAAAAAAAAAAAAAAAAAAAAAAAAAAAAAAAAAAAAAAAAAAAAAAAAAAAAAAAAAAAAAAAAAAAAAAAAAAAAAAAAAAAAAAAAAAAAAAAAAAAAAAAAAAAAAAAAAAAAAAAAAAAAAAAAAAAAAAAAAAAAAAAAAAAAAAAAAAAAAAAAAAAAENhcmxvcyBSYWJhem8AAAWQAwACAAAAFAAAEKaQBAACAAAAFAAAELqSkQACAAAAAzYyAACSkgACAAAAAzYyAADqHAAHAAAIDAAACJoAAAAAHOoAAAAIAAAAAAAAAAAAAAAAAAAAAAAAAAAAAAAAAAAAAAAAAAAAAAAAAAAAAAAAAAAAAAAAAAAAAAAAAAAAAAAAAAAAAAAAAAAAAAAAAAAAAAAAAAAAAAAAAAAAAAAAAAAAAAAAAAAAAAAAAAAAAAAAAAAAAAAAAAAAAAAAAAAAAAAAAAAAAAAAAAAAAAAAAAAAAAAAAAAAAAAAAAAAAAAAAAAAAAAAAAAAAAAAAAAAAAAAAAAAAAAAAAAAAAAAAAAAAAAAAAAAAAAAAAAAAAAAAAAAAAAAAAAAAAAAAAAAAAAAAAAAAAAAAAAAAAAAAAAAAAAAAAAAAAAAAAAAAAAAAAAAAAAAAAAAAAAAAAAAAAAAAAAAAAAAAAAAAAAAAAAAAAAAAAAAAAAAAAAAAAAAAAAAAAAAAAAAAAAAAAAAAAAAAAAAAAAAAAAAAAAAAAAAAAAAAAAAAAAAAAAAAAAAAAAAAAAAAAAAAAAAAAAAAAAAAAAAAAAAAAAAAAAAAAAAAAAAAAAAAAAAAAAAAAAAAAAAAAAAAAAAAAAAAAAAAAAAAAAAAAAAAAAAAAAAAAAAAAAAAAAAAAAAAAAAAAAAAAAAAAAAAAAAAAAAAAAAAAAAAAAAAAAAAAAAAAAAAAAAAAAAAAAAAAAAAAAAAAAAAAAAAAAAAAAAAAAAAAAAAAAAAAAAAAAAAAAAAAAAAAAAAAAAAAAAAAAAAAAAAAAAAAAAAAAAAAAAAAAAAAAAAAAAAAAAAAAAAAAAAAAAAAAAAAAAAAAAAAAAAAAAAAAAAAAAAAAAAAAAAAAAAAAAAAAAAAAAAAAAAAAAAAAAAAAAAAAAAAAAAAAAAAAAAAAAAAAAAAAAAAAAAAAAAAAAAAAAAAAAAAAAAAAAAAAAAAAAAAAAAAAAAAAAAAAAAAAAAAAAAAAAAAAAAAAAAAAAAAAAAAAAAAAAAAAAAAAAAAAAAAAAAAAAAAAAAAAAAAAAAAAAAAAAAAAAAAAAAAAAAAAAAAAAAAAAAAAAAAAAAAAAAAAAAAAAAAAAAAAAAAAAAAAAAAAAAAAAAAAAAAAAAAAAAAAAAAAAAAAAAAAAAAAAAAAAAAAAAAAAAAAAAAAAAAAAAAAAAAAAAAAAAAAAAAAAAAAAAAAAAAAAAAAAAAAAAAAAAAAAAAAAAAAAAAAAAAAAAAAAAAAAAAAAAAAAAAAAAAAAAAAAAAAAAAAAAAAAAAAAAAAAAAAAAAAAAAAAAAAAAAAAAAAAAAAAAAAAAAAAAAAAAAAAAAAAAAAAAAAAAAAAAAAAAAAAAAAAAAAAAAAAAAAAAAAAAAAAAAAAAAAAAAAAAAAAAAAAAAAAAAAAAAAAAAAAAAAAAAAAAAAAAAAAAAAAAAAAAAAAAAAAAAAAAAAAAAAAAAAAAAAAAAAAAAAAAAAAAAAAAAAAAAAAAAAAAAAAAAAAAAAAAAAAAAAAAAAAAAAAAAAAAAAAAAAAAAAAAAAAAAAAAAAAAAAAAAAAAAAAAAAAAAAAAAAAAAAAAAAAAAAAAAAAAAAAAAAAAAAAAAAAAAAAAAAAAAAAAAAAAAAAAAAAAAAAAAAAAAAAAAAAAAAAAAAAAAAAAAAAAAAAAAAAAAAAAAAAAAAAAAAAAAAAAAAAAAAAAAAAAAAAAAAAAAAAAAAAAAAAAAAAAAAAAAAAAAAAAAAAAAAAAAAAAAAAAAAAAAAAAAAAAAAAAAAAAAAAAAAAAAAAAAAAAAAAAAAAAAAAAAAAAAAAAAAAAAAAAAAAAAAAAAAAAAAAAAAAAAAAAAAAAAAAAAAAAAAAAAAAAAAAAAAAAAAAAAAAAAAAAAAAAAAAAAAAAAAAAAAAAAAAAAAAAAAAAAAAAAAAAAAAAAAAAAAAAAAAAAAAAAAAAAAAAAAAAAAAAAAAAAAAAAAAAAAAAAAAAAAAAAAAAAAAAAAAAAAAAAAAAAAAAAAAAAAAAAAAAAAAAAAAAAAAAAAAAAAAAAAAAAAAAAAAAAAAAAAAAAAAAAAAAAAAAAAAAAAAAAAAAAAAAAAAAAAAAAAAAAAAAAAAAAAAAAAAAAAAAAAAAAAAAAAAAAAAAAAAAAAAAAAAAAAAAAAAAAAAAAAAAAAAAAAAAAAAAAAAAAAAAAAAAAAAAAAAAAAAAAAAAAAAAAAAAAAAAAAAAAAAAAAAAAAAAAAAAAAAAAAAAAAAAAAAAAAAAAAAAAAAAAAAAAAAAAAAAAAAAAAAAAAAAAAAAAAAAAAAAAAAAAAAAAAAAAAAAAAAAAAAAAAAAAAAAAAAAAAAAAAAAAAAAAAAAAAAAAAAAAAAAAAAAAAAAAAAAAAAAAAAAAAAAAAAAAAAAAAAAAAAAAAAAAAAAAAAAAAAAAAAAAAAAAAAAAAAAAAAAAAAAAAAAAAAAAAAAAAAAAAAAAAAAAAAAAAAAAAAAAAAAAAAAAAAAAAAAAAAAAAAAAAAAAAAAAAAAAAAAAAAAAAAAAAAAAAAAAAAAAAAAAAAAAAAAAAAAAAAAAAAAAAAAAAAAAAAAAAAAAAAAAAAAAAAAAAAAAAAAAAAAAAAAAAAAAAAAAAAAAAAAAAAAAAAAAAAAAAAAAAAAAAAAAAAAAAAAAAAAAAAAAAAAAAAAAAAAAAAAAAAAAAAAAAAAAAAAAAAAAAAAAAAAAAAAAAAAAAAAAAAAAAAAAAAAAAAAAAAAAAAAAAAAAAAAAAAAAAAAAAAAAAAAAAAAAAAAAAAAAAAAAAAAAAAAAAAAAAAAAAAAAAyMDIxOjEwOjExIDE3OjExOjU2ADIwMjE6MTA6MTEgMTc6MTE6NTYAAABDAGEAcgBsAG8AcwAgAFIAYQBiAGEAegBvAAAA/+ELIGh0dHA6Ly9ucy5hZG9iZS5jb20veGFwLzEuMC8APD94cGFja2V0IGJlZ2luPSfvu78nIGlkPSdXNU0wTXBDZWhpSHpyZVN6TlRjemtjOWQnPz4NCjx4OnhtcG1ldGEgeG1sbnM6eD0iYWRvYmU6bnM6bWV0YS8iPjxyZGY6UkRGIHhtbG5zOnJkZj0iaHR0cDovL3d3dy53My5vcmcvMTk5OS8wMi8yMi1yZGYtc3ludGF4LW5zIyI+PHJkZjpEZXNjcmlwdGlvbiByZGY6YWJvdXQ9InV1aWQ6ZmFmNWJkZDUtYmEzZC0xMWRhLWFkMzEtZDMzZDc1MTgyZjFiIiB4bWxuczpkYz0iaHR0cDovL3B1cmwub3JnL2RjL2VsZW1lbnRzLzEuMS8iLz48cmRmOkRlc2NyaXB0aW9uIHJkZjphYm91dD0idXVpZDpmYWY1YmRkNS1iYTNkLTExZGEtYWQzMS1kMzNkNzUxODJmMWIiIHhtbG5zOnhtcD0iaHR0cDovL25zLmFkb2JlLmNvbS94YXAvMS4wLyI+PHhtcDpDcmVhdGVEYXRlPjIwMjEtMTAtMTFUMTc6MTE6NTYuNjE4PC94bXA6Q3JlYXRlRGF0ZT48L3JkZjpEZXNjcmlwdGlvbj48cmRmOkRlc2NyaXB0aW9uIHJkZjphYm91dD0idXVpZDpmYWY1YmRkNS1iYTNkLTExZGEtYWQzMS1kMzNkNzUxODJmMWIiIHhtbG5zOmRjPSJodHRwOi8vcHVybC5vcmcvZGMvZWxlbWVudHMvMS4xLyI+PGRjOmNyZWF0b3I+PHJkZjpTZXEgeG1sbnM6cmRmPSJodHRwOi8vd3d3LnczLm9yZy8xOTk5LzAyLzIyLXJkZi1zeW50YXgtbnMjIj48cmRmOmxpPkNhcmxvcyBSYWJhem88L3JkZjpsaT48L3JkZjpTZXE+DQoJCQk8L2RjOmNyZWF0b3I+PC9yZGY6RGVzY3JpcHRpb24+PC9yZGY6UkRGPjwveDp4bXBtZXRhPg0KICAgICAgICAgICAgICAgICAgICAgICAgICAgICAgICAgICAgICAgICAgICAgICAgICAgICAgICAgICAgICAgICAgICAgICAgICAgICAgICAgICAgICAgICAgICAgICAgICAgIAogICAgICAgICAgICAgICAgICAgICAgICAgICAgICAgICAgICAgICAgICAgICAgICAgICAgICAgICAgICAgICAgICAgICAgICAgICAgICAgICAgICAgICAgICAgICAgICAgICAgCiAgICAgICAgICAgICAgICAgICAgICAgICAgICAgICAgICAgICAgICAgICAgICAgICAgICAgICAgICAgICAgICAgICAgICAgICAgICAgICAgICAgICAgICAgICAgICAgICAgICAKICAgICAgICAgICAgICAgICAgICAgICAgICAgICAgICAgICAgICAgICAgICAgICAgICAgICAgICAgICAgICAgICAgICAgICAgICAgICAgICAgICAgICAgICAgICAgICAgICAgIAogICAgICAgICAgICAgICAgICAgICAgICAgICAgICAgICAgICAgICAgICAgICAgICAgICAgICAgICAgICAgICAgICAgICAgICAgICAgICAgICAgICAgICAgICAgICAgICAgICAgCiAgICAgICAgICAgICAgICAgICAgICAgICAgICAgICAgICAgICAgICAgICAgICAgICAgICAgICAgICAgICAgICAgICAgICAgICAgICAgICAgICAgICAgICAgICAgICAgICAgICAKICAgICAgICAgICAgICAgICAgICAgICAgICAgICAgICAgICAgICAgICAgICAgICAgICAgICAgICAgICAgICAgICAgICAgICAgICAgICAgICAgICAgICAgICAgICAgICAgICAgIAogICAgICAgICAgICAgICAgICAgICAgICAgICAgICAgICAgICAgICAgICAgICAgICAgICAgICAgICAgICAgICAgICAgICAgICAgICAgICAgICAgICAgICAgICAgICAgICAgICAgCiAgICAgICAgICAgICAgICAgICAgICAgICAgICAgICAgICAgICAgICAgICAgICAgICAgICAgICAgICAgICAgICAgICAgICAgICAgICAgICAgICAgICAgICAgICAgICAgICAgICAKICAgICAgICAgICAgICAgICAgICAgICAgICAgICAgICAgICAgICAgICAgICAgICAgICAgICAgICAgICAgICAgICAgICAgICAgICAgICAgICAgICAgICAgICAgICAgICAgICAgIAogICAgICAgICAgICAgICAgICAgICAgICAgICAgICAgICAgICAgICAgICAgICAgICAgICAgICAgICAgICAgICAgICAgICAgICAgICAgICAgICAgICAgICAgICAgICAgICAgICAgCiAgICAgICAgICAgICAgICAgICAgICAgICAgICAgICAgICAgICAgICAgICAgICAgICAgICAgICAgICAgICAgICAgICAgICAgICAgICAgICAgICAgICAgICAgICAgICAgICAgICAKICAgICAgICAgICAgICAgICAgICAgICAgICAgICAgICAgICAgICAgICAgICAgICAgICAgICAgICAgICAgICAgICAgICAgICAgICAgICAgICAgICAgICAgICAgICAgICAgICAgIAogICAgICAgICAgICAgICAgICAgICAgICAgICAgICAgICAgICAgICAgICAgICAgICAgICAgICAgICAgICAgICAgICAgICAgICAgICAgICAgICAgICAgICAgICAgICAgICAgICAgCiAgICAgICAgICAgICAgICAgICAgICAgICAgICAgICAgICAgICAgICAgICAgICAgICAgICAgICAgICAgICAgICAgICAgICAgICAgICAgICAgICAgICAgICAgICAgICAgICAgICAKICAgICAgICAgICAgICAgICAgICAgICAgICAgICAgICAgICAgICAgICAgICAgICAgICAgICAgICAgICAgICAgICAgICAgICAgICAgICAgICAgICAgICAgICAgICAgICAgICAgIAogICAgICAgICAgICAgICAgICAgICAgICAgICAgICAgICAgICAgICAgICAgICAgICAgICAgICAgICAgICAgICAgICAgICAgICAgICAgICAgICAgICAgICAgICAgICAgICAgICAgCiAgICAgICAgICAgICAgICAgICAgICAgICAgICAgICAgICAgICAgICAgICAgICAgICAgICAgICAgICAgICAgICAgICAgICAgICAgICAgICAgICAgICAgICAgICAgICAgICAgICAKICAgICAgICAgICAgICAgICAgICAgICAgICAgICAgICAgICAgICAgICAgICAgICAgICAgICAgICAgICAgICAgICAgICAgICAgICAgICAgICAgICAgICAgICAgICAgICAgICAgIAogICAgICAgICAgICAgICAgICAgICAgICAgICAgICAgICAgICAgICAgICAgICAgICAgICAgICAgICAgICAgICAgICAgICAgICAgICAgICAgICAgICAgICAgICAgICAgICAgICAgCiAgICAgICAgICAgICAgICAgICAgICAgICAgICA8P3hwYWNrZXQgZW5kPSd3Jz8+/9sAQwAHBQUGBQQHBgUGCAcHCAoRCwoJCQoVDxAMERgVGhkYFRgXGx4nIRsdJR0XGCIuIiUoKSssKxogLzMvKjInKisq/9sAQwEHCAgKCQoUCwsUKhwYHCoqKioqKioqKioqKioqKioqKioqKioqKioqKioqKioqKioqKioqKioqKioqKioqKioq/8AAEQgBfAGEAwEiAAIRAQMRAf/EAB8AAAEFAQEBAQEBAAAAAAAAAAABAgMEBQYHCAkKC//EALUQAAIBAwMCBAMFBQQEAAABfQECAwAEEQUSITFBBhNRYQcicRQygZGhCCNCscEVUtHwJDNicoIJChYXGBkaJSYnKCkqNDU2Nzg5OkNERUZHSElKU1RVVldYWVpjZGVmZ2hpanN0dXZ3eHl6g4SFhoeIiYqSk5SVlpeYmZqio6Slpqeoqaqys7S1tre4ubrCw8TFxsfIycrS09TV1tfY2drh4uPk5ebn6Onq8fLz9PX29/j5+v/EAB8BAAMBAQEBAQEBAQEAAAAAAAABAgMEBQYHCAkKC//EALURAAIBAgQEAwQHBQQEAAECdwABAgMRBAUhMQYSQVEHYXETIjKBCBRCkaGxwQkjM1LwFWJy0QoWJDThJfEXGBkaJicoKSo1Njc4OTpDREVGR0hJSlNUVVZXWFlaY2RlZmdoaWpzdHV2d3h5eoKDhIWGh4iJipKTlJWWl5iZmqKjpKWmp6ipqrKztLW2t7i5usLDxMXGx8jJytLT1NXW19jZ2uLj5OXm5+jp6vLz9PX29/j5+v/aAAwDAQACEQMRAD8A+jLcSrDGLhlaUKN5UYBPfFPEiFiqsCy9QD0qpq8EtzpF1DbjMrxkKM45rim8CazNawhdSS3ZcsVRnI5GNmc9B1oA78zRru3Oo2jLZPQeppUkSRQ0bKykZBByDXL+HvCtxpml3NrqM6XPnoVwSWA/MDj8K0BoGbWCM313CYowmLaTYvHtigC5quqW+laZLeXJJSMcKnLOTwFHuTWA+teJrW2Go32kWi2IG+SGOVjPEnqeNpIHJAqjf+FLnStFlmgubnUZEvEu2gYkjaDyFHrjn3NaV/4y0OTQ5Gt9Qtpp5oykVqsgMjuRjbs65z7cUAdFaXMV5ax3FuweKRQysO4qesLw2JNM8P2lrfxmF0jGSeVHtmttWDKCpyPUUAOooooAKKKKACiiigAooozjrQAUVUn1bTrZttzf2sR9JJlX+ZpbfU7C7OLW9t5j/wBM5Vb+RoAtUUUUAFFFFABRRRQAUUUUAFFFFABRRRmgAoqtcalY2hxdXlvCf+mkqr/M0yDV9OuW221/ayt6RzK38jQBcoozmigAoooPSgAorO1DX9J0qQR6lqNvbORkLJIAfyqn/wAJr4a/6DVn/wB/BQBu0Vhf8Jr4a/6DVp/38FH/AAmvhr/oNWn/AH8FAG7RWEPGnhssANas8n/poK2La5gu4FmtZkmiYfK8bBgfxoAloozRQAUUUUAFFFFABRRRQAUZqnq7zx6RcvabvPEZKbACc+wNcM58cGGOSzWfLEl/NEYbZt4yP72fTtQB6LkUVxGnjxGvh29k1eC5vLpkxFEhEbNz7MMfmK1LG316PSrVLeaJcRDeLxGZ93fvQBvXNxDa20k9w6xxRqWd2PCgd64TUfEGk3Bh1CLRbqBHlGzUntFVJM8csDuwfUim6nD4gj0GY+JHSSyF7GWCDkQ553Y7Zrqdbaxbwnd+Y8QtGtzgjG3GOMfpQBPYTDy0RiGikHyZ7H+7U5stj77WQw/7GMqfw7VzHhKdz4ftYr6OZGaMYYqTgjoeOnFdLZ30UuYnmRpk4YZwT74oAU3bwH/S49i5/wBYp3L/APWq0jq6goQQehBpTgjBGRVZrNRkwM0LdflPB/DpQBaoqmk80PF3HkDpJGMj8R2qzFNHMu6J1YexoAfSHpSmuS8eeLB4d0zybQg39yMRD+4P73+FADfFnj2y8OZtrdRd35/5ZbsBP94j+Vcj5HjHxl++vLv+zrNvuxglAR/ujk/jV7wl4P8AIA1PWk869kO8JJ82zPc+prs9p/un8qAPL/EHgOHRdDlvvt8k8qEfL5YVTk8+9LoXgKPWNCt9Qj1B7eaQH5fLyBg49Qa6vx8MeELnP95f50/wL/yJ1n9G/wDQjQBz/wBs8Y+Cvnkl/tKwXjDsXAH81/lXc+FPGVl4ogIiU291GP3kDsCfqPUVOyhlKsAQeCCM5rg/FfhmXSZl1zw0rW8kJ3SpDxj/AGgPT1FAHrOaKwfCPiKHxHosdyrAXCjbOg/hb/A9a3qACiiigAooooAKQ9KWsXxT4hh8N6HJeS4aT7sMZP337D6UAQeKPF+n+F7XNy3nXLjMduh5b3PoPeuEOo+MfGxJhf8AsywP8SEoGH1+836Ck8MaBN4lvG8QeJC1x5jZhjccP749B2FegLHsRVVcKBgADgUAcHF8LoX+a91SaSQ/eKIB/PNOk+FtntzBqU6N23xq3+Fd3gjrS0AeefZ/GPg795p92dRsk5KHLgD/AHTyPwNdh4R8e2XiVvssyfZL8DPkk5Dj1U/0rSP0ri/F3hQCP+19CjaC+hbzHWE43+pH+19OtAHqGa5zxzr0vh7wzLdWuBcOwiiJ/hJ7/kDUHgLxOfEei/6U6m+tzsmA43ejfjWZ8Xf+RWtv+vtf/QWoA4bw74Ru/FKzaheXrRKzkeYyl2kbueSOK2/+FVxf9Bd//Af/AOyrZ+H3/Im23/XST/0I109AHn//AAqyL/oLv/4D/wD2VL/wqyL/AKC7/wDgP/8AZV39FAHnzfCxAp2aud3bdb8f+hVneFdS1Dwh4zXSrmXNvJMsU0ecqc/dceh5FepV5R4oH/Fzkx/z3tz/AOg0Aesa/rU2l/ZILG3W5vr2XyoY3baowMlmPoBVaw17UIvEUeja7awRTTxGW3ntnJR8dVweQRTNbZYfGnh2SU7Ubz41J6byox+PBqDXMTfETw5FEcyQpPJKB2QrgZ/GgDrBS0gpaACiiigAooooADyKQYqvqV19h02e627vKQttzjOPeuKf4jNBEkklhvEhKhY5MhSBnOe4PrQB31Ga5DSvFk+taPdXapHYmJBtMoyAfXnH64q3p/iG7l0m2ml0y6uZJI8u8Cptz+Lf/WoA6GWOOaFo5VDo4KspGQR6V57e6B4Yiv44bLVDLJBMG/s0325F5/5557fpVi+8S32raJLCbO403zLxLUzkgbkJ5KkHj0rX1Xwrow8NzwW9jbQGGEtFKsYDxsBkMG65z3oALRjDO0WRtJ3Qk+o5wfetWe2ivYo7kIrSAZ5HJHpXI6DqD3Oj2dxdwzM7xjf8mcsvUj6jmujsdUW3uHtJo5+fniYxH5gaALkFsGjD2lxJFnqpO4D2wamH2xByIpR6jKH+tVJL2G1n80JMI24ceWQF96s/2lbdSzD/AIAaAD7eE4uIZYvfbkfmKb5dtct5ttMFf+9G38xUg1C2PPmY/A1FJJp0p3SGIn1IwaAJDNPbjM8fmr3ePqPwry2Xb4t+KEsh5tbLH/jvT9ea9KZrcKfs9+U44G8EfrXm/wAO/n1fV5JeZN4yfXk0AWviSL5NLt5LZ9tqr/vApIYHtz6Vxmk6Frut2rzafKXRG2tuuNpz9Ca9a1tLOXRbpNRIFsYzvJ7emPfNebfD24uYfEjxWSPJBIp83nAVezH3oA2tT0+80z4Yy22o8Tq4J+ff/F61ueBf+ROsv+Bf+hGmePhjwfc/7y/zp/gX/kTrL/gX/oRoAsa/4ns/Dvk/bIppPOzt8kA4x65IrHj+JGj3MqQfZLw+awT5kTHPHPzVS+JShrjS1YZBcgg/UV1MPh3RVWORdKswwAIbyVyD69KAOT8ITN4c+JNxpeSILolVH4blP5V66DXjfic3UPxKsn0mOKS82p5aSuURmwRgkAkD8DXXfbviZ/0A/DP/AINJ/wD4zQB21FcT9u+Jv/QC8M/+DSf/AOM0fbvib/0AvDP/AINJ/wD4zQB21FcT9u+Jv/QC8M/+DSf/AOM0G++JuOdC8M/+DSf/AOM0AdqTXlvj6V9e8bafoEbYiiwZPqeT/wCOivPfDniL4ySfE7VbbS7U3limoSLPFc5azh+c5CTMA2BzjH/fPau8sy0nxevWugBIqNgA5AOAOPagDQ8cRX1r4WCaUVjto8LMqj5gvGCD2GRXAaNpesa60g06ZnMWNwe42nnvya9puIo57aSKcK0ToVcHoRXkHh+5n0vxl5ejf6WjSmIAHaJEz1PpjrQB3XgnRtT0e1uk1blpHBT97v4x+ldTSDJ60tABSYzS0UAee2jjwp8VUSH5bW+IBUdAH/wat/4uf8itbf8AX2P/AEBq5f4jRK/ibTVxkvGqsMkZ+f1HNXviH4T0bQvD0FzpltJFM84Rma5lkyNrHGGYjsKANb4f/wDIn23+/J/6Ga6euY+H3/InW3+/J/6Ga6egAooooAO4rybxbIIviQJGDMFlgJCjJPC9B3r1nuK8p8Uf8lOj/wCu9v8A+y0Aehavqui65Zi21DTtXZVYOjJYTKyMO4IXg1DpF3omjTyT29lrc1xKMPcXFjNI5HpkrwK7QdBS0AYH/CX2X/Pjq3/gum/+JoPi+y/58tW/8F03/wATW/SH2oA87tPikq67cWF/p87IJ2SF4Yz5m3PAaM85x/8Aqr0KKQSxLIoYBhkBhgj6jtVGz0LTbC9nu7azjS5uHLyTYyzEnJ5NaIoAKKKKAGTRJPC0Uyh0cYZT3FMS2hSMIkSBQNuNo6elF3cx2lpJcTEiONdzEDPFYH/Cc6MoDTTtGjcIWQgsQMkY7HHagDoBbwrGUWFFQjBUKMflTkRY0CoAqjoAMAVh23jDTLvT7m+t5C0Fum5mPBJ/u49amtPEunT6fb3NxdQ2pnjEgillUMAfxoAu6nptvqumy2V2u6KUYODgg9iD2Irk9R0bxEmnpZXmtRXGnFhHKVt9s8kf90tnA9M1d1HxjbT6TMdBuIprzz1tlVhny3Y9SPTHNM1HwxNBpc95Bquoy6gkZkLST5jkYc4KY2gfQCgBqRCzijt1wsKMBC3pjoDWwI/temRv0kgPXuMVzmn6j/aekQXAtXJuIstHtwA46gGr9jdXtrdKjLGlrdpuV3O4o2MEcUAdDbzeYPKmHzbc5xww9aSJ/s0n2eTOw8o2f0qpHazuWie6ZXi5jaNQOD9QaeLOG9hKXJdpV6hpDwfXFAFyW8t4v9ZMgPpnNR/bUf8A1MEsnuEwP1xUds1tBE3mpFC8fDZGPxp5upZuLOHI/vvwKAHF7hl4t0Qf9NH/AMAa8s0yQeHviVeWUzKI7tiFZTwCeRXps4GQk8jTyMOIU4H6dvrXCePvD8lzDHqtgqreWeN6RDChRyB7kUAVvibfXMOm21qmBDOxLsG5Yjt+tcz4b8Xjw5ZvDFpyTvI25pGl2k+2MV2vh7WNN8W2KR6lbW8t5APmjmQN/wACGa2T4e0b/oE2P/gOv+FAHPeJNROrfDdr5oxEZgjbAc4+aqemSa+ngjSv+EbRXcmTzchemePvfjWv44hitvBM8NvGscalQqoMAc9hU3gX/kTrP6N/6EaAOS1DSPGOs3Fs2p2gdYXBUq0a4556GvTIwVjUHghR1p+cVyHjbxR/ZVv/AGfp7A304wccmMH+poAy9EDeIviw11HzBaMWz7KNor14VyfgDwwNA0YTTjN7dgPMT/D6L+Ga6ygAooooAKDRRQA0LjpxXlfi5T4e+JlpqrDFvdAbjjpxtb+hr1U9K5nxz4a/4STQWSEYurfMkPbJ7r+P86AMbxzqE9n4UlktCAJSI2fPIVu4+tec+GvEI8O3ctyLEXMrrtBaTbsHfHB/yK7HwhrdvqVn/YWvxxtcQHaiXCZD47EH+IdK6f8A4R7Rf+gTZ/8AgOn+FAFfwtr7eItNe7e2FuUkMe0Pu6Ad8D1rbqvaWVrYx+XZ28VumclYkCgn6CrFABSGjtXOeMPEyaDpzJbupvpRiNDyUH94/wBKAMC8j/4SL4rWttBzHZlQ7dQAnJ/Xiug+Ln/Iq23/AF9r/wCgNUnw28Ntp2mPqt+hF7e85bqqf4nr+VR/F3/kVbb/AK+x/wCgtQBH8P8A/kTrb/fk/wDQzXT1zHw+/wCRNtf9+T/0M109ABRRRQAV5T4o/wCSnR/9d7f+S16tXlHin/kpyf8AXe3/AJLQB7iOlLSDoKWgAooooAKKKKACiiigCve2qX1lNbSEhJVKkr1wayF8GaJ5CRPZiQIuMu7E56Zznr71uySJFGzyMFRRksxwBVJNZ0987byHGM7t4wR7HvQBDZeHdL0+ya0t7VTC4wyyEuG+uc1bttPtbS1S3t7eNIoxtRQo4HpVeXXtOjs5br7UrwxKGZ0+YYq1a3cd5ax3EWfLkXcu4YOPpQBl6r4bt7vSJLawVLSbzBNHKF6SA5BPrWVqOq6++ltYTaOYJ5l8qS8EymFc8FlH3j7DArc1bXbbTtIkvY/9J5CRxxsMu5OAv51hX6+KU0t767msZEVfMkskhYFB1wsmeSPoM0AJa2w0yxhtHcvFFtCTj+ZHbrWhABcaa6YHmWs36VQt75dQtY57JGkS5j48z5QGHbn1zSC2lt7yCcPmC+TbLCuVUOOmKANOS+jsjHcwlpoukkafMyZ/p9auyxXN4Emt2SEgZDA7mYenpVfS3gAa3VQgfKtHtwQw/nRFPJbForJTOYzh4weF98/0oAk2QRxi7TmaM4fzTlj7f4YqeO4kv4Q9v+6hPV2HzfgP8aheFVxqBkWaRR8wPC49APWoTLvU3eWjsmPzp0Yn1Pp9KAJ2ZBARCGSHOGk/ikPoP8ap3T4G0qFABG3Odvt/iatysTtdm2krlFHSNfX61m3ZCo3y7QB0z0oA881fQJm16OTw9mG7dsqiNtGfUHtWha+OtQ0WT7D4q06ZZV/5aKMMR64PB+oNb/h2ITeIZLqXCpAhO5jwPepvEXjvwrCrW10i6ow4KRxh1H/Ajx+VAHMeKfGOkax4ZntbSaTznKlUeMjv69P1pfDXjTSNH8NW1rdySmeMHKJGT3PfgViXeveFJ5CY/ChVf9m9ZP0Aq7pGueBoph9s8PSxc/eaQzAfgSKALs/izW/E8jWPhbT5Yw3DTZ+YD3PRa6Twd8P10eU6hrbJdag3K87lj98nqfeuj0LVNG1C0H9hzW7RKP8AVxAKV+q9RWtQAgpaKKACiiigAooooAKQ9OmaWigDi/GXgGPXpPt+muLXUV/i6LJ6Z9D71ysHinXvCri08VWMskY4SbjJH+90avXWIA5OK5TxB458N2CvbXciX78hoYkEg/EnigDIh+Ifh+VQXnmhP914W4/LNLL8QfD0akrdySH+6sL8/mBXH6j4i8JXMxaLwptHYi6MX6KDTtN1vwVHMDd+Gp1XuftJlA/AkZoA1rvx3qOsTG08K6fM8jcea6bmH4cgfU1r+FPh5Nb341bxNILm6J3LCTvCn1Y9zXR+GtZ8O31sItAeCIDkwKgjcfVe/wBa3xQAgGO1cJ8Xf+RVtv8Ar6X/ANBau9rgvi7/AMirbf8AX2v/AKC1AEXw/wD+ROtv9+T/ANDNdPXMfD//AJE62/35P/QzXT0AFFFFABXlHin/AJKbH/13t/8A2WvV68p8Uf8AJTo/+u9v/wCy0Ae4DoKWgdBRQAUUUUAFFFFABRRRQBV1S1a90u4toyFaWMqCe1cq3w5s5reJZ7ucumWygCjcRgnp0x2rtKMj1oA5nTvBtvpujz2MNwx84DLtGrAHOfunIP41ah8LWCWcMM3myGJdoYSugP4KQBW3kDqRSggjIOaAONv/AAamnaNM2irLNdi5W72PIT5hU/dGeBxU1/4ysJdKlgthMdRlQxraNA4dXIx8wI4Hv0rpL69t9PsZbu7kEcMK7nY9hXH3nim9ltFurnw9dW+nMwZbsupZRnhmTqBQA7Sra403SYLW9Xd5YGZI+Rn1wPr+lWjcxPYTwNIpkt5gygHkg88ChbgXG37EVaOZeJG+6rDsPXNRT2CI9tqSM3myKYZm9fT8qALSW8mpsyy7oGCh0KthmI759ParK3n9nmKW4TYjDYzIOCfp2NUJL+exhguAguTEcEJwxQ9z9K0YRDJI7yusgnTPPSM+mKAJXhdD9tcLtHJh/hx6/WoHfzCb0KWXO37MRyx9SPWi3Mht/tAH+jxH/UseSR39vpSl/tEgvLclLlvlWI9h7j1oAgjkMZMe/wAwMdwlP8R9M+1Zet38Gn2LzXDbEXpnqx9PrVqYxtETHlYw3Kd4znl/xP6VwWpG48YeLY9MjbFtb/6xgcjjqf6UAV7Gz1nxfcskTNa6duyzc7fy/iNdxpPgvRtLiAFqtzJ/FLONx/LoPwpuo+IdJ8Ipb2MsUyqY8oIUBAHTnkVR/wCFmaJ/zzvf+/S//FUAZvxFgihutIWGNI18w8IoHceldnNo2m3sIW6sbeUFRkmJc/n1rifH1zHeHQrmEMElO9dwwcErXocf+rX6CgDgtX8CT6fIdQ8LTyxTIciFXIb/AIC39K3/AAV45OpyHS9dIg1GM7VLDb5v4dm9q3z71xPj3QC8S63p+Y7m3IMmwYJHZvqKAPURS1h+ENdHiDw7BeE/vQNko9GHWtygAooooAKKKKACq1/fW2nWMl1ezLDBGMs7HpVk15Z481KfxH4mt/DNgcRxODM4/vY5P4CgCnqmt65481J7XRPMttLRtrNnaGHqx7/St7SPAmj6ZGpmhF5N3ecZAPsvQU641HSfAumWlm6TeW+QpjUEsRjJPI65qn/wszRAP9Xe/wDfof8AxVAHUx2dtCNsNvDGPRYwP5VHPpljdKVubOCYHrviU/0pNK1KDV9NivbUOIpQSodcHrirlAHE618PLaU/adCc2dwvIQEhSfY9VqXwl44vLDUBofi3Mci/LFcS8H2DHv7Guxrm/Gfh1Nb0lpYV/wBMt1LRsByw7rQB3wORkHNcH8Xf+RWtv+vtf/QGqz8NfED6voTWl2+66sj5bFjyy9if5fhVb4u/8irbf9fS/wDoLUARfD//AJE62/35P/QzXT1zHw//AOROtv8Afk/9DNdPQAUUUUAHcV5R4p/5KdH/ANd7f/2WvV68p8Uf8lOj/wCu9v8A+y0Ae0X81xBp8klnbG6nUfJCGC7j9TwBWB4U1LVrzV9ZttakiZ7WVAqQrhU3LkgHqfqa6ZmVI9zkKAOSTjFcp4ani/4TLxL+9T554tvzD5vk7UAdbRRRQAUUZooAKKKKAKeref8A2Tc/Y93n+WfL2dc+3vXDtpXjNoUe1uHhdslw84LFdvCk46g969EooA4W20PxFN4ZvYdSnkkuplAXMg3EA8rnJHT1rX03StYi0i1iGofZGjjCmPyVf9a6PijigDgNT0rWrLQpZtZvTfwR3iTtCqZ8uIHnnv649q6bVNU07/hGZ7ppY5baSA7CpBEmRwB61rSbBG3mbduPm3dMVwEn/CBtqIew+yi8EuY2wwiL99ufkz9KALWhi6tvD9rDfWjAqoJCsCV7jj6fyqw1/Gv2vTW4lVhNF5gx8p7/AJ1PJKZTttnxHKNvmEcRMO2aWa2Q2FrcIPnhYxuSc5z1zQA3S1iimeORw6XAKhyfxxU0NqupQ+TKMeQT5bA4Z8d81mRWcOqSPHEhiwMhkO3LqenHari/appPLtJz5ijcwdc7R3GfegCxHLKtwJs+dZkcg8MXH6GpJZIrpixJhu5Bxn5WRKgmaQkqkatbr+8Bjb+Mduacb6C7g3XcTxl/mbehGxR2z2oAzdZuWtbC4nnAhmjjJEoGQ3HC/wCfWuf+GdorWV5fuMyyS7Ax6gdf5mtvXInk0S8S3nWaNoW4Zsn3Of8APSsv4Zyq3h2eNeqTnP4gUAZvxI0Ih01e3BKnCTDPT0NHhLw1oGv6MJp45ftMbbZVWYgZ9ce9a/xB1qGy0RtPGGnuxgKf4V7mqfw30WS3s5NUmZl+0fLGnQbfUigCt8QLdLRtCt4QRHE21QTkgArXoSf6tf8AdFcF8Sf+PzR/+uh/mK7pZY0RQ7qp2jgnFAHB614o8QxeKrjTNHEcm0/u4/JDHpV/QbrxRqF+9r4hs/LsZImDEwhcn0zWZAwb4vOVIIOcEH/Zr0QH3oA4r4V3DWutatpTMdqneq56EHB/pXqNeN+DH1ZvGGqXeg2dpeP8wdbq6aBQC3UFY3J6egrvvt3jf/oX9D/8HMv/AMjUAdNRXMi/8b9/D+h/+DmX/wCRqU33jb/oAaH/AODmX/5GoA6WiuZ+3eN/+hf0P/wcy/8AyNSG/wDG/fw/of8A4OZf/kagDpJpBFA8hPCKWP4V5H8PVa+17VNTnO6TO3cfVjk/yFcX/wAJN8Vz8Wtd07QbH7ZaGYrcWjyGW1gyBnbKyqV+mB9DXafCyZlXUIZ1VJsozKrZA6jjgZoAtfEbQXurWPVLZSzwLtlUf3ex/wA+tZPgzQtC8QWMiXkUv2yA/PtlIDKehx+ldf4y1yHR9EkRgHnulaOND78Emua+GujS+dLq8uUiwY4xkjee5+lAHd6bp1vpVjHZ2YKwxg7QxyfWrdFFABSUtFAHB6Af7E+Ls9nD8kF2G+UdORvFbPxd/wCRVtv+vsf+gNXNX+lWniX4rtp95G0trtAmRZGQkKn95SCOcdCKk8e+BfD/AIY0OG80W0lhnknEbM93NKCpVjjDuR2HOM0Abvw//wCROtv9+T/0M109cx8Pv+ROtv8ArpJ/6Ga6egAooooAK8n8WME+JSuc4WW3JwMnovYV6xXlPij/AJKbH/13t/8A2WgD1S61fS760e2vLO9mhcYZH02cgj/vis+3tvClpcJcW2hzRSo25XXSpgQR3+5XWAcDij8KAMoeIrIf8sdQ/wDBdP8A/EUHxFZEf6nUP/BdP/8AEVq/hRQB5/J8TEsfFdzp95aSvZhlEMixMsq5UE5QgE857eld7bzLcW6TIHCuoIDoVP4g8iqMGhafBq1xqaWy/bLgjfM3J4AHGenStIUAFFFFAFPVbmSz0q5uIceZHGWXIyM/Qda4Z/FPihIElt7Fp9+QT9ncDaFyGx254xXojAMpBGQexpMYHHFAHHaPqut6loN7PqUE0M6x/ulhUqSfb3rThm1yysbaKO0OoN5QMk8syo273Fb31paAPP8AUNU1y90KaLW7P7FbvepC0qnHmRE859B2zXUarpWnHwvcWUkESWiQHaAMKgA4I9K0by1gvrOW1uo1lhlUqyEdQa5C48H3CW4t5PEF1cadEwP2GQL8yj+Fm6kUAM8Pz3beGrUzWu87Bks4G7HQ/iKlN1ci8nsTbt9luF8yNt45PdQauyYf9zAxW2dfLZwM+UR0FSzCM6KjY5tX2kA9RQBkXF3cWRjuLeyYSRsCy5Byp4Jq1Lcy2W2e2tnaQv8AMQQd6t/F+FFuPIuP9NbImUxK3bBGQPrTbe5jsoBcXLLskzDtzyvpxQBZllKE2q20vlKPOB/2vSo4dRkL/vbSVRMPMK7ejdlpsFyGtVtVWWVoz528LjJH8PNNmnupfn8lYy7b8M/3X9OPagCK7EDq26xkGQRwuOPw/wA81x/h66bwv4yn027Jjt7k4Xdxgn7p/pXaOXco090saH5iI159cVh+KvDq6pDaNvkhupQRBLK2N78nZ+I6fSgDI8d6BqeoeIvP0+xnuImiXLLyufzrMjtPHEMapENUREG1VVyAB9O1dF4b8bGGRdK8QhoLiI7POfgEjs3ofeu5RldQyEMpGQQc5/GgDzzx8HH9g+dnzM/Nu65ytbWu+CIPEF+t7NeSQN5apsVARx+NZfxJ/wCPzR/+uh/mK71PuKPYUAcpongO30XVo76K+lmZAQEaMDOR9a0PFutJougzOHAnlBjhXPJPr+FWNc8RWOg2vm3cmXI+SFSNzVyGj6Tf/EPWxqepL5OlwMAsfPzD+6PX3NAHU/DDRW07w6bydcTXzeYcjnb2/wAfxrtqZEgijVFGFUYAx0FPoAKKKKACg0UUAMVFTO1QuTk4HWvJJl/4Qz4lS+aNljfE4cjjDHP6H+devGud8Y+Fo/FGj+QHWO5iJaGQjgHuD7GgDiviBoV1qk1nc6XazXT7WVzGcgDgjjOOcnpXOwWPja1gSK3j1OKJBhURyAPpzW5oPiifw1P/AGF4nieNoW2pMedo7Z9R7138UqTxiSF1kRhlWQ5B/GgDM8MLfL4etxqxl+1gHzPNOW6961qSloAKp6rqMOk6XPe3BGyJcgf3j2X8aNS1Wy0m1M9/cJEmOATy30HeuCZ9R+JOti1tUe20u3OXcjp7n/aPYdqANj4XadLe3t/4hvMs8zmOMn82P8h+dXvi7/yKtt/19j/0Bq7PTdPg0rT4bO0Ty4YV2qK434u/8itbf9fa/wDoDUARfD7/AJE22/35P/QzXT1zHw//AOROtv8Afk/9DNdPQAUUUUAFeUeKf+Smx/8AXe3/APZa9XryjxT/AMlNj/672/8A7LQB7iOgpaQdBS0AFFFFABRRRQAUUUUAQXt0tlYy3MgZliUsQvU1yz/ELToVDXMM0auSqrtyQwGSD+FdVd20d5aSW8wzHIu1h6iqK+HdIWJY/wCzrchRtGUBOKAMaPxvFd6Hd6hYW7N5CjbG45LE4xx1/Crtl4qtZtMtri8SWKWWPcyJC7Ae3ArQi0XTorN7WOziWBxhowvBq1BbRWtukFvGqRKMKoGABQByF94yGpaRNHpHmW90bpbXfJGRs3H7wz14/Wpr3wRpkGlzz2Ymj1FIywvDO/mM2M5Y55BPatrVdDttS0mSyVRb7jvR4wBscHIbjvmsG8XxdNpp0+6isliYeXNexyncydCVTHDEUAN0K9ubrw/bTC3RGZfnLN8pcd8ehqQw3SXwm80fYLoZCRr91wOoz2qeK2S3hisrfc9j5YjZgPmXHQe9TPPE2kNAjDzoHwgHb0PtQBnS2MWpb7bzJJFEfmI2/wDiB4HFLYLBcSSRzIgQKccfebHWmTzPbRibS0aSRX3uOgOfvHJ/OoktvtVwLcznYoMg28AEc4oAtQ3PzPBMd87f6QNnOQOMe1NmN3cL5kmLdXOXUclXx+nHFNeeOJ1+Ty5i/mKqrnKf4E0l1vl3XF63lqeJYR2Pr79qAGaZ5bzyJbgEj/lu/IXJ5H6GtTVLODULNopcsCAUlI+YMvIYemD+dZds7xXELNGFGS4h/TJ9sc1q3EoePeHL5Gc46/57UAc6bDT/ABXMdN8TQi11iMYivIOFuF7Eep9VPPpxWfJ4R8ZeGmZdBvPtlqOQgIBH/AW/oa6fRLFbvWDPKgdYwcbhnmuuVdowOlAHhmtr4u1aW3/tLR5y9scoYrVuvvjIPStmKT4h6sBHDaNZp03mNY8f99c163+dLQB53o/wtjM4vPE1297OTlolY7T9W6n9K7+3t4rWFYbeNY40GFVRgAVLRQAUUUUAFFFFABRRRQAUGiigDF17wtpfiOELqMGZFGEmQ7XX8f8AGuEm8C+KPDkjSeGdQNxAT/qiQp/FW+U/hXqtFAHkL6749tDsn0dpD6/ZGb/0A4pY7/4hamdlvpzW2f4jAEx+L1653/8ArUtAHmen/DG81G4+2eLNRkmkPWKJ8n6Fj0/CvQdO0200qzjtLCBIIUGAqjH+TVuigANcF8Xf+RWtf+vsf+gNXe1wXxd/5FW2/wCvpf8A0FqAIvh//wAidbf78n/oZrp65j4f/wDInW3+/J/6Ga6egDFsvEUMt9PYagn2G6iJ2rM2BIn95T3+lJpviA6xqrx2Fs7afGpDXjDCu3HC+3WqF14buvEd88viFhHaRFlt7eAjJH95m9fareiW2r6Xdf2feeVdWCofIuQdrqB/Cy/19qAN4HmvKfFP/JTY/wDrvb/+y16sO1eU+Kf+Smx/9d7f/wBloA9xHQUtIOgpaACiiigAooooAKKKKAI55o7eB5pnCRoNzMxwAKzF8S6U3P22IKRlWZxhvpV7UbU32mz2ofYZUK7h2965s/D3S5beNLiSeVkydxbqxGC35UAar+JtOFjNdQy/aIo1BzHzuycACrdhqVvf2Md1EdqSDIDcEexrLs/B9jZaRPYQvIEnGHbAz9cYxVu08OaZa2UNt9kilWFdqtJGCaAINV8SQWmjSXWnlLqbzBBHGG6yE4ANUL3T/ENvps182sefMsZd7X7OBGfVV5yPYkmn6l4Qt4tHmXRII4rsTLcqTgeY6nOCf0qO+8SXE+kSW0OkX8eoSJ5ZR4CEjY8El/ukD2PNADNJvmutFiuLWLyI3w7NLzh/X8ac2nr9sj1gsWFwNjo4+UDscUun2T2NnaWJZbqARhZWQbSWqRr+KSOXSQS9wp3BCvOz/PFAEVvdotwZLsCJGDQFD0I7EH3rLJmyPsgKzBtzsehUcHH4VpPYnUmNpdkcR71RTwCOhz61nz3Lwjz9vnM/7tVBywUjB/DNAEspg8nzY3YS7tq5+8y9QD7ZpDKbiEXk4zP917fGOf8AGmAI1olwZszKfKBHQqOQPzpbJ3luixG3UPv7D0C9+fTNAE+3Ek26QyMoVC4HBUdFH49fanR3Be3ZDyy8U5Qq2ieWcRknAPXf/Fn69BWfE+3UoyTlc4b+Q/WgDrtCtRb2rMP4jj8q1ajt4xFAiL0AxUlABRRRQAUUUUAFFFFABRRRQAUUUUAFFFFABRRRQAUUUUAFFFFABXBfF3/kVbb/AK+l/wDQWrva4H4vf8irbf8AX2v/AKC1AEfw/wD+RNtv9+T/ANDNdN169K5n4f8A/Im23+/J/wChmumoA841G3nv9KvtbvL+7EkN6Ymhil2qkQcKRgd8HOa19J0mLQ/GCRfaJ7kXNqzQvNLuKYIyD2OeDmprm/8ADFvfX8Tb5JLgbLpII3dSffAwG96Z4Yi0aPVGNjPf3N15RCvdo+I0B+6pIx6UAdd6fyrynxR/yU6P/rvb/wDsterDsK8p8Uf8lOj/AOu9v/JaAPcR0FFIOlLQAUUUUAFFFFABRRRQA1nVFyzAAeppDKgXcWAXGc57VzfiDRtR1PWoXtGEcSQ4Mpcgg5PAA65FYcngjXXlTfqm9PMZiN7cA9B+HSgDvJLu3hUtLPGgC7iWYDj1+lSRTRzxLJC6ujDKspyCKwtV0CS7gBg8vzlhCfODhsEHB9qWy8Pyx6fDHLe3EEirgpbyYQH6GgDR1TVbfStMlvbglo4xwE5LE8AD3JrnLrVfE8Vg99d6ZaJZFdzxpIxmiX+8exI64FV9Q8L3Wl6HJLFcXGoyR3a3RhY7vlU8hR9Oa0b/AMYaLJokpgvYZZ5oykdqrDzGYjG3b1oAZaXAl0oT2jMls3zNKRzu7MB2zUstlELSPVPLzcfxsT8xB7Zqpo1nc2em2Ns4ilQRgTL0Gewp5vZXv30sxusGSwlA3f8AAQfUUAV7lrm2hB06TzbgNvIYZwh6jPtUDSwWsrSsGVCpjy3O5mHBBq9FfWllObhmCwkGFlbg7/X8TVLyQzCK7/1QRmUHoGHI/GgCtDHsV5ZG8uVSIwgGQe/5570scpWb/SsxXkjBWfsqnqBUEa7ZBKGEQ/1QQ85b7wNWZC2Y4b+IhgvmzMBkbumPb1oA1LhW3EPGFm2jK/wuvYD3xzVGOHzGByTkls98Dp+tXMNPbx7WNzGx6j7ynuc/p+FXrCzFxIdh3pnbvA6gdfoaANTSbo3VirN95flb3xV6mRxrEgSNdqgcACnmgClqOsadpCwnVL6CzE8gjiM0gTex6KM9TVwHPIrI13wto/iZbVddshdizmE8GXZdjjoflI/WtZRtAAHAGKAHUUUUAFFFFABRRRQAUUUUAFFFFABRRRQBm+IL2907w/fXmlWTX95BCzwWy5zKwHC8etR+F9R1HVvDVlfa1p7abfTxBprRs5ib055rWooAKKKKACuC+Lv/ACKtt/19L/6C1d7XBfF3/kVbb/r6X/0FqAIvh/8A8idbf78n/oZrp+9cx8P/APkTrX/fk/8AQzXT0AcNpuuR6JeahZWdjc6lELl3NxbR5wx6qc9x61vaV4gbVL3yG0q9tAFLeZPHhfpn15rIsLnV9Eur23tNAuLm0knaSM+YqkZ6/UelbWmavqN5e+TeaLNZJsLeZJIGBPpx/nigDXB5rynxT/yU2P8A672//ster9vyrynxT/yU5P8Arvb/AMloA9wHQUtA6CigAooooAKKKKACiiigAzRmuY8S3GqpqNtDpRuPmQkiNAUJz/ET04rnJrjxz5hj2SiEykIQgzsxxnHfr+lAHpWR60VgTWd/Nb2v765R/szJJtfGGxwfrTo4dcSzt1tpIF2xAP8AaMlt31FAGzcTxW1vJNO4SONSzMegArjX8T6O7NcR6RcQJOdseoNbKqMT0O7rjPc1U1RNeXQpT4iZXs/t0eQnUQ553e2cV1mrGy/4Rm687y/sfkH024xxigDLT5tMlKFhBn98R1Leq+1WZkVdCjl4WZTnI7GszQRef2Tp/mmMR+UN+8f985p7i8/tdvNMf9nZIHB27+5+lADhbrqkv2adQkYj8zae7D+Ks2SEX+6Fcow/fOwOM7O2PerV2uofZ/8AR2j+1b+CM58r/wDVVa680r/oZQPkFcA/6v8Aj/rQBnt5jTRzJLuj37PnHVs5/rWuZbotK08Kswb5trdWAxjn86y2Dh3cmLyUUnpx5nb8cYq9aC9NhH5jR7v48jnzf/1UASadNB5khXzLWROVbHUnj+eTXW6ZCIrccozEcun8X1rl7L7TFeQrK0I8wlmyO3bP6V11r/quTGTk58vpQBPRRQaACiuW8a2Xiy8j00eDb6CzeO7VrwzY/eQ55UZU8/l9a6dAQo3dcc0AOooooAKKKKACiiigAooooAKKKKACiiigCC+vbbTrGa8vp0t7aBC8sshwqKOpJpmnajZ6tp8V9ptxHc2s67o5omyrj1Bo1LTrXV9NuNP1GET2tyhjljJIDqeo45pmk6TZaHpcGm6Vbi2s7dNkUSkkKPTJOaALtFFFABXBfF3/AJFW2/6+1/8AQWrvTXA/F7/kVbb/AK+x/wCgtQBH4A/5E22/35P/AEM1o6zeTRzW1lp93Fb3tyxMXmwl1YKMkHHSs74ff8idbf8AXST/ANDNauq6LbasIWuGmhlgO6KaCTY6Z64NAHN6FbeJmtLn7LqNiEFzJuEkZfLZ55zwPatfT9G1RdcGp6xfQzukJijjgjKrycknNYQ0yw0LzINV8SXltLJK0ixwXJyVJ4JGM59TW74ftrJ5Dd6frd3qKhdpSW43qp9xjg8UAb/615T4o/5KdH/12t//AGWvVhXlHin/AJKbH/13t/8A2WgD3EfdFLSDoKWgAooooAKKKKACiiigBMDOcCj8q5rxF4iuNJ1GK3gjhcPGGIY/OckjgegxXPSfEbUC4ii09AfMZCxJ7dx9etAHo1LxXOatrE+n2puZrmO3g+y7ywj3MG/PHtRaa9dLpts81hPdySxhzJbqCvP49aAN+eKOeB4pkV43G1lYZBFcU+ieGRctbQao00kTZi083u6NG9Amf0qK78U3ur6LNAbSbTy94loZzxlWPJX37Vs6h4S0dfDsltFaRxeRGWilA+ZWAyGz1oAYg/4l8mxWaHP71B1L+3fFTyyK2iRwLiSZmxgDqe9UNFu7q70+xupnjjQxgylVzz0BNPexcX0mrF5HTJQRk4H1+poAYLuLSZTdTOHjK+VknkMei/Ss+SUWOZYw0jf6lwF6bu4PtWjb2VpdzeRtBgAMrEnnf/8AWqkZyGEt3/qmRkU4wNx4GfegCjMsq24hVAsUr9Wbo44/lg1ctIrmXdHNc7W3BHVQBhuu7JqJ2y8dpGA6Inm724w/3ce9Otk8uWW41CQuUHlyr0G49x680AThIGmkkiR7kqdq7mOAB79Oua6rS7oTQgfIOM4jHC+2fWuecMlmu5DBF0CL94nuP6/jUmm3LRRlFAUwtlVB4XPb3NAHW0VXs7tLuEOvBxyvpVg0AFFcr418bQ+C49NeexnvPt90tsBCR+7J/iPtXUIdyhsdRmgB1FFFABRRRQAUUUUAFFFFABRRRQAUUUUAFFUNdsrzUdBvbPTL02F3PCyQ3SrkwsRw2PaovDWnX+leHbOy1fUW1O9hj2y3bLtMp9cUAalFFFABXBfF3/kVrb/r7X/0Bq72uB+L3/IrW3/X2v8A6A1AEfw+/wCRNtv9+T/0M109cx8P/wDkTrb/AH5P/QzWrrWsxaLaLI8bzzSOEigj+9Ix7CgDE8O3VhaXuqRanJDFqBu3aTzyAXQ/dwT1GKWyks7rx60ui7GjS1Iu5IgNjNu+XkcE9ab4luLKS2sPtmiC71O7GIbZzhl7nLDnAzVrwxqMSzS6RNpaaVdwrvMMf3XX+8D3oA6TuK8o8U/8lNj/AOu9v/7LXq/evKPFP/JTo/8Arvb/APstAHuI6ClpB0FLQAUUUUAFFFFABRRRQBE1vE0wlaNDJjG8qM49M0GCIkExqcdPl6Vnap4gtNKuFguBJvddwIU7RzgZPbNZk3j/AEWNQBKzSFim3bj5h1HPvxQB0rxI6lZEVwR0YZzSoiou1FCr2A4FZdzrMsJ2w2byMYPOBLAKfao7PxPp02n29xc3Eds8yb/LduRQBf1HTbbUtPltLqMNFIOg4IPYg9iD3rlp/D3iI2hs7rxAsunpwUEO2WVf7jN79M96s33jO3udKlOhSpJd+etsAwz5bMep9Rjmo7zwjLb6dLeQavqMmoRqZCz3B8uRhyVKfdA9gBQBNbW4jsNlmn7hfkaAnjd2C/Sny3sRt49I3n7QPvgryF9eKh0++e+sba/cC2h8sNKsZzg+vtUr2EUcMurruW4Y4Dhudv8AX1oApXcV1eQiOxQW9xv27ieSg65A9ajjigu7zyXGY8GQh+zKOMVZnvm0tjeXSqQ0YiR1HGT0GPWq32Jp43iJ8kwr5qsPvEDkgn0zQBWScytMjqsru3mCQ9B/Dj6g8014mt5beOfMt6rb5F671HX6VZhRXjiszEokcibg4CqeM/nUciMbyTJL36/KJSeCo6//AKqANC4OAd8u6XaN8gHCr2A9+1Z1vJ5eqIp4R+Gwegq5Eytp6GJR5fO0nqWH3s/TqKoyxFGQqMMSJCf9kHj86AO4sYTDDlgAzcnFWj0qK1lWa2jkToyg1LQA0j2pQMGlooAKKM0UAFFFFABRRRQAUUUUAFFFFABRRRQAUUUUAFFFFABXBfF3/kVrb/r7X/0Bq701wXxd/wCRVtv+vsf+gtQBF8P/APkTbb/fk/8AQzTvE7Gy1bSNVmDG0s5HE5UE7Ny4DHHbNJ8P/wDkTrb/AH5P/QzXSModSGGQexFAHK6fdwa/4sfVbUlrGwt/KjlZSoLnkkZ9BTbG6j13x39v04mSzs7UwtMFIDsTnAz1/wDrV1QhjSMxoihcY2gYFJBbw2sQitoUhjHRI1CgfgKAJB1rynxT/wAlNj/672//ALLXq1eVeKP+Smx/9d7f+S0Ae4DoKWkXpS0AFFFFABRRRQAUUUUAZd9oFlqOopd3aM7omxV3EL1znHfrVX/hDtD8wOLEKytu4YjJ9+a1LjULW0cJPMiSMNyoW5I9hUMms6fFGHku4QOoG8ZPGelAElzptrdwGGaLK7NnDEED2I6UtrYW9papbwRARoMAHk/nTJNVs45CkkwUiHzjnsnrU1lewX1lFd2z7oZV3I2MZHrQBmat4ct7zR5bSyVLSXeJY5FXpIDkE+tY95qXia60uXT30QW8zIUkvROpjA6FlHUk9hW7q+vQabo8l9ERcncEjjQj53JwF/Ose/HieHS3v5rm0kCL5ktikJGFHJCvnk49RQAmmWJtNHit7GQyRxjaUl7v6fhSvfg3celbNqwDc7Mfl9hnvT4rmO6tYr+JSln5YdkVvmfPTPvViSJF0cyoqiS4kymOnsPyoAq29tEbgx3J81FDTFz09gPpVGTzUsUWyJNxJJiROyp35+lPltjfKIdNZoXZ9rsOnHLDFPuLlrS8jn8jMap5ACHueMkUALugjtZVjVvNz+7DfeCHjdn2NV2h8i3Fnc483q9x7/X19qu3MERiggDCSYPjeDyE7H2AqC6DwRtb3Y86Nf8AWyqOWb0P6UAN0797JKkylHXDSKOyDow/Hk1O6eZHLMy7S/QY7f55/Gq1rEYbqGJpR/pB4m6lR6H27Va129t9F02S4uVEaoMBAep7AUAXNE1e2tNIl+33CQJbNgvI2AAelYmq/FfTraUw6Pay6hJ0D/dUn27n8q4/S9F1HxreNd3rta6eG/h/i9lB6/U16DpPh/TdGhCWNsqt3kb5nb8aAOSvPiP4shg+0tpUNrbk43SQPjPpkkVJb/EzxJbwpPf6Ks1uw3CRI3QEeueRV/4j8+FO/wDx8J/I1reGRnwtpw7fZ14P0oAfovxJ0PVmWKaVrGdjjZPwCfZun8q61SGAKkEHkEd64LXPBGl6yjOkYtLk/wDLWJeCfdehrE0TxJqfgbVBpGv5nsHP7uXOdg9R7e3agD1qimRSpNGskbBkYAqR3FPoAKKKKACiiigAooqve3cFjZS3V3IscMS7nY9hQBLLNHDC0szqkajLMxwAPc1xWsfFLRrA+XpwfUZen7v5UH4nr+Fcvfajq/xG1VrazLWmkwn5snjHq2Op9u1dVo3hTS9EjBtoBLN/FNLy34dh+FAGEfH/AIwvvn07QQkfbMEj5/HikXx/4vsvm1LQlaMfeIgdMfjzXcUtAGHo3xR0XUCI9Q36dNnB835kP/Ah/XFdpFLHNGskLq6MMqynII9a4vWvCWla2pNxB5U2OJouG/HsfxrlrDVNW+HWrLaXxa60mVvlx0A9V9CO4oA9grgvi7/yK1t/19r/AOgNXbWl3DfWcdzayCWGVQyOvQiuJ+Lv/Iq23/X2v/oLUARfD/8A5E62/wB+T/0M109cx8Pv+RNtv9+T/wBDNdPQAUUUUAFeU+KP+SnR/wDXe3/kterV5R4p/wCSmx/9d7f/ANloA9xHSlqOSeK3j3zypEn952AH606OWOaMPC6yI3RlOQfxoAdRRRQAUUUUAFFFFAHPaz4abWdXiuZLjy4Y4tpVUBYnJPXqOtZJ+G9qZlYXs+PMLsCOpPWu3yPWjNAGXe6FbX8AhuC5TyvKO1ipI+oqO18OWltYW9qTO4gQIrGdwSPwIrXLAdTigMD0II+tAHIaj4QFlo0raOskt0tyt2EkkJ3lT90Z4HFS6h4stZtInhtLe6fUHiKi1a1cMrEfxEjAA9c10d/fW+nWMt3dyCOGJdzMa5O78U35s/tUvh64ttPkIzeM6lkX+8ydQKAE0OwuLXw/BALoMyKA+4Ajee34U4yXZ1DYUB0+1XAeNsBnPbmrblcJc26brZF37A3+tJ6GpJ3iGixpkZu33E0AVI72PT5vtRhljXZsVQuRuPfiiwe2S/kku5U8ts9T91vQVLZctM98OIoy6qemMYH40WNvHPp7LdhdigyISv3z2OfagCNYt80lxKMXGfJXYcYX196Z5F2knlvi4jjPzscBmb+vFSQ2yLbLcgSRO58kxq3TP8XNOmtruztRELgSOzbDvXkn149qAM2J0W+FzC3lnfhYZBgFc81zWvmTxZ46i0u2LfZLX767shcfe5/QV1WpCSOxfzbZHWNCcq3oPeud+GluJG1G+bl2k2Z9O/8AWgDW8QeKLXwkltZ2tqkx2/6pZNmxR0PQ1iH4qf8AUI/8mf8A7GtT4g6GNQ0kX0C/v7UZOB1Tv+VZPgCDSNWsZbS+022luIDnzHiB3KfegC74v1D+1fh7b33l+V50qNsznHDd66Pwx/yK2m/9e6/yrE8f28Nr4NWG2jSKNJ0CogwAMGtvwx/yK2nf9e6/yoA1ax/EuhQ69pLwuo89AWgcj7rf4Gub8c32pw6/Y2emX01t56BcJIVBJOMnFS6d4f8AF8GpQS3mtCWBHDSILhzuHpjaBQBqfC/Xpbqzm0e/cm4s/ubupTpj8DXf15DpH/Er+MbxJwk7sCAP7y7q9dFAC0UUUAFFFIelAC15l8TdSm1HUbLw3pzEvIweUA9Sfug/Tk11Hhjx74d8WtNHo2pRyXULFZbVztlQg45U849xxXFaOf7T+KuqXUvPkmQLn+HBCigDTvNQ0/wHoMNtBGs05wRDu2tJ6sTg1kf8LUwc/wBkf+TP/wBjW/410Aa3orPEo+022ZI+PvDutcl8P10y+mm07UtPtppQPMikkjBJ7EUAdv4Y8Qf8JHpz3X2f7PtkKbd+7OAOc4HrW1VazsLXT4TFY28VvGWyViXAzVigBaz9b0iDW9JlsrgZDDKN/cbsRWhRQByPwy1Wazurzw3qJYSwMXiDHp2YD+f4mrfxe/5Fa2/6+1/9AasG/f8As34wWE0XHnsm4DjO4FT+tb3xd/5FW2/6+1/9AagCP4ff8idbf78n/oZrpq5r4ff8ibbf78n/AKGa6agAooooAK8o8U/8lNT/AK7W/wDJa9XryjxT/wAlNj/672//ALLQB3/i57W017TrzXYBd6U0bQmIgOElJBD7P4uBjvipvA0cckuqX2n7YtLuJx9ltlP3Nowzbf4cntwadqsd5YeLo9WbT7jUrX7MYo0twGeB85JCkjqO4pfDOn3X/CRapq7WcmnWl4qBLWTAdmHVyBkLn0oA6qiig0AFFZNh4k0vUNSubCC5UXdtI0bwv8rZBxkeo+la1ABRRRQBy3iGz1e81iFdN81YhF8zebtjBycgr3JGKwpdA8ZPIqNeExeYxws3AQ9AenTp3r0XijigDm9Z0Oe8syI1d3Nt5TKk2wnkcA4x+NP07SNVi0m2hOotaNHHtMaxI+Pqcda6LNGaAOB1PR9W0/QZZ9Vvnv4Y7xLhodufLjB5x6+uK6TVtX05fC1xeNPFJavA2zBBD5HAHrWvKyrGzSEBQMsT0ArgJL3wOupebY2dut5LJtS6+ysIy/cq+3bn6UAWvD9tcJ4btBNdsh2DI2rhSe3I7CpTbSm6uNRaaTyIB5UcZUcerYq3JEY5RLbRgLEudh48xj/FRJcobWzs0bEkrGSQMcbcetAEF5Yvd29taQXcnmTuGdhjheuOBU95bNeeTZQTSpJGfn5A24/h6d6iS8gsNSeS233Cqu0JGpPznqfpUpNyZzNaxfvWG1t7/eXucCgCWO3W4l+1faJxB/qiN44Pr+fFRGyLXDvJdTlYT5YJfr6N/SrFwksMCyicLFOBGViXGCehzURsrWxiCXLGWSMbTuJYup7gUAZmopbtbSx/apWLIVwrljyPb8vwrnvhnOIxqFmTh1kD479Mf0rq7l5PKYoq2qDOSwGR68D8/wAa89muW8MeM0v1Dm2uPvlhjcCef15oA63x1ro0nRGhhcLdXQ2KO4XuaxPhzpMUavq106q7EpCpbHHc1p+K/CzeJ/sl3pklukm35pJCRuU9MYB965s/C/Vv+fqyH/Am/wDiaAOn+IrBvCWVOVNwmDnPY1a0fV9P0zwzpY1C7itzJbLtEjYzxWL4p0+TSvhvbWc7I0kUqKxTOCcH2rSsfDmna74Y0k6hHI5itlC7HK4yKAMDxLqVnqfjLSJNPuI50VlDGM5wd1ekj9K5u38B6Fa3Mc8UMweJg6kzE8ir/iHW4dA0l7mXmQjbEndmxQBxUVjB4k+K0tvOsjW6swk8uVozhVxwykEc+hrvh8O/Dv8Azxv/APwa3X/xysT4XaFNFbz67eriW84jz1C55P4mvQhQBzH/AArvw5/zwvv/AAa3X/xyj/hXfhz/AJ4X3/g1uv8A45XUUUAcv/wrvw5/zwvv/Brdf/HKD8O/DuOIL7/wa3X/AMcrqKKAPFfBf7OulaJrP9ta/ez3l6JjLDDBK0ccPOR8wO5j75A+tX9DUab8UtUtpflMpk2578hq9brzD4lafLpes2PiWyXlXCSj3HT8xkfhQB0HiDWItE0aa7lI3hcRLnlm7V534E0tNS1x9QvCBFbneOcbnJ/ya6fWtPHjrw/ZXGlyQowfcTMSNvHK8Z71zv8Awq/Vz1u7H/vp/wD4mgD1FGVxuVgwPcHinVieFdGn0HQksrl43kV2bMecYJ9wK26ACkNLVHWNUg0bS5b26PyRjhR/EewoA4bXLQa18U7SxV5EChEd4XKsoALEhhyD71c+I3huHR/D8E8WoarclrgJsvNQlnUfKxyFYkZ96tfDPTJtR1K98TXvLSsyRZ9Scsf5D86v/F3/AJFa2/6+x/6A1AEXw/8A+RNtv9+T/wBDNdPXMfD/AP5E63/35P8A0M109ABRRRQAdxXk/ixBJ8SlRhlWlgBwcdlr1ivKfFH/ACU6P/rvb/8AstAHrS+GdMx9y4/8DJv/AIql/wCEY0v/AJ53H/gZN/8AFVrDpRQBkf8ACMaZ/cuP/Ayb/wCKoPhjTMf6u4P/AG+Tf/FVr0UAcFY/DC0Gv3Oo6lcSSRtOzwQRuw2jJI3PnJOK7uNBHGqLnCjAycn86dRQAUUUUAct4j1nUbLVorXT/n3xbzGISxbkgncOBjFc/L4r8V+YsQsDHukZA3kMCV/hP1PWvR9q7twUZxjNGPz7UAczr0+r2+nGWwmkVjbgkCLcEORk8DOcdqfp1/rraTaulityzRjdJLJ5bE+uCM10lH5UAcBqWo65eaHNFrloLO2kvUhMinBeInnPoO2a6jVNOsW8M3Fq8UaWqQHaAMBABwR9K0Ly0gvrOW2uo1khkXayHoRXI3nhfybf7NN4gvriyRgEsXZeRngM2NxH1oATQ2nuPDtrJe3LtuUZZQAT6fjgfrV210yNprvU3U+eD5cW9twAHb86T7P5O02QVFhThGztZj3x24ofUYzFDpsYfzlXzJVHOPx96ALOjyo8dxczBUEecJ7DqfeltJ109RPMdyTchQMsmfb0pl5YzXsdrYs4gB+ZhEfmCj1NaKSQWVu8U6LGyr1xw/40AU9s0t6UdfJs/TILBj79qSVIbSQooM10oyueWkTvk9qdbrIkAgyVtpTzK45yew/xpXXyW+x23zTqcpKxz+BPr7UAZ90jlgJCJZ88J/Co7MR34/lXN+INLivUFvLlpnIJkP8Ayz9//rV1kyR2ltlAW3E7T3J7g/Q/pWPd25SFmc5kbkk+vpQBy1hrGreBtQXTdbiaSwJ/dsBnA9VPce1d9p2p2eq2wnsJ0mQ9dp5H1HartnBZeIPDsUd/bx3EbLtZXGcEccHqK5HVPhPicz+HdRa0bqI5STj6MOaAF+I//Ip/9vCfyNa/hn/kV9N/691/lXH3ngTxtcW32W4u0u4N2drXORn1+YZqWDwB4znhS3n1NLe3QbQn2liAPoo5oA6XXfFWnaFC3nSiW4x8tvG2Wz7+lcvo2j6l8Q9UW/1gGHTIDhVQbd3+yvr7mun0L4YaZpsq3GpO2ozjnDjCA/Tv+NdrHGsSBI0CIowABgCgBtvAltAkMKhIo1CooHQCpaKKACiiigAooooAKq6lp9tqlhLZ30YkhlG1lP8AMe9WqDQB45dx6r8N9YZIw11pM77gWHB/Hs3867XSNf0/W4d9jcK7Yy0bcOv1FdRcW0V1C0NzEksbjDI6gqfwrg9Y+FNnPMbjQrlrCXOdjZZM+x6j9aAOnpP88VwQ8HePbL5bbVBKo6YuSf8A0IUHwb49vvkutUEaHrm6I/8AQRQB1WseIdO0SPdfXCh8ZWFeXb8K4uzh1X4kawomDW2kQNk7BwPbP8Te/aui0b4U2VvILjXLl7+XOTGOI/xzya7y3t4rWFYbeNYo0GFRBgAUARafYQaZYxWdnGI4IV2qoFcZ8Xf+RWtv+vtf/QGrvTXBfF3/AJFW2/6+x/6C1AEXw+/5E+2/35P/AEM109cx8P8A/kTrb/fk/wDQzXT0AFFFFABXlHin/kpsf/Xe3/8AZa9XryjxT/yU2P8A672//stAHuI6ClpB0FLQAUUUUAFFFFABRRRQBi6x4hi0i4SCS3lk3KG8xcbVycAHnPasWX4k6anyx29w0hdo8bRgMvX9eK6W40ewvL1bu7tkmlVNilxnAzmoj4d0guG/s22yDkERgc0AQ3mr3FvGxjt4wv2YzB5JOMjqMAZ/GoU8Tx29nbnVLeaK4liEjJBG8ijP+0BWxJaW8yhZIkddu3BHb0qVUCKFAAUDAAHAoA4y58ajVNJni0pZra6+1LaGSRCNm7+IE9eP1qS88A6PBpbT2sRTUYFMq3zMTKzjnLNnkHvW/qmiWup6VJZFfIDHejwjaUcHIYe+a5i8/wCEyexbT7xbCO2I8uS+jkPmSJ0+VMcMRQBJp1xNqmkQXV+QPMxuji4BPp78CtZbSFNPZnjUGeTJwOgHTFULbT0tYorexYwxwJtXccqWPU4PoO9TPdXFzfJCseLa0TLzRjKk9sUAWYZprK6d5Q1ycYAX7w/+tUssA1eWMTvvjX59qnhT2/GrGnC3gsmkV1LcvI5bLfj3qvHbvd/vbUmHeSzyrxu9sUASvO8jmydgUPymfHH+79aUQJaQi2kJ8vqkxPIPvU8bosQguoliPQAj5W+hqpKrPMYWDS2C/eYHJB9PcUAVwrTytcSfI2dojboD/e/4FVC+TMTYz+I5rbkVhhWw5AxG/wDz0X+6fesu8UFGAO73I5oATwVd7ormzbrE+5foa6qvHf8AhL18P61K2not3M6FDGD8u7PHTrTpF8e+Jm8yWeSwgb7qhzCoH0HzGgD2CjNeCeIdB1HQprQXWptPJdNjIZjt5HcnnrWz/wAIt4u0sCXSdXklwMhEnZf0bg0AexUV5fpPxH1PSrtLLxhZsgPH2gR7WHuR0P1FejWGoWmp2qXNhcRzwt0dDmgC1RRRQAUUUUAFFFFABRRSH60ALRXM+JvHGl+GlaKRvtF5jIt4+o/3j2rhpdS8deKzutw+n2jfd2Hylx9fvGgD1/NFeQL8PNYnG68107+/Lv8AqSKR/BnijTR5mla00jDoqzPGT+ZxQB7BRXlNj4+8QeHZ0tvFllJNEek20BsfUcNXpGlaxY6zZi6064SaM9SDyp9COxoAvVwPxe/5FW2/6+1/9Bau+rgvi7/yK1t/19r/AOgNQBF8Pv8AkTbb/fk/9DNdNXM/D/8A5E62/wB+T/0M109ABRRRQAV5T4o/5Kan/Xe3/wDZa9WryjxT/wAlOjz/AM97f+S0Ae4r90fSlrN1XWbbSIoftAkllnbZDBCm55G64A+lRaX4ittSvpLF4LiyvY03m3uU2sV9RgkEfQ0Aa9FGaKACiiigAooooAz77WbHT50gurhEmddyRs2CwqtJ4p0dEz9uhYnoituJOM4+tN1Tw5Fq2pLcXM8oiWPaYUOAxySCfzrMf4daM8quVmyrlyGfdknr16ZoA1dQ8SWenRO8wkO2DzuF4xnpnpmrWn6ra6hp8N5E6okyB1DsM4qPUNDttRs/s85cL5flgg8gdvr0qO38NaXDaRQSWcVx5S7Q80as38qAK+q+J7e30d7jTWjupzKII493HmE4Ab+dZuo6JriWD38uuyXM0S+a1mYEEDYGSq8bh9cmrGo+DrWLSZl0G3jtrzzluFc8b3U5AY+naq+peJr2fR5bWLRdQg1CVDGfMiAjiY8Ft+cEd+DmgCbR5v7Us4r+WParKGjtwc7WPYnvWpEnl27AsC00nzHsQOtZej6SNJ0GJXuZFW1j5fdwz9zg1PaW17PKJJZlaGFcBJUxuPUk4oAsXdomrTRxBWijzkupwzgf0rRCXNtGBHtmVRgAjacfyqtaS3ILzy2u7ccL5bg8fQ4qebUooI90qyRk8AMh5P4UAQzXkd2fsZHlyOPmSUcgeo9akjtpLCAR2v7yJf8Alm3X8D/jTbf7LMh86SKaV+WJI49qmNq6YNpMUA/gb5lP+FAFQpG9u5gy0WcvD/Eh9R3H0rhPHPiKeK4TR9KPm3FwAHkU8jd0HsT3rudTu1s7Ge7vIWgeFC3mxnIOB6/41554Gs21jVrzX9Q/eyeYRGW7Mep/KgDY8MeDLTRFW5uMT3pHLsOIz/s/4109eY+M/EetWniKSG3nuLKNFAVUfiQf3vxqrFN44mhSWJtReNxlWXoRQBtfEn/j90f/AK6H+YrvY/8AVp9BXnnj/wAzOhedu8zPzZ65ytehx/6tPoKAKmp6VaaxZNbX8Syo3Q91PqDXCwXF78NdfCbzdaXdHLAjnHr7MP1rtLrxFpFncNBd6jBFKn3kZ8EfhWXrE+jeK9LmsbS8t7i5VDJEEbLKRQB3ltPHc28c8LBo5FDKR3BqauC+FmryXmiTadctmWxfaueuw9P613tABRRRQAUUUUABrkvHvi1vDWlolpta9uSRHk/cHdsV1jHA64ryKzYeMPiPc3dz+9tLQnylbpgHC8fmaALfhbweH26vr4ae8lPmLHLyFz3Pqf5V24HNed+Pte1XTtaigsp5rSERAgo2BJz1/DpWTb3Pje6t1mtZNRljkGVdDkGgD1ukqlo32k6La/b932jyx5m/72e+avUAQXdnb31s0F5CksTDBRl/WvPbi2vfhzrkepaeWuNOmO2SNuOP7p9/Q16TVHWdMh1fSp7OcAiRflP91uxoA3tM1CDVdOhvbRt0Uy7lP9PrXG/F3/kVrb/r7X/0Bqq/CnUZIkv9CuiRJauXRSegzhh+f86s/F7/AJFW2/6+1/8AQGoAj+H/APyJ1t/vyf8AoZrp65j4f/8AIm23+/J/6Ga6egAooooAK8p8Uf8AJTo8f897f+S16tXlPij/AJKdH/12t/5LQB6f4jstQOoaXqml2y3b2LvvtmcIXVhjIJ4yMCsRLq+vPidpcl5pxsG+ySjY0wdivq23gc+5rq9WtdTuY4/7I1BLKRSd3mQeYrD06giq+j6AbG8l1DULt77UZl2NOyBQi5+6qjoKANkUtApD0oAWisuPxFpb6xNpf2yNL2EgNFIdpOQDxnrwe1alABRRRQAySVIxl3C9+TTXuYY497yqFAzkntXPa94fu9W1qGaGWOGGOLBkIJcHJ4HNYr/D2/aZGbVi6+YXIYN8uew57dB7UAdrPqNnbRlp7mKNQm87mx8vrU1vcRXMCTQSLJG4yrKeCKxtU8PfbrXERiWYQCMOynkg5HTmjTvDz2mlwWz6hdh40wxik2qT3PIP86ANDVdUttK0yW9uSTHGOAgyWJ4AHuTXN6nqHiFtOF7daXBDYqRLLHHOWnRPUjG0kdcA/jUGpeG7nStBlmjuLnUDHdpdGA8gKDyFX6c1q6h4p0eXQZXt723uJZoikdukgMjsRjbt65z27UAWEKXllbTKV+zPho1Hcdcn3q3ljaoi8PO2T7CsXSdOlttJsLKd5VlWIB1Dkbc9Rx7Vs29kjzPKXl2r8ifvW6D8aAL3ywxc8Ko/Kq8Km4l+0Sfd/wCWansPWoHtIbqfyh5hjT758xvmPp1qz/Z9t/zzP/fR/wAaAJJbeCXPmxI31AqD7Fbp/qpHi/3JCKk/s+1/55A/Uk0f2faD/lgn5UAc144aaDwbqBS98wFACpAzgsO4rH+HahfCcZHVpHz+ddV4j0W3vfDd9BDAnmNCxTC9xz/SuL+Gt2H0WeyY4kglJ2nqAf8A6+aAHfEjTbebREvmKpNAwVTj74Paj4cajPdaLJayxuVtnwkh6EHt+H+Fcz8QNXubzXWsZA0dvbHCqf4j/erb0Hxh4c0fTYLC3S7J43N5I+Zj1PWgBPiT/wAfmj/9dD/MV3sf+rXP90VwPxHO670YgdXJGfqK0vEPjG50LUVs4dN+0r5Stv3kdR04FAHO6hpkGsfE6ezu94ickkocHhfoa7HR/BumaHfi8sjcGXaV/eSAjB9sVxvh69n1b4iJqEtq0HmhiVwSBx616XdXKWlrLcSsFSJCxJ9qAPN/CviXSPCfjDVJNc1CHT7WQsivKcBmDcD+ddv/AMLd8A/9DVp//fZ/wrC+FNkbq81TVZUBV22ISO+cn+Yr0zyY/wDnmv5UAch/wt3wD/0NWn/99n/Cj/hbvgH/AKGrT/8Avs/4V1/kxf8APNP++aPJi/55p/3zQByH/C3fAP8A0NWn/wDfZ/wpD8XfAPbxVp//AH8P+Fdh5MX/ADzT/vmk8mPtGo/4DQB4vcftJ+GIfEWoaTdRS/ZEZkt9Stj5kb8cEjgjn0zV74VPFcw6hcwuHWRk2sO45P8AWus/4VX4RfxJea/d6RFealdvvaW5+dUOMfKp4H1xn3rkfAW7S/FGp6VP8jc7RjH3Tj+RoA6Hxvo0Wp+H5JWKxzWoMqOfQckfjXP/AA21mdjLpLxtJEoMiODxH7H2pfiXq9xGYNLjykLp5jkHh+eB+GKqeEvE2geHtMKSrcvdy8zOsQI9lHPQUAem/Xr3par2N3Ff2UV3b7vLmUMu4YOKsUAFIaWmSusUTSSMFRRuYk9AKAPOrWHVP+Foahb+Hb22sbmTcfNubYzJjgkbQy8596l+IFj4qttDhfxFrenahbGcBY7XTWt2DbTg7jK2RjPGKufDuNtW8a6trTKfLGVVsd2bp+QrV+Lv/Iq23/X2v/oDUARfD/8A5E22/wB+T/0M109cx8Pv+RNtv9+T/wBDNdPQAUUUUAHpXk3i2NZviQI3zteWBTgkHBC9xXrNeUeKf+SnJ/13t/5LQB6kvgzR8D5Lwf8Ab/N/8VS/8IZo/wDdvP8AwOm/+LreHQUtAGB/whmj/wB28/8AA6b/AOLo/wCEM0f+7ef+B83/AMXW/RQB55L8LLe78RT3lzdSJYlwYoEkZpDwM7nbJ6g+v1Fd7aW0dnax28O4RxrtXcxY4+p5NTUUAFFFFABRiiigAooooAQ9OKoRQ6YNSl8pLX7aoDSbVXzAD3OOavnpXH2728Xj3XZF/swXAtYt3lE/acY439semKANZZS91K68sTtT8avOfJhS2g5kYY+g7mqNgwjj85xnb0A6sx7CtO1iK7pZf9bJy3t7UASQxLDGEUcAdfWpKQnFVWvQ7bbVGmbuV4UfUmgC2arSXkYO2IGZ/wC7GM4+p7U37LJP/wAfUmV/55pwPx9asRxLEoWNVVR0AFAFb7PPcc3L7EP/ACzj7/U15b4htJvA/jZdTtIm/s+6PzY6c9V+vcV66ap6rpVrrOnS2V/EJIpBjB7H1HvQBxU/hfQPEsp1UtLMZwCXjmwDgY6etMT4d6AkisqXOVOR++/+tWJd6Nr/AMPLprmw/wBN0tj8wxwP94fwn3Fa+l/ETSbxAL0tZS91cbl/Bh/WgDN+I67LrRgOgcj9Vrvk4jXB/hFec+PtRsr650l7K7hnVJCWMbA45HX0rqbrxjoVhCDJfxyMF+5D85P5UAb2fWuB8b62+pzRaBopNxNK+JRGc8/3c/zqC48Wax4rnbTfDVm8SycNLu+YD3PRa7Lwb4Gh8Mq1xcOLm/kXDSY4j9lz/PvQBs+GtHTQtBtrFPvRp85Hdj1P51rUgpaACiiigAooooADXmPxG0i40rWLbxPpaEFWAn2joR3PsRwa9OqO4t4ru2kguI1kikXa6MMgigDz5bHQ/HdpBqE3ms8abGRJCuw9cEUn/CufD/eO5/7/AP8A9as7WPCGr+EL99V8KtJNa9ZIDyVHoR/EP1FT6T8SNPuMR6pE1lIOMgbk/wARQB11naRWFnFa2+fKiUKu45OBU9ZsPiHR513Rana495lH88GoLzxbodkhMuowMR/DG28n8s0AbNcV468QKLU6JprNNe3JCOsfJUf3eO59KpXvjy/1a4+w+FrGRnf5RIy5f6gdB9Sa6Twb4AGjXA1TV5ftGosCQvVYyep9296ANfwRoDeHfDcVtOFFzIfMmx2Y9vwGB+FYnxd/5Fa2/wCvsf8AoDV3gFch8TdMl1HwfI1uhdrWVZioGSQMg/zz+FAGb8Pv+RNt/wDfk/8AQzXT15n4L8Z2Wk6YdP1PciIxaORV3AgnOD36103/AAsHw7/z+Sf9+H/woA6aiuZ/4WD4d/5/JP8Avw/+FH/CwfDve8k/78P/AIUAdN3FeUeKf+SnR/8AXe3/AJLXYP8AELw8qErcysQPuiBsn8xXF2Ty+MPiNBPDEyo06SEf3I0xyfy/WgD3UdBS0g6UtABRRRQAUUUUAFFFFABRXnz/ABDuoArPb2s25lX9zKSvzd847d6u6J4vu9a+1iSFbVYImYMnzZx3H/16AO0orzlvF2uafdCK5RbzNtvAjg+YMRkHaOSB3IxW/pviW5m0WyuZdMvLiWeEO7wQ7VB9MMcigDpj0rltV1bQ/tj29ndWB1Kd1jlEbp5pA7HvxWXd+Kr7VtGlgNpNpxe8S0adhgMrHkr744rZv/CejL4de2hsoYRbxloZVQb0YDIbd1zmgDTs4gsayS7ViQfJn/0KpzdtLxaRmXn754X8+9Zvhwvqmg2d3fOZpGQZ4AXPritwDAwBgUAVVtGkbddyGQ/3Rwo/Dv8AjVlEVFCooVR0AGKdRQAUUUUAFFFFACMNy4IyPQ1hal4K0DVmL3emxiQ9Xiyh/TGa3qKAODk+Eegs2UuL5F/uiRSB+a1dsfhl4bs2DPayXTD/AJ7yEj8hgV19FAEFtZ21nEIrSCOFB0WNAo/Sp6KKACiiigAooooAKKKKACiiigBDzWRqnhTRdYB+36dC7H+NV2t+YrYooA4Wb4S6BI2Y5b2Ef3VlB/mDU9n8LvDlqwaSK4ucdppePyGK7OigCrZabZ6dD5VhaxW6ekaBc/lVkUtFABSMNwwf1FLRQByWr/DfQdWuDP5UlpIfvfZmChvwII/Ks3/hUOif8/l//wB9p/8AE139FAHA/wDCodE/5/L/AP7+J/8AE0f8Kh0T/n8v/wDv4n/xNd9RQBwI+EWhggm6vmHoXT/4muq0Xw9pugWvk6XbLFn70h5d/qx5NalFACAYpaKKACiiigAooooAKKKKAKtparFaRJJBCjhAGWMfKD3xx0qZIY0yEjVQeuFxmpKKAI/KTfv2LuxjdjnHpTgoAwowPanUUAU9S0y31XTpbO6X93IOqnBU9mB7EHmucPh3xNcQDTr/AFq3k00fK7rARcSp/dY5xz0JFdfRQBFb28drbxwwIEjjUKqjsBUtFFABRRRQAUUUUAFFFFABRRRQAUUUUAFFFFABRRRQAUUUUAFFFFABRRRQAUUUUAFFFFABRRRQAUUUUAFFFFABRRRQAUUUUAFFFFABRRRQAUUUUAFFFFAH/9k=)\n",
        "\n",
        "En la anterior imagen se representa de forma sencilla la arquitectura de una red neuronal, donde en la última capa se puede ver la llamada función de activación softmax. Hay numerosas funciones de activación que se utilizan en cada capa, esta la relu, tanh, softmax... entre otras. Resulta que en función del problema a resolver y la arquitectura del modelo es conveniente utilizar un tipo u otro de función de activación.\n",
        "\n",
        "La función de activación de la capa de salida representada en la anterior imagen es softmax que se utiliza para en los casos de clasificación multiclase ya que permite crear un vector de distribuciones de probabilidad de los resultados obtenidos en el modelo pudiendo otorgar cierta probabilidad de pertenecer o no a cada una de las clases estudiadas. Es una función que se utiliza en los problemas en los que se requiera clasificar los datos en más de dos tipos de clase.\n",
        "\n",
        "Para nuestro caso, que es una clasificación binaria, utilizaremos la siguiente función en la capa de salida, la función sigmoide."
      ],
      "metadata": {
        "id": "GPO_tDNRe8Ua"
      }
    },
    {
      "cell_type": "markdown",
      "source": [
        "La función sigmoide es comúnmente utilizada en problemas de clasificación binaria y en capas de salida de modelos de redes neuronales cuando se busca realizar una predicción de probabilidad. La función sigmoide produce valores en el rango de 0 a 1, lo que la hace útil para interpretar la salida como la probabilidad de que un ejemplo pertenezca a una clase específica.\n",
        "\n",
        "![image.png](data:image/png;base64,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)\n",
        "\n",
        "En la fase de predicción, a menudo se establece un umbral, por ejemplo, 0.5, y si la salida de la función sigmoide es mayor que ese umbral, se clasifica como la clase positiva, y si es menor, se clasifica como la clase negativa.\n",
        "\n",
        "Por otro lado, hay una función de pérdida que se utiliza para ver cuán incorrectos son los resultados por el modelo con respecto a los reales, este dato se utilizará posteriormente para el reajuste de pesos de las neuronas para que cada vez el error sea el mínimo. Hay dos tipos principales de funciones de pérdida para arquitecturas de redes neuronales, aquellas que se utilizan para problemas de regresión como el mse y otras que se utilizan para problemas de clasificación como la entropía cruzada y para nuestro caso, la entropía binaria cruzada. Es una medida de distancia entre los resultados del modelo y los reales.\n",
        "\n",
        "Por último, el optimizador determinará como se utilizarán esos resultados del error para variar el valor de los pesos de forma que el error cada vez sea mínimo. El optimizador rmsprop se usa comúnmente en la mayoría de este tipo de problemas.\n"
      ],
      "metadata": {
        "id": "JDoPCoTFf6Zm"
      }
    },
    {
      "cell_type": "markdown",
      "source": [
        "# Opción 1:\n",
        "Se realiza un modelo sencillo con los datos que se tiene."
      ],
      "metadata": {
        "id": "jz6EC8rlf1cy"
      }
    },
    {
      "cell_type": "code",
      "source": [
        "# Primer modelo.\n",
        "\n",
        "# El tipo de red será secuencial.\n",
        "# Desde la entrada hasta la salida sin ciclos.\n",
        "network = models.Sequential()\n",
        "\n",
        "# Las capas serán del tipo dense, es decir, la conexión entre cada valor de\n",
        "# entada o cada neurona se hace con cada neurona de la siguiente capa, es una\n",
        "# relación de todos con todos. De esta manera cada neurona ve todos los datos y\n",
        "# cada neurona trabaja con cada neurona.\n",
        "\n",
        "# La entrada de los datos tiene una dimensión de 17 ya que cada dato tiene 17\n",
        "# características.\n",
        "network.add(layers.Dense(64, activation='relu', input_shape=(17,)))\n",
        "\n",
        "network.add(layers.Dense(10, activation='relu'))\n",
        "\n",
        "# Última capa con la función sigmoid.\n",
        "network.add(layers.Dense(1, activation='sigmoid'))\n",
        "\n",
        "network.summary()\n",
        "\n",
        "network.compile(optimizer='rmsprop', # Optimizador.\n",
        "                loss='binary_crossentropy', # Función de pérdida.\n",
        "                metrics=['accuracy']) # Medida de precisión.\n",
        "\n",
        "resultados = network.fit(df_normalized, dflabel,\n",
        "            epochs=20,\n",
        "            batch_size=50,\n",
        "            validation_data=(df_test_normalized, dflabel_test)) # Validación."
      ],
      "metadata": {
        "id": "WAvkvRd8gtgl",
        "colab": {
          "base_uri": "https://localhost:8080/"
        },
        "outputId": "ebc2f0d3-22ce-4278-e525-2a3aa08c380e"
      },
      "execution_count": 801,
      "outputs": [
        {
          "output_type": "stream",
          "name": "stdout",
          "text": [
            "Model: \"sequential_183\"\n",
            "_________________________________________________________________\n",
            " Layer (type)                Output Shape              Param #   \n",
            "=================================================================\n",
            " dense_553 (Dense)           (None, 64)                1152      \n",
            "                                                                 \n",
            " dense_554 (Dense)           (None, 10)                650       \n",
            "                                                                 \n",
            " dense_555 (Dense)           (None, 1)                 11        \n",
            "                                                                 \n",
            "=================================================================\n",
            "Total params: 1813 (7.08 KB)\n",
            "Trainable params: 1813 (7.08 KB)\n",
            "Non-trainable params: 0 (0.00 Byte)\n",
            "_________________________________________________________________\n",
            "Epoch 1/20\n",
            "23/23 [==============================] - 1s 16ms/step - loss: 0.6589 - accuracy: 0.6225 - val_loss: 0.5695 - val_accuracy: 0.7324\n",
            "Epoch 2/20\n",
            "23/23 [==============================] - 0s 6ms/step - loss: 0.5692 - accuracy: 0.7180 - val_loss: 0.5225 - val_accuracy: 0.7459\n",
            "Epoch 3/20\n",
            "23/23 [==============================] - 0s 9ms/step - loss: 0.5361 - accuracy: 0.7387 - val_loss: 0.4983 - val_accuracy: 0.7568\n",
            "Epoch 4/20\n",
            "23/23 [==============================] - 0s 7ms/step - loss: 0.5187 - accuracy: 0.7432 - val_loss: 0.4816 - val_accuracy: 0.7649\n",
            "Epoch 5/20\n",
            "23/23 [==============================] - 0s 5ms/step - loss: 0.5054 - accuracy: 0.7541 - val_loss: 0.4755 - val_accuracy: 0.7838\n",
            "Epoch 6/20\n",
            "23/23 [==============================] - 0s 8ms/step - loss: 0.4953 - accuracy: 0.7550 - val_loss: 0.4703 - val_accuracy: 0.7703\n",
            "Epoch 7/20\n",
            "23/23 [==============================] - 0s 5ms/step - loss: 0.4889 - accuracy: 0.7622 - val_loss: 0.4679 - val_accuracy: 0.7865\n",
            "Epoch 8/20\n",
            "23/23 [==============================] - 0s 5ms/step - loss: 0.4822 - accuracy: 0.7676 - val_loss: 0.4662 - val_accuracy: 0.7865\n",
            "Epoch 9/20\n",
            "23/23 [==============================] - 0s 6ms/step - loss: 0.4767 - accuracy: 0.7694 - val_loss: 0.4577 - val_accuracy: 0.7919\n",
            "Epoch 10/20\n",
            "23/23 [==============================] - 0s 5ms/step - loss: 0.4712 - accuracy: 0.7712 - val_loss: 0.4597 - val_accuracy: 0.7919\n",
            "Epoch 11/20\n",
            "23/23 [==============================] - 0s 5ms/step - loss: 0.4666 - accuracy: 0.7766 - val_loss: 0.4619 - val_accuracy: 0.8000\n",
            "Epoch 12/20\n",
            "23/23 [==============================] - 0s 6ms/step - loss: 0.4647 - accuracy: 0.7721 - val_loss: 0.4590 - val_accuracy: 0.7892\n",
            "Epoch 13/20\n",
            "23/23 [==============================] - 0s 5ms/step - loss: 0.4607 - accuracy: 0.7784 - val_loss: 0.4605 - val_accuracy: 0.7946\n",
            "Epoch 14/20\n",
            "23/23 [==============================] - 0s 6ms/step - loss: 0.4567 - accuracy: 0.7829 - val_loss: 0.4583 - val_accuracy: 0.7892\n",
            "Epoch 15/20\n",
            "23/23 [==============================] - 0s 4ms/step - loss: 0.4545 - accuracy: 0.7838 - val_loss: 0.4605 - val_accuracy: 0.7919\n",
            "Epoch 16/20\n",
            "23/23 [==============================] - 0s 5ms/step - loss: 0.4519 - accuracy: 0.7856 - val_loss: 0.4599 - val_accuracy: 0.7973\n",
            "Epoch 17/20\n",
            "23/23 [==============================] - 0s 5ms/step - loss: 0.4473 - accuracy: 0.7892 - val_loss: 0.4597 - val_accuracy: 0.7973\n",
            "Epoch 18/20\n",
            "23/23 [==============================] - 0s 5ms/step - loss: 0.4468 - accuracy: 0.7838 - val_loss: 0.4590 - val_accuracy: 0.7973\n",
            "Epoch 19/20\n",
            "23/23 [==============================] - 0s 9ms/step - loss: 0.4441 - accuracy: 0.7847 - val_loss: 0.4610 - val_accuracy: 0.7973\n",
            "Epoch 20/20\n",
            "23/23 [==============================] - 0s 9ms/step - loss: 0.4431 - accuracy: 0.7829 - val_loss: 0.4594 - val_accuracy: 0.7946\n"
          ]
        }
      ]
    },
    {
      "cell_type": "markdown",
      "source": [
        "Con un primer modelo básico se consigue cerca de un 78% de precisión en los datos de validación. Comprobaremos acontinuación si equilibrando los datos de entrenamiento para que tengan el mismo número de de clientes que asisten y que no asisten eliminando parte de los que superan en número a los otros, es decir, eliminaremos datos de los clientes que no asisten, mejora el modelo."
      ],
      "metadata": {
        "id": "tnITZqBHQKI4"
      }
    },
    {
      "cell_type": "code",
      "source": [
        "from sklearn.metrics import confusion_matrix, classification_report\n",
        "\n",
        "y_prob = network.predict(df_test_normalized)\n",
        "\n",
        "# Como es una clasificaación binaria se establece un umbral de 0.5\n",
        "y_pred = (y_prob > 0.5).astype(int)\n",
        "\n",
        "# Se calcula la matriz de confusión\n",
        "conf_matrix = confusion_matrix(dflabel_test, y_pred)\n",
        "\n",
        "print(\"Matriz de Confusión:\")\n",
        "print(conf_matrix)\n",
        "\n",
        "# Se calcula e imprime el reporte de clasificación\n",
        "report = classification_report(dflabel_test, y_pred)\n",
        "print(\"Reporte de Clasificación:\")\n",
        "print(report)"
      ],
      "metadata": {
        "id": "TVxPLnnFjFcs",
        "colab": {
          "base_uri": "https://localhost:8080/"
        },
        "outputId": "e17bfabf-e94b-4b1e-c1db-e7f0af76683d"
      },
      "execution_count": 802,
      "outputs": [
        {
          "output_type": "stream",
          "name": "stdout",
          "text": [
            "12/12 [==============================] - 0s 2ms/step\n",
            "Matriz de Confusión:\n",
            "[[253  17]\n",
            " [ 59  41]]\n",
            "Reporte de Clasificación:\n",
            "              precision    recall  f1-score   support\n",
            "\n",
            "           0       0.81      0.94      0.87       270\n",
            "           1       0.71      0.41      0.52       100\n",
            "\n",
            "    accuracy                           0.79       370\n",
            "   macro avg       0.76      0.67      0.69       370\n",
            "weighted avg       0.78      0.79      0.77       370\n",
            "\n"
          ]
        }
      ]
    },
    {
      "cell_type": "markdown",
      "source": [
        "En la **matriz de confusión**: La diagonal principal (de arriba a la izquierda a abajo a la derecha) representa las predicciones correctas. El lado superior derecho contiene los falsos positivos. El lado inferior izquierdo contiene los falsos negativos.\n",
        "\n",
        "La **precisión** es la proporción de verdaderos positivos respecto a todos los ejemplos predichos como positivos.\n",
        "\n",
        " La **sensibilidad** es la proporción de verdaderos positivos respecto a todos los ejemplos que son realmente positivos.\n",
        "\n",
        " **F1-Score** es una medida que combina precisión y sensibilidad en un solo número. Cuanto más cercano a 1, mejor es el rendimiento.\n",
        "\n",
        " **Support** es el número de instancias reales en cada clase.\n",
        "\n",
        " **Accuracy** es la proporción de predicciones correctas respecto al total de instancias.\n",
        "\n",
        " **Macro Avg** es el promedio simple de precision, recall y f1-score para ambas clases.\n",
        "\n",
        " **Weighted Avg** es el promedio ponderado por el número de instancias en cada clase."
      ],
      "metadata": {
        "id": "_xhpnHtSjHOz"
      }
    },
    {
      "cell_type": "markdown",
      "source": [
        "#  Opción 2:\n",
        "Eliminación de parte de los datos para que estos estén equilibrados."
      ],
      "metadata": {
        "id": "4pDeSqUAgA_H"
      }
    },
    {
      "cell_type": "code",
      "source": [
        "conteo_valores = dflabel.value_counts()\n",
        "print(f\"Valores únicos para la etiqueta antes:\\n{conteo_valores}\\n\")\n",
        "N = conteo_valores[0]-conteo_valores[1]\n",
        "print('Reservas de clientes que no asisten a eliminar para equilibrar los',\n",
        "      'datos:',N,'\\n')"
      ],
      "metadata": {
        "id": "bF_drspqSzQk",
        "colab": {
          "base_uri": "https://localhost:8080/"
        },
        "outputId": "c0d59809-d55a-42e5-fce6-59784e0fb5e7"
      },
      "execution_count": 803,
      "outputs": [
        {
          "output_type": "stream",
          "name": "stdout",
          "text": [
            "Valores únicos para la etiqueta antes:\n",
            "0    761\n",
            "1    349\n",
            "Name: attended, dtype: int64\n",
            "\n",
            "Reservas de clientes que no asisten a eliminar para equilibrar los datos: 412 \n",
            "\n"
          ]
        }
      ]
    },
    {
      "cell_type": "code",
      "source": [
        "# Eliminación de reservas:\n",
        "\n",
        "# Encontrar índices de filas que contienen solo ceros\n",
        "indices_filas_ceros = dflabel.index[dflabel.iloc[:] == 0].tolist()\n",
        "\n",
        "# Seleccionar aleatoriamente el número específico de filas a eliminar\n",
        "filas_a_eliminar = np.random.choice(indices_filas_ceros, N, replace=False)\n",
        "\n",
        "# Eliminar las filas seleccionadas aleatoriamente del DataFrame\n",
        "df1 = df.drop(filas_a_eliminar)\n",
        "dflabel1 = dflabel.drop(filas_a_eliminar)\n",
        "\n",
        "conteo_valores = dflabel1.value_counts().to_string()\n",
        "print(f\"Valores únicos para la etiqueta después:\\n{conteo_valores}\\n\")"
      ],
      "metadata": {
        "id": "QaukyAnkX7wz",
        "colab": {
          "base_uri": "https://localhost:8080/"
        },
        "outputId": "311de4f0-1ba6-4155-d23b-f744fe28ba87"
      },
      "execution_count": 804,
      "outputs": [
        {
          "output_type": "stream",
          "name": "stdout",
          "text": [
            "Valores únicos para la etiqueta después:\n",
            "0    349\n",
            "1    349\n",
            "\n"
          ]
        }
      ]
    },
    {
      "cell_type": "markdown",
      "source": [
        "Seguimos arreglando el desequilibrio ahora en los datos de test."
      ],
      "metadata": {
        "id": "yVMBX2cRdjaO"
      }
    },
    {
      "cell_type": "code",
      "source": [
        "conteo_valores = dflabel_test.value_counts()\n",
        "print(f\"Valores únicos para la etiqueta antes:\\n{conteo_valores}\\n\")\n",
        "N = conteo_valores[0]-conteo_valores[1]\n",
        "print('Reservas de clientes que no asisten a eliminar para equilibrar los',\n",
        "      'datos:',N,'\\n')\n",
        "\n",
        "# Eliminación de reservas:\n",
        "\n",
        "# Encontrar índices de filas que contienen solo ceros\n",
        "indices_filas_ceros = dflabel_test.index[dflabel_test.iloc[:] == 0].tolist()\n",
        "\n",
        "# Seleccionar aleatoriamente el número específico de filas a eliminar\n",
        "filas_a_eliminar = np.random.choice(indices_filas_ceros, N, replace=False)\n",
        "\n",
        "# Eliminar las filas seleccionadas aleatoriamente del DataFrame\n",
        "df1_test = df_test.drop(filas_a_eliminar)\n",
        "dflabel1_test = dflabel_test.drop(filas_a_eliminar)\n",
        "\n",
        "conteo_valores = dflabel1_test.value_counts().to_string()\n",
        "print(f\"Valores únicos para la etiqueta después:\\n{conteo_valores}\\n\")"
      ],
      "metadata": {
        "id": "ylmPSKQZbEg_",
        "colab": {
          "base_uri": "https://localhost:8080/"
        },
        "outputId": "37f6050d-abe1-430e-eb5d-1ade25e23076"
      },
      "execution_count": 805,
      "outputs": [
        {
          "output_type": "stream",
          "name": "stdout",
          "text": [
            "Valores únicos para la etiqueta antes:\n",
            "0    270\n",
            "1    100\n",
            "Name: attended, dtype: int64\n",
            "\n",
            "Reservas de clientes que no asisten a eliminar para equilibrar los datos: 170 \n",
            "\n",
            "Valores únicos para la etiqueta después:\n",
            "0    100\n",
            "1    100\n",
            "\n"
          ]
        }
      ]
    },
    {
      "cell_type": "code",
      "source": [
        "# Normalizamos los nuevos datos.\n",
        "\n",
        "# Crear un objeto StandardScaler.\n",
        "scaler = StandardScaler()\n",
        "\n",
        "# Normalizar los datos de entrenamiento.\n",
        "df1_normalized = scaler.fit_transform(df1)\n",
        "\n",
        "# Normalizar los datos de prueba utilizando la media y la desviación estándar\n",
        "# aprendidas del conjunto de entrenamiento.\n",
        "df1_test_normalized = scaler.transform(df1_test)\n",
        "\n",
        "# Ahora, df_normalized y df_test_normalized contienen los datos normalizados."
      ],
      "metadata": {
        "id": "g-cv1yABcSnj"
      },
      "execution_count": 806,
      "outputs": []
    },
    {
      "cell_type": "code",
      "source": [
        "# Primer modelo.\n",
        "\n",
        "# El tipo de red será secuencial.\n",
        "# Desde la entrada hasta la salida sin ciclos.\n",
        "network = models.Sequential()\n",
        "\n",
        "# Las capas serán del tipo dense, es decir, la conexión entre cada valor de\n",
        "# entada o cada neurona se hace con cada neurona de la siguiente capa, es una\n",
        "# relación de todos con todos. De esta manera cada neurona ve todos los datos y\n",
        "# cada neurona trabaja con cada neurona.\n",
        "\n",
        "# La entrada de los datos tiene una dimensión de 17 ya que cada dato tiene 17\n",
        "# características.\n",
        "network.add(layers.Dense(64, activation='relu', input_shape=(17,)))\n",
        "\n",
        "network.add(layers.Dense(10, activation='relu'))\n",
        "\n",
        "# Última capa con la función sigmoid.\n",
        "network.add(layers.Dense(1, activation='sigmoid'))\n",
        "\n",
        "network.summary()\n",
        "\n",
        "network.compile(optimizer='rmsprop', # Optimizador.\n",
        "                loss='binary_crossentropy', # Función de pérdida.\n",
        "                metrics=['accuracy']) # Medida de precisión.\n",
        "\n",
        "resultados = network.fit(df1_normalized, dflabel1,\n",
        "            epochs=20,\n",
        "            batch_size=35,\n",
        "            validation_data=(df1_test_normalized, dflabel1_test)) # Validación."
      ],
      "metadata": {
        "id": "cyj0bHkqcNXM",
        "colab": {
          "base_uri": "https://localhost:8080/"
        },
        "outputId": "fa9dad6d-fe2a-4cfd-8b99-251d751fcebc"
      },
      "execution_count": 807,
      "outputs": [
        {
          "output_type": "stream",
          "name": "stdout",
          "text": [
            "Model: \"sequential_184\"\n",
            "_________________________________________________________________\n",
            " Layer (type)                Output Shape              Param #   \n",
            "=================================================================\n",
            " dense_556 (Dense)           (None, 64)                1152      \n",
            "                                                                 \n",
            " dense_557 (Dense)           (None, 10)                650       \n",
            "                                                                 \n",
            " dense_558 (Dense)           (None, 1)                 11        \n",
            "                                                                 \n",
            "=================================================================\n",
            "Total params: 1813 (7.08 KB)\n",
            "Trainable params: 1813 (7.08 KB)\n",
            "Non-trainable params: 0 (0.00 Byte)\n",
            "_________________________________________________________________\n",
            "Epoch 1/20\n",
            "20/20 [==============================] - 1s 15ms/step - loss: 0.6865 - accuracy: 0.5444 - val_loss: 0.6547 - val_accuracy: 0.6850\n",
            "Epoch 2/20\n",
            "20/20 [==============================] - 0s 6ms/step - loss: 0.6474 - accuracy: 0.6590 - val_loss: 0.6289 - val_accuracy: 0.6900\n",
            "Epoch 3/20\n",
            "20/20 [==============================] - 0s 6ms/step - loss: 0.6203 - accuracy: 0.6848 - val_loss: 0.6071 - val_accuracy: 0.7250\n",
            "Epoch 4/20\n",
            "20/20 [==============================] - 0s 5ms/step - loss: 0.5985 - accuracy: 0.6934 - val_loss: 0.5902 - val_accuracy: 0.7500\n",
            "Epoch 5/20\n",
            "20/20 [==============================] - 0s 5ms/step - loss: 0.5809 - accuracy: 0.7092 - val_loss: 0.5769 - val_accuracy: 0.7500\n",
            "Epoch 6/20\n",
            "20/20 [==============================] - 0s 5ms/step - loss: 0.5654 - accuracy: 0.7106 - val_loss: 0.5681 - val_accuracy: 0.7500\n",
            "Epoch 7/20\n",
            "20/20 [==============================] - 0s 7ms/step - loss: 0.5539 - accuracy: 0.7235 - val_loss: 0.5583 - val_accuracy: 0.7450\n",
            "Epoch 8/20\n",
            "20/20 [==============================] - 0s 5ms/step - loss: 0.5436 - accuracy: 0.7307 - val_loss: 0.5508 - val_accuracy: 0.7350\n",
            "Epoch 9/20\n",
            "20/20 [==============================] - 0s 5ms/step - loss: 0.5352 - accuracy: 0.7335 - val_loss: 0.5473 - val_accuracy: 0.7350\n",
            "Epoch 10/20\n",
            "20/20 [==============================] - 0s 6ms/step - loss: 0.5273 - accuracy: 0.7321 - val_loss: 0.5449 - val_accuracy: 0.7550\n",
            "Epoch 11/20\n",
            "20/20 [==============================] - 0s 6ms/step - loss: 0.5212 - accuracy: 0.7393 - val_loss: 0.5429 - val_accuracy: 0.7450\n",
            "Epoch 12/20\n",
            "20/20 [==============================] - 0s 5ms/step - loss: 0.5153 - accuracy: 0.7493 - val_loss: 0.5380 - val_accuracy: 0.7350\n",
            "Epoch 13/20\n",
            "20/20 [==============================] - 0s 6ms/step - loss: 0.5104 - accuracy: 0.7536 - val_loss: 0.5376 - val_accuracy: 0.7200\n",
            "Epoch 14/20\n",
            "20/20 [==============================] - 0s 6ms/step - loss: 0.5066 - accuracy: 0.7521 - val_loss: 0.5370 - val_accuracy: 0.7350\n",
            "Epoch 15/20\n",
            "20/20 [==============================] - 0s 5ms/step - loss: 0.5012 - accuracy: 0.7650 - val_loss: 0.5391 - val_accuracy: 0.7250\n",
            "Epoch 16/20\n",
            "20/20 [==============================] - 0s 6ms/step - loss: 0.4988 - accuracy: 0.7536 - val_loss: 0.5364 - val_accuracy: 0.7350\n",
            "Epoch 17/20\n",
            "20/20 [==============================] - 0s 6ms/step - loss: 0.4954 - accuracy: 0.7579 - val_loss: 0.5355 - val_accuracy: 0.7350\n",
            "Epoch 18/20\n",
            "20/20 [==============================] - 0s 7ms/step - loss: 0.4919 - accuracy: 0.7665 - val_loss: 0.5344 - val_accuracy: 0.7100\n",
            "Epoch 19/20\n",
            "20/20 [==============================] - 0s 6ms/step - loss: 0.4889 - accuracy: 0.7665 - val_loss: 0.5364 - val_accuracy: 0.7200\n",
            "Epoch 20/20\n",
            "20/20 [==============================] - 0s 5ms/step - loss: 0.4869 - accuracy: 0.7722 - val_loss: 0.5399 - val_accuracy: 0.7150\n"
          ]
        }
      ]
    },
    {
      "cell_type": "markdown",
      "source": [
        "La precisión no aumenta si eliminamos algunos datos para que se equilibren el número de ambos resultados lo cual tiene sentido ya que se han eliminado un total de 582 datos, un (582/1480)*100 = 39% menos de datos. Ello no enriquece al modelo para que pueda ver suficientes ejemplos y se enriquezca detectando patrones ocultos, además, teniendo en cuenta que cada reserva tiene un total de 17 características que a pesar de ser la mayoría binarias sigue siendo un número importante que dificulta el aprendizaje si no se tienen muchos datos."
      ],
      "metadata": {
        "id": "wPj-DJ_keURe"
      }
    },
    {
      "cell_type": "markdown",
      "source": [
        "# Opción 3:\n",
        "Utilización del método de aumento de datos para equilibrar la clase minoritaria, la de que los clientes asisten, con la clase mayoritaría, los clientes no asisten.\n",
        "\n",
        "Una manera de abordar este problema implica aumentar la cantidad de ejemplos en la clase minoritaria. Esto se logra al duplicar los ejemplos de esa clase en el conjunto de entrenamiento antes de entrenar un modelo. Aunque esto equilibra la distribución de clases, no aporta información adicional al modelo.\n",
        "\n",
        "Una mejora consiste en generar nuevos ejemplos a partir de la clase minoritaria. Una de las técnicas más conocidas para generar estos ejemplos se llama SMOTE (Técnica de Sobremuestreo Sintético de la Clase Minoritaria). Fue propuesta por Nitesh Chawla y otros en un artículo del 2002 llamado \"SMOTE: Técnica de Sobremuestreo Sintético de la Clase Minoritaria\".\n",
        "\n",
        "Para SMOTE, el proceso comienza seleccionando aleatoriamente una instancia de la clase minoritaria y encuentra sus k vecinos más cercanos dentro de la misma clase. Luego, para generar una nueva instancia artificial, elige uno de esos vecinos más cercanos al azar y establece una conexión entre el punto original y este vecino. Este proceso crea un nuevo punto en el espacio de características, generándolo como una mezcla ponderada entre las dos instancias seleccionadas."
      ],
      "metadata": {
        "id": "DJQXxmAEgNDW"
      }
    },
    {
      "cell_type": "code",
      "source": [
        "# Se lama a la biblioteca Imbalanced-Learn, contiene la función SMOTE.\n",
        "import imblearn\n",
        "from imblearn.over_sampling import SMOTE\n",
        "print(imblearn.__version__)\n",
        "\n",
        "oversample = SMOTE() # Operador SMOTE.\n",
        "\n",
        "# Generación de datos nuevos mediante aproximacines a los datos de la clase\n",
        "# minoritaria.\n",
        "df, dflabel = oversample.fit_resample(df, dflabel)\n",
        "df_test, dflabel_test = oversample.fit_resample(df_test, dflabel_test)"
      ],
      "metadata": {
        "id": "C5gdUAtnhj7B",
        "colab": {
          "base_uri": "https://localhost:8080/"
        },
        "outputId": "ac5c6055-f166-4d36-f3e9-94b3476ed3f0"
      },
      "execution_count": 808,
      "outputs": [
        {
          "output_type": "stream",
          "name": "stdout",
          "text": [
            "0.10.1\n"
          ]
        }
      ]
    },
    {
      "cell_type": "markdown",
      "source": [
        "Se comprueba la generación y, por tanto, el equilibrio."
      ],
      "metadata": {
        "id": "mpDbxgCwmvNc"
      }
    },
    {
      "cell_type": "code",
      "source": [
        "conteo_valores = dflabel.value_counts()\n",
        "print(f\"Valores únicos para la etiqueta en datos de entrenamiento:\\n{conteo_valores}\\n\")\n",
        "\n",
        "conteo_valores = dflabel_test.value_counts()\n",
        "print(f\"Valores únicos para la etiqueta en datos de test:\\n{conteo_valores}\\n\")"
      ],
      "metadata": {
        "id": "-0rxvss6lHNn",
        "colab": {
          "base_uri": "https://localhost:8080/"
        },
        "outputId": "54a9f317-9bc5-4063-a491-69724e67f5c0"
      },
      "execution_count": 809,
      "outputs": [
        {
          "output_type": "stream",
          "name": "stdout",
          "text": [
            "Valores únicos para la etiqueta en datos de entrenamiento:\n",
            "0    761\n",
            "1    761\n",
            "Name: attended, dtype: int64\n",
            "\n",
            "Valores únicos para la etiqueta en datos de test:\n",
            "0    270\n",
            "1    270\n",
            "Name: attended, dtype: int64\n",
            "\n"
          ]
        }
      ]
    },
    {
      "cell_type": "markdown",
      "source": [
        "Mismo número de ocurrencias, están equilibrados los datos. Se procede a comprobar si gracias a la generación de nuevos datos a partir de los orginales añaden suficiente riqueza y variabilidad como para que el modelo se entrene y generalice."
      ],
      "metadata": {
        "id": "zOpkbz-dndUi"
      }
    },
    {
      "cell_type": "code",
      "source": [
        "# Normalizamos los nuevos datos.\n",
        "\n",
        "# Crear un objeto StandardScaler.\n",
        "scaler = StandardScaler()\n",
        "\n",
        "# Normalizar los datos de entrenamiento.\n",
        "df_normalized = scaler.fit_transform(df)\n",
        "\n",
        "# Normalizar los datos de prueba utilizando la media y la desviación estándar\n",
        "# aprendidas del conjunto de entrenamiento.\n",
        "df_test_normalized = scaler.transform(df_test)\n",
        "\n",
        "# Ahora, df_normalized y df_test_normalized contienen los datos normalizados."
      ],
      "metadata": {
        "id": "Po3muVKClqaJ"
      },
      "execution_count": 810,
      "outputs": []
    },
    {
      "cell_type": "code",
      "source": [
        "# Primer modelo.\n",
        "\n",
        "# El tipo de red será secuencial.\n",
        "# Desde la entrada hasta la salida sin ciclos.\n",
        "network = models.Sequential()\n",
        "\n",
        "# Las capas serán del tipo dense, es decir, la conexión entre cada valor de\n",
        "# entada o cada neurona se hace con cada neurona de la siguiente capa, es una\n",
        "# relación de todos con todos. De esta manera cada neurona ve todos los datos y\n",
        "# cada neurona trabaja con cada neurona.\n",
        "\n",
        "# La entrada de los datos tiene una dimensión de 17 ya que cada dato tiene 17\n",
        "# características.\n",
        "network.add(layers.Dense(64, activation='relu', input_shape=(17,)))\n",
        "\n",
        "network.add(layers.Dense(10, activation='relu'))\n",
        "\n",
        "# Última capa con la función sigmoid.\n",
        "network.add(layers.Dense(1, activation='sigmoid'))\n",
        "\n",
        "network.summary()\n",
        "\n",
        "network.compile(optimizer='rmsprop', # Optimizador.\n",
        "                loss='binary_crossentropy', # Función de pérdida.\n",
        "                metrics=['accuracy']) # Medida de precisión.\n",
        "\n",
        "resultados = network.fit(df_normalized, dflabel,\n",
        "            epochs=20,\n",
        "            batch_size=68,\n",
        "            validation_data=(df_test_normalized, dflabel_test)) # Validación."
      ],
      "metadata": {
        "id": "Fx99uRSaldcH",
        "colab": {
          "base_uri": "https://localhost:8080/"
        },
        "outputId": "c20c6d59-08bd-4159-9ebd-944e7b8d40b8"
      },
      "execution_count": 811,
      "outputs": [
        {
          "output_type": "stream",
          "name": "stdout",
          "text": [
            "Model: \"sequential_185\"\n",
            "_________________________________________________________________\n",
            " Layer (type)                Output Shape              Param #   \n",
            "=================================================================\n",
            " dense_559 (Dense)           (None, 64)                1152      \n",
            "                                                                 \n",
            " dense_560 (Dense)           (None, 10)                650       \n",
            "                                                                 \n",
            " dense_561 (Dense)           (None, 1)                 11        \n",
            "                                                                 \n",
            "=================================================================\n",
            "Total params: 1813 (7.08 KB)\n",
            "Trainable params: 1813 (7.08 KB)\n",
            "Non-trainable params: 0 (0.00 Byte)\n",
            "_________________________________________________________________\n",
            "Epoch 1/20\n",
            "23/23 [==============================] - 1s 14ms/step - loss: 0.6571 - accuracy: 0.6235 - val_loss: 0.5853 - val_accuracy: 0.7796\n",
            "Epoch 2/20\n",
            "23/23 [==============================] - 0s 7ms/step - loss: 0.5457 - accuracy: 0.7562 - val_loss: 0.5004 - val_accuracy: 0.8222\n",
            "Epoch 3/20\n",
            "23/23 [==============================] - 0s 5ms/step - loss: 0.4858 - accuracy: 0.7838 - val_loss: 0.4499 - val_accuracy: 0.8407\n",
            "Epoch 4/20\n",
            "23/23 [==============================] - 0s 5ms/step - loss: 0.4495 - accuracy: 0.7976 - val_loss: 0.4174 - val_accuracy: 0.8370\n",
            "Epoch 5/20\n",
            "23/23 [==============================] - 0s 4ms/step - loss: 0.4286 - accuracy: 0.8035 - val_loss: 0.4047 - val_accuracy: 0.8463\n",
            "Epoch 6/20\n",
            "23/23 [==============================] - 0s 4ms/step - loss: 0.4154 - accuracy: 0.8009 - val_loss: 0.3899 - val_accuracy: 0.8370\n",
            "Epoch 7/20\n",
            "23/23 [==============================] - 0s 6ms/step - loss: 0.4048 - accuracy: 0.8088 - val_loss: 0.3796 - val_accuracy: 0.8463\n",
            "Epoch 8/20\n",
            "23/23 [==============================] - 0s 6ms/step - loss: 0.3971 - accuracy: 0.8114 - val_loss: 0.3745 - val_accuracy: 0.8463\n",
            "Epoch 9/20\n",
            "23/23 [==============================] - 0s 7ms/step - loss: 0.3905 - accuracy: 0.8160 - val_loss: 0.3737 - val_accuracy: 0.8481\n",
            "Epoch 10/20\n",
            "23/23 [==============================] - 0s 6ms/step - loss: 0.3862 - accuracy: 0.8173 - val_loss: 0.3679 - val_accuracy: 0.8537\n",
            "Epoch 11/20\n",
            "23/23 [==============================] - 0s 5ms/step - loss: 0.3814 - accuracy: 0.8180 - val_loss: 0.3652 - val_accuracy: 0.8556\n",
            "Epoch 12/20\n",
            "23/23 [==============================] - 0s 5ms/step - loss: 0.3781 - accuracy: 0.8160 - val_loss: 0.3620 - val_accuracy: 0.8537\n",
            "Epoch 13/20\n",
            "23/23 [==============================] - 0s 6ms/step - loss: 0.3743 - accuracy: 0.8200 - val_loss: 0.3589 - val_accuracy: 0.8556\n",
            "Epoch 14/20\n",
            "23/23 [==============================] - 0s 6ms/step - loss: 0.3712 - accuracy: 0.8239 - val_loss: 0.3607 - val_accuracy: 0.8574\n",
            "Epoch 15/20\n",
            "23/23 [==============================] - 0s 5ms/step - loss: 0.3684 - accuracy: 0.8200 - val_loss: 0.3582 - val_accuracy: 0.8593\n",
            "Epoch 16/20\n",
            "23/23 [==============================] - 0s 5ms/step - loss: 0.3658 - accuracy: 0.8259 - val_loss: 0.3567 - val_accuracy: 0.8574\n",
            "Epoch 17/20\n",
            "23/23 [==============================] - 0s 5ms/step - loss: 0.3628 - accuracy: 0.8292 - val_loss: 0.3546 - val_accuracy: 0.8574\n",
            "Epoch 18/20\n",
            "23/23 [==============================] - 0s 6ms/step - loss: 0.3609 - accuracy: 0.8311 - val_loss: 0.3557 - val_accuracy: 0.8574\n",
            "Epoch 19/20\n",
            "23/23 [==============================] - 0s 8ms/step - loss: 0.3594 - accuracy: 0.8311 - val_loss: 0.3577 - val_accuracy: 0.8500\n",
            "Epoch 20/20\n",
            "23/23 [==============================] - 0s 9ms/step - loss: 0.3575 - accuracy: 0.8279 - val_loss: 0.3525 - val_accuracy: 0.8537\n"
          ]
        }
      ]
    },
    {
      "cell_type": "markdown",
      "source": [
        "Efectivamente, el modelo mejora con respecto a las otras dos opciones gracias a esta idea de generar datos nuevos para que estos queden balanceados. Superando el 80% de acierto en algunas ejecuciones.\n",
        "\n",
        "Una vez ya realizado todo tipo de adaptaciones a los datos se procede a mejorar la arquitectura del modelo en sí con el objetivo de tener mejores probabilidades de acierto."
      ],
      "metadata": {
        "id": "59TyhBt9nsx_"
      }
    },
    {
      "cell_type": "markdown",
      "source": [
        "Se añaden reguladores de tipo dropout para evitar el oveftting.\n",
        "\n",
        "Los regularizadores L2 y Dropout son técnicas comunes utilizadas para evitar el overfitting y mejorar la generalización del modelo. L2 agrega una penalización a la magnitud de los pesos en la función de pérdida. El objetivo es limitar la magnitud total de los pesos, lo que ayuda a prevenir que algunos pesos se vuelvan muy grandes. Dropout, en cambio, durante el entrenamiento aleatoriamente \"apaga\" un porcentaje de las neuronas en cada capa. El objetivo es evitar la dependencia excesiva de ciertas neuronas y mejorar la robustez general del modelo."
      ],
      "metadata": {
        "id": "C04K9mjFJTNF"
      }
    },
    {
      "cell_type": "code",
      "source": [
        "# Segundo modelo.\n",
        "\n",
        "from keras.layers import Dropout\n",
        "\n",
        "# El tipo de red será secuencial.\n",
        "# Desde la entrada hasta la salida sin ciclos.\n",
        "network = models.Sequential()\n",
        "\n",
        "# Las capas serán del tipo dense, es decir, la conexión entre cada valor de\n",
        "# entada o cada neurona se hace con cada neurona de la siguiente capa, es una\n",
        "# relación de todos con todos. De esta manera cada neurona ve todos los datos y\n",
        "# cada neurona trabaja con cada neurona.\n",
        "\n",
        "# La entrada de los datos tiene una dimensión de 17 ya que cada dato tiene 17\n",
        "# características.\n",
        "network.add(layers.Dense(64, activation='relu', input_shape=(17,)))\n",
        "network.add(Dropout(0.20))\n",
        "network.add(layers.Dense(10, activation='relu'))\n",
        "\n",
        "# Última capa con la función sigmoid.\n",
        "network.add(layers.Dense(1, activation='sigmoid'))\n",
        "\n",
        "network.compile(optimizer='rmsprop',\n",
        "                loss='binary_crossentropy',\n",
        "                metrics=['accuracy'])\n",
        "\n",
        "resultados = network.fit(df_normalized, dflabel,\n",
        "            epochs=20,\n",
        "            batch_size=68,\n",
        "            validation_data=(df_test_normalized, dflabel_test)) # Validación."
      ],
      "metadata": {
        "id": "dTllENfQJNhK",
        "colab": {
          "base_uri": "https://localhost:8080/"
        },
        "outputId": "15443624-09aa-4852-c2e7-a14ecb53e53a"
      },
      "execution_count": 812,
      "outputs": [
        {
          "output_type": "stream",
          "name": "stdout",
          "text": [
            "Epoch 1/20\n",
            "23/23 [==============================] - 2s 22ms/step - loss: 0.6660 - accuracy: 0.6045 - val_loss: 0.6164 - val_accuracy: 0.7556\n",
            "Epoch 2/20\n",
            "23/23 [==============================] - 0s 9ms/step - loss: 0.6006 - accuracy: 0.7227 - val_loss: 0.5585 - val_accuracy: 0.7815\n",
            "Epoch 3/20\n",
            "23/23 [==============================] - 0s 8ms/step - loss: 0.5546 - accuracy: 0.7457 - val_loss: 0.5065 - val_accuracy: 0.7981\n",
            "Epoch 4/20\n",
            "23/23 [==============================] - 0s 10ms/step - loss: 0.5090 - accuracy: 0.7733 - val_loss: 0.4683 - val_accuracy: 0.8130\n",
            "Epoch 5/20\n",
            "23/23 [==============================] - 0s 8ms/step - loss: 0.4713 - accuracy: 0.7989 - val_loss: 0.4376 - val_accuracy: 0.8259\n",
            "Epoch 6/20\n",
            "23/23 [==============================] - 0s 9ms/step - loss: 0.4610 - accuracy: 0.7983 - val_loss: 0.4221 - val_accuracy: 0.8370\n",
            "Epoch 7/20\n",
            "23/23 [==============================] - 0s 10ms/step - loss: 0.4531 - accuracy: 0.7865 - val_loss: 0.4065 - val_accuracy: 0.8463\n",
            "Epoch 8/20\n",
            "23/23 [==============================] - 0s 8ms/step - loss: 0.4445 - accuracy: 0.8088 - val_loss: 0.3991 - val_accuracy: 0.8500\n",
            "Epoch 9/20\n",
            "23/23 [==============================] - 0s 6ms/step - loss: 0.4305 - accuracy: 0.7845 - val_loss: 0.3906 - val_accuracy: 0.8537\n",
            "Epoch 10/20\n",
            "23/23 [==============================] - 0s 6ms/step - loss: 0.4223 - accuracy: 0.7996 - val_loss: 0.3905 - val_accuracy: 0.8519\n",
            "Epoch 11/20\n",
            "23/23 [==============================] - 0s 6ms/step - loss: 0.4209 - accuracy: 0.8062 - val_loss: 0.3817 - val_accuracy: 0.8556\n",
            "Epoch 12/20\n",
            "23/23 [==============================] - 0s 6ms/step - loss: 0.4111 - accuracy: 0.8141 - val_loss: 0.3801 - val_accuracy: 0.8519\n",
            "Epoch 13/20\n",
            "23/23 [==============================] - 0s 6ms/step - loss: 0.4173 - accuracy: 0.8088 - val_loss: 0.3773 - val_accuracy: 0.8519\n",
            "Epoch 14/20\n",
            "23/23 [==============================] - 0s 6ms/step - loss: 0.3988 - accuracy: 0.8068 - val_loss: 0.3727 - val_accuracy: 0.8519\n",
            "Epoch 15/20\n",
            "23/23 [==============================] - 0s 6ms/step - loss: 0.4001 - accuracy: 0.8088 - val_loss: 0.3708 - val_accuracy: 0.8519\n",
            "Epoch 16/20\n",
            "23/23 [==============================] - 0s 5ms/step - loss: 0.3982 - accuracy: 0.8173 - val_loss: 0.3680 - val_accuracy: 0.8500\n",
            "Epoch 17/20\n",
            "23/23 [==============================] - 0s 6ms/step - loss: 0.3949 - accuracy: 0.8154 - val_loss: 0.3643 - val_accuracy: 0.8556\n",
            "Epoch 18/20\n",
            "23/23 [==============================] - 0s 6ms/step - loss: 0.3898 - accuracy: 0.8121 - val_loss: 0.3604 - val_accuracy: 0.8556\n",
            "Epoch 19/20\n",
            "23/23 [==============================] - 0s 6ms/step - loss: 0.3819 - accuracy: 0.8167 - val_loss: 0.3643 - val_accuracy: 0.8481\n",
            "Epoch 20/20\n",
            "23/23 [==============================] - 0s 6ms/step - loss: 0.3891 - accuracy: 0.8141 - val_loss: 0.3620 - val_accuracy: 0.8481\n"
          ]
        }
      ]
    },
    {
      "cell_type": "markdown",
      "source": [
        "El modelo no consigue mejores resultados.\n",
        "\n",
        "Ahora se va a probar el primer modelo cambiando el batchsize por uno más pequeño"
      ],
      "metadata": {
        "id": "KBS_WMvtaDAt"
      }
    },
    {
      "cell_type": "code",
      "source": [
        "# Tercer modelo.\n",
        "\n",
        "network = models.Sequential()\n",
        "\n",
        "network.add(layers.Dense(64, activation='relu', input_shape=(17,)))\n",
        "network.add(layers.Dense(10, activation='relu'))\n",
        "\n",
        "# Última capa con la función sigmoid.\n",
        "network.add(layers.Dense(1, activation='sigmoid'))\n",
        "\n",
        "network.compile(optimizer='rmsprop', # Optimizador.\n",
        "                loss='binary_crossentropy', # Función de pérdida.\n",
        "                metrics=['accuracy']) # Medida de precisión.\n",
        "\n",
        "resultados = network.fit(df_normalized, dflabel,\n",
        "            epochs=20,\n",
        "            batch_size=32,\n",
        "            validation_data=(df_test_normalized, dflabel_test)) # Validación."
      ],
      "metadata": {
        "id": "kWma8qFiZB9U",
        "colab": {
          "base_uri": "https://localhost:8080/"
        },
        "outputId": "ca26bc36-4282-412e-de6c-4213c8426105"
      },
      "execution_count": 813,
      "outputs": [
        {
          "output_type": "stream",
          "name": "stdout",
          "text": [
            "Epoch 1/20\n",
            "48/48 [==============================] - 1s 9ms/step - loss: 0.6087 - accuracy: 0.6787 - val_loss: 0.5462 - val_accuracy: 0.7741\n",
            "Epoch 2/20\n",
            "48/48 [==============================] - 0s 5ms/step - loss: 0.5154 - accuracy: 0.7746 - val_loss: 0.4759 - val_accuracy: 0.8019\n",
            "Epoch 3/20\n",
            "48/48 [==============================] - 0s 5ms/step - loss: 0.4624 - accuracy: 0.7957 - val_loss: 0.4272 - val_accuracy: 0.8426\n",
            "Epoch 4/20\n",
            "48/48 [==============================] - 0s 5ms/step - loss: 0.4326 - accuracy: 0.8042 - val_loss: 0.4019 - val_accuracy: 0.8537\n",
            "Epoch 5/20\n",
            "48/48 [==============================] - 0s 4ms/step - loss: 0.4122 - accuracy: 0.8160 - val_loss: 0.3932 - val_accuracy: 0.8407\n",
            "Epoch 6/20\n",
            "48/48 [==============================] - 0s 4ms/step - loss: 0.4001 - accuracy: 0.8160 - val_loss: 0.3796 - val_accuracy: 0.8519\n",
            "Epoch 7/20\n",
            "48/48 [==============================] - 0s 5ms/step - loss: 0.3890 - accuracy: 0.8259 - val_loss: 0.3759 - val_accuracy: 0.8500\n",
            "Epoch 8/20\n",
            "48/48 [==============================] - 0s 4ms/step - loss: 0.3824 - accuracy: 0.8213 - val_loss: 0.3766 - val_accuracy: 0.8537\n",
            "Epoch 9/20\n",
            "48/48 [==============================] - 0s 5ms/step - loss: 0.3772 - accuracy: 0.8226 - val_loss: 0.3659 - val_accuracy: 0.8574\n",
            "Epoch 10/20\n",
            "48/48 [==============================] - 0s 4ms/step - loss: 0.3715 - accuracy: 0.8226 - val_loss: 0.3647 - val_accuracy: 0.8537\n",
            "Epoch 11/20\n",
            "48/48 [==============================] - 0s 4ms/step - loss: 0.3665 - accuracy: 0.8292 - val_loss: 0.3660 - val_accuracy: 0.8519\n",
            "Epoch 12/20\n",
            "48/48 [==============================] - 0s 4ms/step - loss: 0.3643 - accuracy: 0.8292 - val_loss: 0.3638 - val_accuracy: 0.8500\n",
            "Epoch 13/20\n",
            "48/48 [==============================] - 0s 4ms/step - loss: 0.3598 - accuracy: 0.8265 - val_loss: 0.3690 - val_accuracy: 0.8389\n",
            "Epoch 14/20\n",
            "48/48 [==============================] - 0s 5ms/step - loss: 0.3572 - accuracy: 0.8331 - val_loss: 0.3655 - val_accuracy: 0.8389\n",
            "Epoch 15/20\n",
            "48/48 [==============================] - 0s 5ms/step - loss: 0.3552 - accuracy: 0.8331 - val_loss: 0.3637 - val_accuracy: 0.8426\n",
            "Epoch 16/20\n",
            "48/48 [==============================] - 0s 4ms/step - loss: 0.3533 - accuracy: 0.8311 - val_loss: 0.3605 - val_accuracy: 0.8389\n",
            "Epoch 17/20\n",
            "48/48 [==============================] - 0s 4ms/step - loss: 0.3514 - accuracy: 0.8371 - val_loss: 0.3683 - val_accuracy: 0.8389\n",
            "Epoch 18/20\n",
            "48/48 [==============================] - 0s 5ms/step - loss: 0.3495 - accuracy: 0.8377 - val_loss: 0.3684 - val_accuracy: 0.8370\n",
            "Epoch 19/20\n",
            "48/48 [==============================] - 0s 4ms/step - loss: 0.3470 - accuracy: 0.8377 - val_loss: 0.3740 - val_accuracy: 0.8370\n",
            "Epoch 20/20\n",
            "48/48 [==============================] - 0s 4ms/step - loss: 0.3464 - accuracy: 0.8371 - val_loss: 0.3646 - val_accuracy: 0.8426\n"
          ]
        }
      ]
    },
    {
      "cell_type": "markdown",
      "source": [
        "Resultados muy similares que también se dan con un batchsize mayor, como se puede observar en el siguiente ejemplo."
      ],
      "metadata": {
        "id": "FuctvLD3aRWP"
      }
    },
    {
      "cell_type": "code",
      "source": [
        "# Cuarto modelo.\n",
        "\n",
        "network = models.Sequential()\n",
        "\n",
        "network.add(layers.Dense(64, activation='relu', input_shape=(17,)))\n",
        "network.add(layers.Dense(10, activation='relu'))\n",
        "\n",
        "# Última capa con la función sigmoid.\n",
        "network.add(layers.Dense(1, activation='sigmoid'))\n",
        "\n",
        "network.summary()\n",
        "\n",
        "network.compile(optimizer='rmsprop', # Optimizador.\n",
        "                loss='binary_crossentropy', # Función de pérdida.\n",
        "                metrics=['accuracy']) # Medida de precisión.\n",
        "\n",
        "resultados = network.fit(df_normalized, dflabel,\n",
        "            epochs=20,\n",
        "            batch_size=128,\n",
        "            validation_data=(df_test_normalized, dflabel_test)) # Validación."
      ],
      "metadata": {
        "id": "1EqawyNFacHi",
        "colab": {
          "base_uri": "https://localhost:8080/"
        },
        "outputId": "77b103a7-90b4-4a50-f4e7-b46f322bc49e"
      },
      "execution_count": 814,
      "outputs": [
        {
          "output_type": "stream",
          "name": "stdout",
          "text": [
            "Model: \"sequential_188\"\n",
            "_________________________________________________________________\n",
            " Layer (type)                Output Shape              Param #   \n",
            "=================================================================\n",
            " dense_568 (Dense)           (None, 64)                1152      \n",
            "                                                                 \n",
            " dense_569 (Dense)           (None, 10)                650       \n",
            "                                                                 \n",
            " dense_570 (Dense)           (None, 1)                 11        \n",
            "                                                                 \n",
            "=================================================================\n",
            "Total params: 1813 (7.08 KB)\n",
            "Trainable params: 1813 (7.08 KB)\n",
            "Non-trainable params: 0 (0.00 Byte)\n",
            "_________________________________________________________________\n",
            "Epoch 1/20\n",
            "12/12 [==============================] - 1s 38ms/step - loss: 0.6723 - accuracy: 0.5683 - val_loss: 0.6128 - val_accuracy: 0.7185\n",
            "Epoch 2/20\n",
            "12/12 [==============================] - 0s 11ms/step - loss: 0.6192 - accuracy: 0.6892 - val_loss: 0.5695 - val_accuracy: 0.7815\n",
            "Epoch 3/20\n",
            "12/12 [==============================] - 0s 11ms/step - loss: 0.5805 - accuracy: 0.7424 - val_loss: 0.5333 - val_accuracy: 0.8019\n",
            "Epoch 4/20\n",
            "12/12 [==============================] - 0s 11ms/step - loss: 0.5459 - accuracy: 0.7608 - val_loss: 0.5009 - val_accuracy: 0.8148\n",
            "Epoch 5/20\n",
            "12/12 [==============================] - 0s 11ms/step - loss: 0.5147 - accuracy: 0.7792 - val_loss: 0.4714 - val_accuracy: 0.8296\n",
            "Epoch 6/20\n",
            "12/12 [==============================] - 0s 10ms/step - loss: 0.4877 - accuracy: 0.7852 - val_loss: 0.4453 - val_accuracy: 0.8370\n",
            "Epoch 7/20\n",
            "12/12 [==============================] - 0s 10ms/step - loss: 0.4660 - accuracy: 0.7924 - val_loss: 0.4275 - val_accuracy: 0.8333\n",
            "Epoch 8/20\n",
            "12/12 [==============================] - 0s 12ms/step - loss: 0.4489 - accuracy: 0.7976 - val_loss: 0.4120 - val_accuracy: 0.8444\n",
            "Epoch 9/20\n",
            "12/12 [==============================] - 0s 9ms/step - loss: 0.4345 - accuracy: 0.8062 - val_loss: 0.4028 - val_accuracy: 0.8370\n",
            "Epoch 10/20\n",
            "12/12 [==============================] - 0s 11ms/step - loss: 0.4229 - accuracy: 0.8068 - val_loss: 0.3925 - val_accuracy: 0.8444\n",
            "Epoch 11/20\n",
            "12/12 [==============================] - 0s 12ms/step - loss: 0.4128 - accuracy: 0.8101 - val_loss: 0.3838 - val_accuracy: 0.8537\n",
            "Epoch 12/20\n",
            "12/12 [==============================] - 0s 12ms/step - loss: 0.4047 - accuracy: 0.8147 - val_loss: 0.3760 - val_accuracy: 0.8463\n",
            "Epoch 13/20\n",
            "12/12 [==============================] - 0s 15ms/step - loss: 0.3990 - accuracy: 0.8154 - val_loss: 0.3708 - val_accuracy: 0.8500\n",
            "Epoch 14/20\n",
            "12/12 [==============================] - 0s 10ms/step - loss: 0.3923 - accuracy: 0.8200 - val_loss: 0.3665 - val_accuracy: 0.8500\n",
            "Epoch 15/20\n",
            "12/12 [==============================] - 0s 12ms/step - loss: 0.3880 - accuracy: 0.8233 - val_loss: 0.3647 - val_accuracy: 0.8481\n",
            "Epoch 16/20\n",
            "12/12 [==============================] - 0s 16ms/step - loss: 0.3830 - accuracy: 0.8239 - val_loss: 0.3622 - val_accuracy: 0.8519\n",
            "Epoch 17/20\n",
            "12/12 [==============================] - 0s 11ms/step - loss: 0.3791 - accuracy: 0.8226 - val_loss: 0.3610 - val_accuracy: 0.8500\n",
            "Epoch 18/20\n",
            "12/12 [==============================] - 0s 17ms/step - loss: 0.3753 - accuracy: 0.8246 - val_loss: 0.3590 - val_accuracy: 0.8519\n",
            "Epoch 19/20\n",
            "12/12 [==============================] - 0s 12ms/step - loss: 0.3733 - accuracy: 0.8259 - val_loss: 0.3595 - val_accuracy: 0.8574\n",
            "Epoch 20/20\n",
            "12/12 [==============================] - 0s 12ms/step - loss: 0.3706 - accuracy: 0.8259 - val_loss: 0.3573 - val_accuracy: 0.8593\n"
          ]
        }
      ]
    },
    {
      "cell_type": "markdown",
      "source": [
        "Se prueba a cambiar la función de activación y el optimizador. Ahora se va a emplear ELU como función de activación y Adam como optimizador."
      ],
      "metadata": {
        "id": "q98223s_ayF0"
      }
    },
    {
      "cell_type": "code",
      "source": [
        "# Quinto modelo.\n",
        "\n",
        "network = models.Sequential()\n",
        "\n",
        "network.add(layers.Dense(64, activation='elu', input_shape=(17,)))\n",
        "network.add(layers.Dense(10, activation='elu'))\n",
        "\n",
        "# Última capa con la función sigmoid.\n",
        "network.add(layers.Dense(1, activation='sigmoid'))\n",
        "\n",
        "network.compile(optimizer='adam', # Optimizador.\n",
        "                loss='binary_crossentropy', # Función de pérdida.\n",
        "                metrics=['accuracy']) # Medida de precisión.\n",
        "\n",
        "resultados = network.fit(df_normalized, dflabel,\n",
        "            epochs=20,\n",
        "            batch_size=68,\n",
        "            validation_data=(df_test_normalized, dflabel_test)) # Validación."
      ],
      "metadata": {
        "id": "aMpMeW-VavcZ",
        "colab": {
          "base_uri": "https://localhost:8080/"
        },
        "outputId": "359c78c7-4208-4958-e6a2-99be9f1f161e"
      },
      "execution_count": 815,
      "outputs": [
        {
          "output_type": "stream",
          "name": "stdout",
          "text": [
            "Epoch 1/20\n",
            "23/23 [==============================] - 1s 15ms/step - loss: 0.7274 - accuracy: 0.5788 - val_loss: 0.5767 - val_accuracy: 0.7333\n",
            "Epoch 2/20\n",
            "23/23 [==============================] - 0s 6ms/step - loss: 0.5517 - accuracy: 0.7411 - val_loss: 0.4848 - val_accuracy: 0.8222\n",
            "Epoch 3/20\n",
            "23/23 [==============================] - 0s 5ms/step - loss: 0.4861 - accuracy: 0.7825 - val_loss: 0.4394 - val_accuracy: 0.8185\n",
            "Epoch 4/20\n",
            "23/23 [==============================] - 0s 6ms/step - loss: 0.4515 - accuracy: 0.7989 - val_loss: 0.4151 - val_accuracy: 0.8426\n",
            "Epoch 5/20\n",
            "23/23 [==============================] - 0s 5ms/step - loss: 0.4334 - accuracy: 0.8068 - val_loss: 0.3839 - val_accuracy: 0.8519\n",
            "Epoch 6/20\n",
            "23/23 [==============================] - 0s 6ms/step - loss: 0.4196 - accuracy: 0.8114 - val_loss: 0.3782 - val_accuracy: 0.8574\n",
            "Epoch 7/20\n",
            "23/23 [==============================] - 0s 7ms/step - loss: 0.4103 - accuracy: 0.8095 - val_loss: 0.3712 - val_accuracy: 0.8556\n",
            "Epoch 8/20\n",
            "23/23 [==============================] - 0s 6ms/step - loss: 0.4041 - accuracy: 0.8108 - val_loss: 0.3604 - val_accuracy: 0.8593\n",
            "Epoch 9/20\n",
            "23/23 [==============================] - 0s 7ms/step - loss: 0.3985 - accuracy: 0.8088 - val_loss: 0.3561 - val_accuracy: 0.8593\n",
            "Epoch 10/20\n",
            "23/23 [==============================] - 0s 6ms/step - loss: 0.3945 - accuracy: 0.8108 - val_loss: 0.3528 - val_accuracy: 0.8611\n",
            "Epoch 11/20\n",
            "23/23 [==============================] - 0s 7ms/step - loss: 0.3910 - accuracy: 0.8095 - val_loss: 0.3488 - val_accuracy: 0.8611\n",
            "Epoch 12/20\n",
            "23/23 [==============================] - 0s 5ms/step - loss: 0.3879 - accuracy: 0.8167 - val_loss: 0.3499 - val_accuracy: 0.8630\n",
            "Epoch 13/20\n",
            "23/23 [==============================] - 0s 5ms/step - loss: 0.3870 - accuracy: 0.8134 - val_loss: 0.3502 - val_accuracy: 0.8611\n",
            "Epoch 14/20\n",
            "23/23 [==============================] - 0s 6ms/step - loss: 0.3837 - accuracy: 0.8160 - val_loss: 0.3440 - val_accuracy: 0.8611\n",
            "Epoch 15/20\n",
            "23/23 [==============================] - 0s 6ms/step - loss: 0.3820 - accuracy: 0.8219 - val_loss: 0.3478 - val_accuracy: 0.8630\n",
            "Epoch 16/20\n",
            "23/23 [==============================] - 0s 6ms/step - loss: 0.3793 - accuracy: 0.8213 - val_loss: 0.3460 - val_accuracy: 0.8667\n",
            "Epoch 17/20\n",
            "23/23 [==============================] - 0s 5ms/step - loss: 0.3786 - accuracy: 0.8193 - val_loss: 0.3408 - val_accuracy: 0.8630\n",
            "Epoch 18/20\n",
            "23/23 [==============================] - 0s 6ms/step - loss: 0.3760 - accuracy: 0.8187 - val_loss: 0.3453 - val_accuracy: 0.8611\n",
            "Epoch 19/20\n",
            "23/23 [==============================] - 0s 5ms/step - loss: 0.3750 - accuracy: 0.8246 - val_loss: 0.3413 - val_accuracy: 0.8611\n",
            "Epoch 20/20\n",
            "23/23 [==============================] - 0s 5ms/step - loss: 0.3737 - accuracy: 0.8193 - val_loss: 0.3438 - val_accuracy: 0.8630\n"
          ]
        }
      ]
    },
    {
      "cell_type": "markdown",
      "source": [
        "Al haber realizado los anteriores cambios es visible un convergencia más rápida ya que a partir de la tercera época consigue resultados de precisión cercanos al 80% además de una mejora en la precisión llegando en algunas ejecuaciones al 86% de precisión en el test.\n",
        "\n",
        "De esta froma utilizaremos las funciones de activación elu y el optimizador Adam añdiendo regularización L2 en los pesos con un término de regularización de 0.1. Como con los regularizadores se evitan sobreentrenamientos relizaremos más épocas de esta froma comprobar cuánto generaliza nuestro modelo y a qué precisión puede llegar con los datos de test."
      ],
      "metadata": {
        "id": "ordkdym0bXFB"
      }
    },
    {
      "cell_type": "code",
      "source": [
        "# Sexto modelo.\n",
        "\n",
        "network = models.Sequential()\n",
        "\n",
        "from tensorflow.keras import regularizers\n",
        "\n",
        "network.add(layers.Dense(64, activation='elu', kernel_initializer='random_normal', input_shape=(17,), kernel_regularizer=regularizers.l2(0.1)))\n",
        "\n",
        "network.add(layers.Dense(10, activation='elu'))\n",
        "\n",
        "# Última capa con la función sigmoid.\n",
        "network.add(layers.Dense(1, activation='sigmoid'))\n",
        "\n",
        "network.compile(optimizer='adam', # Optimizador.\n",
        "                loss='binary_crossentropy', # Función de pérdida.\n",
        "                metrics=['accuracy']) # Medida de precisión.\n",
        "\n",
        "resultados = network.fit(df_normalized, dflabel,\n",
        "            epochs=50,\n",
        "            batch_size=68,\n",
        "            validation_data=(df_test_normalized, dflabel_test)) # Validación."
      ],
      "metadata": {
        "id": "-HRf0qvHb6_d",
        "colab": {
          "base_uri": "https://localhost:8080/"
        },
        "outputId": "360945a2-3244-4b92-d274-69c41b3603a1"
      },
      "execution_count": 816,
      "outputs": [
        {
          "output_type": "stream",
          "name": "stdout",
          "text": [
            "Epoch 1/50\n",
            "23/23 [==============================] - 1s 15ms/step - loss: 0.8098 - accuracy: 0.7681 - val_loss: 0.6926 - val_accuracy: 0.7944\n",
            "Epoch 2/50\n",
            "23/23 [==============================] - 0s 6ms/step - loss: 0.6555 - accuracy: 0.7825 - val_loss: 0.5759 - val_accuracy: 0.8167\n",
            "Epoch 3/50\n",
            "23/23 [==============================] - 0s 7ms/step - loss: 0.5737 - accuracy: 0.7911 - val_loss: 0.5219 - val_accuracy: 0.8370\n",
            "Epoch 4/50\n",
            "23/23 [==============================] - 0s 5ms/step - loss: 0.5288 - accuracy: 0.8016 - val_loss: 0.4815 - val_accuracy: 0.8444\n",
            "Epoch 5/50\n",
            "23/23 [==============================] - 0s 5ms/step - loss: 0.4984 - accuracy: 0.8081 - val_loss: 0.4489 - val_accuracy: 0.8574\n",
            "Epoch 6/50\n",
            "23/23 [==============================] - 0s 5ms/step - loss: 0.4808 - accuracy: 0.8029 - val_loss: 0.4331 - val_accuracy: 0.8519\n",
            "Epoch 7/50\n",
            "23/23 [==============================] - 0s 5ms/step - loss: 0.4720 - accuracy: 0.8009 - val_loss: 0.4170 - val_accuracy: 0.8481\n",
            "Epoch 8/50\n",
            "23/23 [==============================] - 0s 5ms/step - loss: 0.4602 - accuracy: 0.8022 - val_loss: 0.4284 - val_accuracy: 0.8278\n",
            "Epoch 9/50\n",
            "23/23 [==============================] - 0s 6ms/step - loss: 0.4544 - accuracy: 0.8035 - val_loss: 0.4091 - val_accuracy: 0.8463\n",
            "Epoch 10/50\n",
            "23/23 [==============================] - 0s 5ms/step - loss: 0.4474 - accuracy: 0.8009 - val_loss: 0.3953 - val_accuracy: 0.8500\n",
            "Epoch 11/50\n",
            "23/23 [==============================] - 0s 4ms/step - loss: 0.4447 - accuracy: 0.7989 - val_loss: 0.4057 - val_accuracy: 0.8444\n",
            "Epoch 12/50\n",
            "23/23 [==============================] - 0s 5ms/step - loss: 0.4417 - accuracy: 0.8055 - val_loss: 0.3839 - val_accuracy: 0.8556\n",
            "Epoch 13/50\n",
            "23/23 [==============================] - 0s 5ms/step - loss: 0.4385 - accuracy: 0.8088 - val_loss: 0.3994 - val_accuracy: 0.8370\n",
            "Epoch 14/50\n",
            "23/23 [==============================] - 0s 5ms/step - loss: 0.4406 - accuracy: 0.8029 - val_loss: 0.3876 - val_accuracy: 0.8389\n",
            "Epoch 15/50\n",
            "23/23 [==============================] - 0s 5ms/step - loss: 0.4359 - accuracy: 0.8049 - val_loss: 0.3877 - val_accuracy: 0.8463\n",
            "Epoch 16/50\n",
            "23/23 [==============================] - 0s 6ms/step - loss: 0.4328 - accuracy: 0.8055 - val_loss: 0.3968 - val_accuracy: 0.8463\n",
            "Epoch 17/50\n",
            "23/23 [==============================] - 0s 6ms/step - loss: 0.4372 - accuracy: 0.7970 - val_loss: 0.3871 - val_accuracy: 0.8463\n",
            "Epoch 18/50\n",
            "23/23 [==============================] - 0s 5ms/step - loss: 0.4336 - accuracy: 0.7996 - val_loss: 0.3821 - val_accuracy: 0.8537\n",
            "Epoch 19/50\n",
            "23/23 [==============================] - 0s 5ms/step - loss: 0.4374 - accuracy: 0.7983 - val_loss: 0.3774 - val_accuracy: 0.8389\n",
            "Epoch 20/50\n",
            "23/23 [==============================] - 0s 4ms/step - loss: 0.4396 - accuracy: 0.7963 - val_loss: 0.3761 - val_accuracy: 0.8519\n",
            "Epoch 21/50\n",
            "23/23 [==============================] - 0s 7ms/step - loss: 0.4344 - accuracy: 0.8081 - val_loss: 0.3784 - val_accuracy: 0.8500\n",
            "Epoch 22/50\n",
            "23/23 [==============================] - 0s 5ms/step - loss: 0.4267 - accuracy: 0.8049 - val_loss: 0.3785 - val_accuracy: 0.8537\n",
            "Epoch 23/50\n",
            "23/23 [==============================] - 0s 5ms/step - loss: 0.4254 - accuracy: 0.8068 - val_loss: 0.3658 - val_accuracy: 0.8537\n",
            "Epoch 24/50\n",
            "23/23 [==============================] - 0s 6ms/step - loss: 0.4262 - accuracy: 0.8049 - val_loss: 0.3674 - val_accuracy: 0.8537\n",
            "Epoch 25/50\n",
            "23/23 [==============================] - 0s 5ms/step - loss: 0.4305 - accuracy: 0.7976 - val_loss: 0.3822 - val_accuracy: 0.8278\n",
            "Epoch 26/50\n",
            "23/23 [==============================] - 0s 5ms/step - loss: 0.4317 - accuracy: 0.8022 - val_loss: 0.3811 - val_accuracy: 0.8481\n",
            "Epoch 27/50\n",
            "23/23 [==============================] - 0s 8ms/step - loss: 0.4348 - accuracy: 0.8029 - val_loss: 0.3927 - val_accuracy: 0.8241\n",
            "Epoch 28/50\n",
            "23/23 [==============================] - 0s 6ms/step - loss: 0.4266 - accuracy: 0.8029 - val_loss: 0.3888 - val_accuracy: 0.8185\n",
            "Epoch 29/50\n",
            "23/23 [==============================] - 0s 5ms/step - loss: 0.4298 - accuracy: 0.8003 - val_loss: 0.3648 - val_accuracy: 0.8593\n",
            "Epoch 30/50\n",
            "23/23 [==============================] - 0s 5ms/step - loss: 0.4301 - accuracy: 0.7983 - val_loss: 0.3665 - val_accuracy: 0.8500\n",
            "Epoch 31/50\n",
            "23/23 [==============================] - 0s 8ms/step - loss: 0.4255 - accuracy: 0.8022 - val_loss: 0.3814 - val_accuracy: 0.8444\n",
            "Epoch 32/50\n",
            "23/23 [==============================] - 0s 6ms/step - loss: 0.4229 - accuracy: 0.8127 - val_loss: 0.3594 - val_accuracy: 0.8611\n",
            "Epoch 33/50\n",
            "23/23 [==============================] - 0s 6ms/step - loss: 0.4245 - accuracy: 0.7996 - val_loss: 0.3887 - val_accuracy: 0.8185\n",
            "Epoch 34/50\n",
            "23/23 [==============================] - 0s 5ms/step - loss: 0.4309 - accuracy: 0.7983 - val_loss: 0.3752 - val_accuracy: 0.8463\n",
            "Epoch 35/50\n",
            "23/23 [==============================] - 0s 4ms/step - loss: 0.4212 - accuracy: 0.8035 - val_loss: 0.3718 - val_accuracy: 0.8481\n",
            "Epoch 36/50\n",
            "23/23 [==============================] - 0s 7ms/step - loss: 0.4231 - accuracy: 0.8009 - val_loss: 0.3634 - val_accuracy: 0.8352\n",
            "Epoch 37/50\n",
            "23/23 [==============================] - 0s 9ms/step - loss: 0.4252 - accuracy: 0.8016 - val_loss: 0.3816 - val_accuracy: 0.8426\n",
            "Epoch 38/50\n",
            "23/23 [==============================] - 0s 10ms/step - loss: 0.4200 - accuracy: 0.8068 - val_loss: 0.3727 - val_accuracy: 0.8333\n",
            "Epoch 39/50\n",
            "23/23 [==============================] - 0s 9ms/step - loss: 0.4300 - accuracy: 0.7943 - val_loss: 0.3741 - val_accuracy: 0.8463\n",
            "Epoch 40/50\n",
            "23/23 [==============================] - 0s 8ms/step - loss: 0.4264 - accuracy: 0.7963 - val_loss: 0.3552 - val_accuracy: 0.8593\n",
            "Epoch 41/50\n",
            "23/23 [==============================] - 0s 8ms/step - loss: 0.4231 - accuracy: 0.8042 - val_loss: 0.3827 - val_accuracy: 0.8444\n",
            "Epoch 42/50\n",
            "23/23 [==============================] - 0s 9ms/step - loss: 0.4238 - accuracy: 0.8029 - val_loss: 0.3662 - val_accuracy: 0.8444\n",
            "Epoch 43/50\n",
            "23/23 [==============================] - 0s 9ms/step - loss: 0.4248 - accuracy: 0.7983 - val_loss: 0.3917 - val_accuracy: 0.8296\n",
            "Epoch 44/50\n",
            "23/23 [==============================] - 0s 11ms/step - loss: 0.4246 - accuracy: 0.8022 - val_loss: 0.3702 - val_accuracy: 0.8444\n",
            "Epoch 45/50\n",
            "23/23 [==============================] - 0s 10ms/step - loss: 0.4266 - accuracy: 0.8068 - val_loss: 0.3864 - val_accuracy: 0.8241\n",
            "Epoch 46/50\n",
            "23/23 [==============================] - 0s 8ms/step - loss: 0.4244 - accuracy: 0.8003 - val_loss: 0.3634 - val_accuracy: 0.8500\n",
            "Epoch 47/50\n",
            "23/23 [==============================] - 0s 7ms/step - loss: 0.4212 - accuracy: 0.7983 - val_loss: 0.3634 - val_accuracy: 0.8537\n",
            "Epoch 48/50\n",
            "23/23 [==============================] - 0s 10ms/step - loss: 0.4222 - accuracy: 0.8003 - val_loss: 0.3659 - val_accuracy: 0.8481\n",
            "Epoch 49/50\n",
            "23/23 [==============================] - 0s 9ms/step - loss: 0.4268 - accuracy: 0.8062 - val_loss: 0.3669 - val_accuracy: 0.8444\n",
            "Epoch 50/50\n",
            "23/23 [==============================] - 0s 7ms/step - loss: 0.4209 - accuracy: 0.8029 - val_loss: 0.3895 - val_accuracy: 0.8222\n"
          ]
        }
      ]
    },
    {
      "cell_type": "markdown",
      "source": [
        "En algunas épocas el modelo alcanza una precisión en la validación del 84%, pero no hay una mejora sustancial con el quinto modelo.\n",
        "\n",
        "Se han probado varias inicializaciones de pesos y reguladores."
      ],
      "metadata": {
        "id": "aJvIC_sIcHYG"
      }
    },
    {
      "cell_type": "code",
      "source": [
        "# Séptimo modelo.\n",
        "\n",
        "network = models.Sequential()\n",
        "\n",
        "from tensorflow.keras import regularizers\n",
        "\n",
        "network.add(layers.Dense(64, activation='elu', kernel_initializer='GlorotUniform', input_shape=(17,), kernel_regularizer=regularizers.l2(0.1)))\n",
        "\n",
        "network.add(layers.Dense(10, activation='elu'))\n",
        "\n",
        "# Última capa con la función sigmoid.\n",
        "network.add(layers.Dense(1, activation='sigmoid'))\n",
        "\n",
        "network.summary()\n",
        "\n",
        "network.compile(optimizer='adam', # Optimizador.\n",
        "                loss='binary_crossentropy', # Función de pérdida.\n",
        "                metrics=['accuracy']) # Medida de precisión.\n",
        "\n",
        "resultados = network.fit(df_normalized, dflabel,\n",
        "            epochs=50,\n",
        "            batch_size=68,\n",
        "            validation_data=(df_test_normalized, dflabel_test)) # Validación."
      ],
      "metadata": {
        "id": "n-YiP6zqcQp8",
        "colab": {
          "base_uri": "https://localhost:8080/"
        },
        "outputId": "b98aaf30-1a98-4cb7-a1eb-fc497192a847"
      },
      "execution_count": 817,
      "outputs": [
        {
          "output_type": "stream",
          "name": "stdout",
          "text": [
            "Model: \"sequential_191\"\n",
            "_________________________________________________________________\n",
            " Layer (type)                Output Shape              Param #   \n",
            "=================================================================\n",
            " dense_577 (Dense)           (None, 64)                1152      \n",
            "                                                                 \n",
            " dense_578 (Dense)           (None, 10)                650       \n",
            "                                                                 \n",
            " dense_579 (Dense)           (None, 1)                 11        \n",
            "                                                                 \n",
            "=================================================================\n",
            "Total params: 1813 (7.08 KB)\n",
            "Trainable params: 1813 (7.08 KB)\n",
            "Non-trainable params: 0 (0.00 Byte)\n",
            "_________________________________________________________________\n",
            "Epoch 1/50\n",
            "23/23 [==============================] - 1s 14ms/step - loss: 3.1905 - accuracy: 0.5191 - val_loss: 2.8038 - val_accuracy: 0.6796\n",
            "Epoch 2/50\n",
            "23/23 [==============================] - 0s 5ms/step - loss: 2.5357 - accuracy: 0.7201 - val_loss: 2.2517 - val_accuracy: 0.7574\n",
            "Epoch 3/50\n",
            "23/23 [==============================] - 0s 4ms/step - loss: 2.0543 - accuracy: 0.7530 - val_loss: 1.8335 - val_accuracy: 0.7833\n",
            "Epoch 4/50\n",
            "23/23 [==============================] - 0s 5ms/step - loss: 1.6810 - accuracy: 0.7786 - val_loss: 1.5063 - val_accuracy: 0.8148\n",
            "Epoch 5/50\n",
            "23/23 [==============================] - 0s 4ms/step - loss: 1.3902 - accuracy: 0.7904 - val_loss: 1.2452 - val_accuracy: 0.8259\n",
            "Epoch 6/50\n",
            "23/23 [==============================] - 0s 5ms/step - loss: 1.1640 - accuracy: 0.7963 - val_loss: 1.0424 - val_accuracy: 0.8463\n",
            "Epoch 7/50\n",
            "23/23 [==============================] - 0s 6ms/step - loss: 0.9882 - accuracy: 0.8029 - val_loss: 0.8888 - val_accuracy: 0.8463\n",
            "Epoch 8/50\n",
            "23/23 [==============================] - 0s 5ms/step - loss: 0.8555 - accuracy: 0.8016 - val_loss: 0.7710 - val_accuracy: 0.8426\n",
            "Epoch 9/50\n",
            "23/23 [==============================] - 0s 6ms/step - loss: 0.7532 - accuracy: 0.8035 - val_loss: 0.6796 - val_accuracy: 0.8426\n",
            "Epoch 10/50\n",
            "23/23 [==============================] - 0s 6ms/step - loss: 0.6770 - accuracy: 0.8055 - val_loss: 0.6115 - val_accuracy: 0.8500\n",
            "Epoch 11/50\n",
            "23/23 [==============================] - 0s 5ms/step - loss: 0.6167 - accuracy: 0.8042 - val_loss: 0.5651 - val_accuracy: 0.8407\n",
            "Epoch 12/50\n",
            "23/23 [==============================] - 0s 5ms/step - loss: 0.5729 - accuracy: 0.8009 - val_loss: 0.5198 - val_accuracy: 0.8519\n",
            "Epoch 13/50\n",
            "23/23 [==============================] - 0s 6ms/step - loss: 0.5409 - accuracy: 0.8049 - val_loss: 0.4888 - val_accuracy: 0.8463\n",
            "Epoch 14/50\n",
            "23/23 [==============================] - 0s 6ms/step - loss: 0.5144 - accuracy: 0.8062 - val_loss: 0.4663 - val_accuracy: 0.8500\n",
            "Epoch 15/50\n",
            "23/23 [==============================] - 0s 7ms/step - loss: 0.4939 - accuracy: 0.8029 - val_loss: 0.4478 - val_accuracy: 0.8500\n",
            "Epoch 16/50\n",
            "23/23 [==============================] - 0s 7ms/step - loss: 0.4803 - accuracy: 0.7989 - val_loss: 0.4371 - val_accuracy: 0.8444\n",
            "Epoch 17/50\n",
            "23/23 [==============================] - 0s 7ms/step - loss: 0.4697 - accuracy: 0.7963 - val_loss: 0.4413 - val_accuracy: 0.8315\n",
            "Epoch 18/50\n",
            "23/23 [==============================] - 0s 5ms/step - loss: 0.4634 - accuracy: 0.7970 - val_loss: 0.4119 - val_accuracy: 0.8444\n",
            "Epoch 19/50\n",
            "23/23 [==============================] - 0s 5ms/step - loss: 0.4581 - accuracy: 0.8055 - val_loss: 0.4102 - val_accuracy: 0.8481\n",
            "Epoch 20/50\n",
            "23/23 [==============================] - 0s 6ms/step - loss: 0.4510 - accuracy: 0.8068 - val_loss: 0.4108 - val_accuracy: 0.8537\n",
            "Epoch 21/50\n",
            "23/23 [==============================] - 0s 6ms/step - loss: 0.4504 - accuracy: 0.8095 - val_loss: 0.3998 - val_accuracy: 0.8259\n",
            "Epoch 22/50\n",
            "23/23 [==============================] - 0s 9ms/step - loss: 0.4470 - accuracy: 0.8068 - val_loss: 0.4120 - val_accuracy: 0.8407\n",
            "Epoch 23/50\n",
            "23/23 [==============================] - 0s 6ms/step - loss: 0.4451 - accuracy: 0.8055 - val_loss: 0.3907 - val_accuracy: 0.8537\n",
            "Epoch 24/50\n",
            "23/23 [==============================] - 0s 8ms/step - loss: 0.4420 - accuracy: 0.8035 - val_loss: 0.3976 - val_accuracy: 0.8426\n",
            "Epoch 25/50\n",
            "23/23 [==============================] - 0s 5ms/step - loss: 0.4386 - accuracy: 0.8035 - val_loss: 0.3949 - val_accuracy: 0.8500\n",
            "Epoch 26/50\n",
            "23/23 [==============================] - 0s 7ms/step - loss: 0.4353 - accuracy: 0.8022 - val_loss: 0.3879 - val_accuracy: 0.8519\n",
            "Epoch 27/50\n",
            "23/23 [==============================] - 0s 6ms/step - loss: 0.4355 - accuracy: 0.8003 - val_loss: 0.3874 - val_accuracy: 0.8407\n",
            "Epoch 28/50\n",
            "23/23 [==============================] - 0s 6ms/step - loss: 0.4356 - accuracy: 0.8062 - val_loss: 0.3865 - val_accuracy: 0.8500\n",
            "Epoch 29/50\n",
            "23/23 [==============================] - 0s 6ms/step - loss: 0.4345 - accuracy: 0.8022 - val_loss: 0.3911 - val_accuracy: 0.8204\n",
            "Epoch 30/50\n",
            "23/23 [==============================] - 0s 7ms/step - loss: 0.4372 - accuracy: 0.8022 - val_loss: 0.3812 - val_accuracy: 0.8500\n",
            "Epoch 31/50\n",
            "23/23 [==============================] - 0s 7ms/step - loss: 0.4341 - accuracy: 0.7937 - val_loss: 0.3877 - val_accuracy: 0.8315\n",
            "Epoch 32/50\n",
            "23/23 [==============================] - 0s 5ms/step - loss: 0.4331 - accuracy: 0.8016 - val_loss: 0.3900 - val_accuracy: 0.8463\n",
            "Epoch 33/50\n",
            "23/23 [==============================] - 0s 6ms/step - loss: 0.4303 - accuracy: 0.7989 - val_loss: 0.3778 - val_accuracy: 0.8574\n",
            "Epoch 34/50\n",
            "23/23 [==============================] - 0s 5ms/step - loss: 0.4338 - accuracy: 0.8055 - val_loss: 0.3825 - val_accuracy: 0.8315\n",
            "Epoch 35/50\n",
            "23/23 [==============================] - 0s 5ms/step - loss: 0.4351 - accuracy: 0.7950 - val_loss: 0.3751 - val_accuracy: 0.8556\n",
            "Epoch 36/50\n",
            "23/23 [==============================] - 0s 5ms/step - loss: 0.4318 - accuracy: 0.8016 - val_loss: 0.4004 - val_accuracy: 0.8185\n",
            "Epoch 37/50\n",
            "23/23 [==============================] - 0s 6ms/step - loss: 0.4337 - accuracy: 0.7983 - val_loss: 0.3869 - val_accuracy: 0.8426\n",
            "Epoch 38/50\n",
            "23/23 [==============================] - 0s 6ms/step - loss: 0.4308 - accuracy: 0.7989 - val_loss: 0.3671 - val_accuracy: 0.8519\n",
            "Epoch 39/50\n",
            "23/23 [==============================] - 0s 5ms/step - loss: 0.4307 - accuracy: 0.8009 - val_loss: 0.3728 - val_accuracy: 0.8574\n",
            "Epoch 40/50\n",
            "23/23 [==============================] - 0s 5ms/step - loss: 0.4383 - accuracy: 0.7884 - val_loss: 0.4060 - val_accuracy: 0.8148\n",
            "Epoch 41/50\n",
            "23/23 [==============================] - 0s 5ms/step - loss: 0.4362 - accuracy: 0.8009 - val_loss: 0.3699 - val_accuracy: 0.8611\n",
            "Epoch 42/50\n",
            "23/23 [==============================] - 0s 5ms/step - loss: 0.4299 - accuracy: 0.7957 - val_loss: 0.3905 - val_accuracy: 0.8426\n",
            "Epoch 43/50\n",
            "23/23 [==============================] - 0s 5ms/step - loss: 0.4241 - accuracy: 0.8095 - val_loss: 0.3582 - val_accuracy: 0.8537\n",
            "Epoch 44/50\n",
            "23/23 [==============================] - 0s 5ms/step - loss: 0.4301 - accuracy: 0.7983 - val_loss: 0.3890 - val_accuracy: 0.8463\n",
            "Epoch 45/50\n",
            "23/23 [==============================] - 0s 5ms/step - loss: 0.4291 - accuracy: 0.7950 - val_loss: 0.3759 - val_accuracy: 0.8426\n",
            "Epoch 46/50\n",
            "23/23 [==============================] - 0s 6ms/step - loss: 0.4330 - accuracy: 0.8029 - val_loss: 0.3621 - val_accuracy: 0.8481\n",
            "Epoch 47/50\n",
            "23/23 [==============================] - 0s 5ms/step - loss: 0.4309 - accuracy: 0.7937 - val_loss: 0.3853 - val_accuracy: 0.8352\n",
            "Epoch 48/50\n",
            "23/23 [==============================] - 0s 5ms/step - loss: 0.4251 - accuracy: 0.8022 - val_loss: 0.3761 - val_accuracy: 0.8481\n",
            "Epoch 49/50\n",
            "23/23 [==============================] - 0s 5ms/step - loss: 0.4237 - accuracy: 0.8081 - val_loss: 0.3732 - val_accuracy: 0.8444\n",
            "Epoch 50/50\n",
            "23/23 [==============================] - 0s 6ms/step - loss: 0.4210 - accuracy: 0.8081 - val_loss: 0.3712 - val_accuracy: 0.8444\n"
          ]
        }
      ]
    },
    {
      "cell_type": "markdown",
      "source": [
        "No mejora significativamente este anterior modelo al quinto.\n",
        "\n",
        "Se va a explicar la mejora que da el modelo gracias, principalmente, a la función de activación Elu y el optimizador adam.\n",
        "\n",
        "\n",
        "La función de activación Elu vs Relu. La función ELU está definida como la función exponencial para valores positivos y lineal para valores negativos.\n",
        "Para valores negativos, la función ELU tiene una pendiente ligeramente menor que la de ReLU, lo que puede ayudar a aliviar el problema del \"dying ReLU\". Este problema puede ocurrir cuando el valor de entrada a una neurona ReLU es negativo y durante el proceso de entrenamiento, la derivada de la función ReLU para ese valor es cero. Como la derivada es cero para valores negativos, la neurona ya no puede actualizar sus pesos, lo que resulta en que permanezca inactiva para todas las entradas futuras con valores negativos. Esto significa que la neurona no está aprendiendo y no contribuye a la capacidad de la red neuronal para modelar el problema.\n",
        "\n",
        "A diferencia de ReLU, la función ELU no se limita a cero para valores negativos, lo que puede permitir que las neuronas sigan aprendiendo incluso para valores negativos de entrada.\n",
        "\n",
        "Mientras ReLU es más comúnmente utilizada y tiene una forma simple y eficiente, ELU ofrece una alternativa que puede mitigar algunos de los problemas asociados con ReLU, como las neuronas inactivas.\n",
        "\n",
        "Función Relu:\n",
        "\n",
        "![image.png](data:image/png;base64,iVBORw0KGgoAAAANSUhEUgAAAQEAAADECAIAAAAQ3AMZAAAAAXNSR0IArs4c6QAAAERlWElmTU0AKgAAAAgAAYdpAAQAAAABAAAAGgAAAAAAA6ABAAMAAAABAAEAAKACAAQAAAABAAABAaADAAQAAAABAAAAxAAAAAA3hUy0AAA6tUlEQVR4Ae2dB3Adx33/r70KPIAgQIJFlqjuOE5iWbZlybKiYkXFkiVZlkQ79t8ZZTxOMimTMimTMullkkwmPZM4ZVImzt8ttmxZXZRkFVtW+atTEsUuigRIdLxy7f/Z+713ODy8BwLPAEgcdgne29vb+tvvd/e3e7t7ZhiGhjZaAmtYAtYaLrsuupaAkoDmgMbBWpeA5sBaR4Auv+aAxsBal4DmwFpHgC6/5oDGwFqXgObAWkeALr/mgMbAWpeA5sBaR4Auv+aAxsBal4DmwFpHgC6/5oDGwFqXgObAWkeALr/mgMbAWpeA5sBaR4Au/5rmAHsn4u0TYpfb2FHwwW0QBGLH0vT0ZMNQnNV5MrbAIhCV53kL9DxPcif5IzP1JWxXARTcNFXxuSb9+L6Po23bsXvsB0xY1qppNdoVMFnYdva4yO08pMl9zXEgieNFoYSAwoqYGycVDigL+SFvyQK2y+GiIE6jQIvQLqoUuK+aVm2pZC0NOSCIMS0xczt/EgQUnOENDWF+zyfkaUsCxOWKM0/ekvZ5sireIEAcyTyeV++jNccBqSpqN27OY0vLmk7CBRq0xNnJUP1SirmqGvmnXJi4mOQ2aW+X+WSQpBDa+V+97muRA3TumFqtlqw2mvbpyDTVN1DAxXXdkZEReSRMSIY9GeyUKM4Gua1UKuQcl5a5nYcD0sURw9jY2Pj4uBRZ60KxbNNgEawDkQMHDgwPDwvEqelsNvvQQw+9+OKLMXpixGOBHX/0R38EdAQi8uikEofAmuJgpqam/uu//mvv3r3wHG6Q22q1Sm6x8FRc5sm8xHDw4MHdu3dDBhXj8RTFeWI7+R+tuX7AcZy//Mu//Ju/+Zuf/MmfBCUgHvRgfvu3f/vb3/72qaeeSp2JRoEjdnDDLdC/7rrrLrzwwsOHDwMs8XBS1W6cJeD+sY99rKurK5/PQ2ya8y996Uuf+9znHn/8cSkRPsXSLv94oOFHUH/3d3/3r//6r8f13y6eVeNOHafSgFopF21YsoCgAYjQFsYeJiYm7r333ltuuQVveI7duU3aJycnv/Wtb33gAx9IxiZ2YlNNZSIhCQhb6EDEDy7wTdxjz+CVp7hzFcVDbiVUMkLcaZK5xib5lGildSfgNddc85WvfAVv0glceumlzz33HD0e9H7wwQclxTiSpEViwCUWDhbK+8ADD8wTKhnDKrWrdi7dJq5RKpJG8Z3vfCd6As15stSnnXbaCy+8IFjE/+joKE8FczIMiD2/973vfeqpp+bBhDwClBhQGAfEgotEi4VowSv0k0QhmHgYGhqSIDwtl8vYJasSVh6RQ7HE1ziSp59++v3vfz/RStg777zzhhtuOHr0KLfoctu3b4+JJBTiGseGtzhCLFIQWoeLL7446Z4+e2p1Iaoq7oul63/zzTd/53d+B/Ch93/ta19DacYDMH3llVd4dM455+RyOVwA0H/8x39Q8SjEeP7nf/5ntCCJCgqhQaEeoGMQPwASd+wgSezAEQu6BCbOg2AUFyyvvvrq5ZdfTpdCQsT2yU9+EtwzDtmwYcMf/uEfDgwMSCiGKz/6oz/6u7/7u2TmZ37mZwAxNJAkyPOv/dqvXXXVVbhA11/+5V/+kz/5E+zoP1/84hd/8Ad/sLu7G0WI7FHSt73tbevXr0cCtOif//zn6W0ITjySikiGnMCc//7v/37rrbfI3rvf/e7//d//pYx4e9e73oV89u3bJ0mn8uqkslQUKlZ5UWfBB1dARkP4P//zP7SIQKRYLOINUD7//PM/8AM/kMlkuAUfoAr0gICvfvWrb3/726EBWKSN7O/vhyRnnXXWP/7jP9JGYpckABNt9r/8y7/QZB47dgwg4gJkaXHXrVsHUj/xiU8MDg6KnEmXXohxBdlg+HHzzTcT+T/8wz/g+bd+67d+9md/9ld+5VdIC9R+8IMffOaZZ3p6euAJSQNriYEMv/7669u2bSN7X//612Eyns844wxIiAZ/9913//qv/zrlxY7//fv3f//3fz8WboWldDjESQ4RCO44wsw/+IM/+MxnPvPZz3721ltvZbB0xRVXXHbZZfCBdOHkBRdc8Oyzz8pISfKQsmtqOdBUT9Q6yNi5c+f73vc+8CQNOQgAEGhBaDj4xw/oB7g0/LDiN3/zNy+55BLaZpp/guAZD2eeeSbYhQDYhQNypR1FoYIAotWAObAFo2iGN27cKJEThEh+4zd+4+GHH0ZFocUtlUrnn38+WP/yl78MXn/pl34Jn5s3b/75n/95UicGIuzt7SVy2AXWeYojcCT/JPEXf/EXt91224033gjHpBOj99i0aROPaO8pGsMAqA5t4B7lIjmgz1MyJs08WUIsv/qrv0oB/+mf/ukXfuEX6JfgLUFIl+ToImA43rCn1aSWA1QbgAYx1By1jp1KZbJPACRPcedpXN+gGSTRIYA8tCOw/m//9m/4JCBXnmLoJfAAIsVRYsD/933f951++uk05yA4xgpABHyEwl3yQH4IjqZBkw8iCYi6D9zxCT8ZrNPt4P73f//3NL0CeuZzbr/9diBLEUAwMZBJqEUGIA8aP5FIivQJZE/shUIBC0FImsxjxz+AxgW7xEbGiJArbMGdkRJ5gwB4wCc5pzcjM3R9dJWQFvdUmtRygEoVAsTwpfF75JFHAJ+0i/IU8NEE0gZL7QII/NM04hjDSLCCByzgjHjAkwSXUESI0ky7jgeeEhwAAXrs73jHO2jpJU5ceISqg/bPyARHRgKEQoMHhVAOtNGiv/zyy+hacIng3/nOd+AGPQlgxZAcVzgACUmLFhoCUFIciQ1kk2dAjwHNIPjss8+GzGSGdPfs2YMHwor+Q1QEIRIxpAjc6cRwJzh6I9ESG1eUIvpDKWkqr6nlQFxbAhFqGgsj0T/90z+NH2EBK1u3bkWVF0DgAlKB1F/91V8xGEC1QPkhLE+BEeAARvhPEoAggIz5RwagMAdcEpxIYAvAAojEI0014CM5oAYV0eCJFl0FAsho4Z577oEYuEAMATrR0mPAIlKEDxhS50pOuN5///2MChitkijupIh/QE9PQipkmNTR6IiWhHgKtT784Q9DJ7KEgiS0EeHQEJB5kpaO4tChQ/SWxEARyDlCQI9KCi1l9rWybhRAMM/DYBR1SBAjFQlkaSAZOKL0U9+AG50Yx5/7uZ9DzaB1Z1yIdt7X10coWl+GocyyMzXUGQ7oMZ544gl0HoCOFvSf//mfIO/3f//3wehFF130nve8B0D/9E//NFDmLR49BrCGjT/1Uz9FZ4KuIio+ijs9CUNzhsvkGVIxaCEGYE1WueV9H3ahCoNaUmTWi/cGuDMconQMuL/whS+ce+65cABC7tixg+D0kFu2bCFdFC2mg8A9RSZ7MA3+4NhZkU/+UKmdG41FT3uGnTaY5g1AoAxQ37iIO7egHG4w2SI8Qff9kR/5ERxpNVEDgAtABA0EAV5/9md/9ou/+Is0pXH8i7KAOdraT33qU7TNDF7RPX7oh34IUJL01VdfDUNAM/D94z/+47/+678Gdtdffz3jdVr98847D3pAUXz++7//O0MIQsEB8M2wGLhTHHLF9A7zRcRArigm/u+4447Pfe5z0AzPDFpQb2j1aQjoCogKsYhuBucB/U/8xE/QvTCLiqAoMv0emhj0k2H9okq6mjwju7QaAIeR0tHoMuvHtDq3OFL3ghtuad2ZlvnxH/9x7LhzBRY8BQH4BLK4YIAO2vlNN91EEy4ui7rGOSGeOCBJ0P/ILfbYndaXDKDViOaDexwcF26BOy4SFrt4kMxDYOad5BEu6DM8pfixZzo31DOSEP+kQgwwSgSCBf8SirJfeeWVd911VzLPPE2ZUc1h6g31SifArB/VKYUFQIIAuQUH6BsMFWgagQJPgRr2WDLY0QeYo3zttdeS7rGHhVjiFIkfQ5CkC7fimLzG0cY+Y5eWFjIPRelbmPBljkj8CG2wQzPojfLDU26JM5kN7LjQNUnZKe+f//mf/97v/R69E6ZlculwTLMuRA3RI1OvQJx3UvTvMvGHI6oIRoDFLWrA3/7t36L0f/Ob3wQBuKBOxANfgAUIAAQjVDRmlATggp8OjGRJUic4qQgKcSEVrtxybYpZHMVn/EiiSt7igTwzZ4U+g0bEcFnmeXAXb2hHzLcyDEApwkU4gIVsSGxYGGDgjZ6BCSWG1Lw4Q13ExAmlz5LaMTEVT41KhVGjKDzo37iAMOqb6scSozz2jE80ZuAoYwYJLlTBJXbHJQ67cEyQ7lx8S07IAPFDPxl4zI0Tb5J5Hkk8yWuTfzxDWvxTlvhRnHqcSuwS+8FCWNzJzJEjRwjOEIi8UfB2GUuGXaX21HJA6iOu5hjluOPIbTsQAwL8xIBL1iuh5FHSceF2VBESJWYygMESh+VW6EHqLTMWhahP54tnIWSyXHFsTRbilMi5ikU8EJaoJLm5RYMq5BAyLCSJphRX1+1MNayufC8wt3GVC+CkpnGcizPQQJx44BEGhGGaUhHwNTl2cKuQOFvhiW9JWnLSFK0kjTdyKJ5BJ35wxyQ9N91Kux4TD59Cciw4xslhx0iEEhsNP0/FpSlO8ZCaa8r7gdTUky7I8kkg5f3A8glOx5waCWgOpKYqdUE6lIDmQIeC08FSIwHNgdRUpS5IhxLQHOhQcDpYaiSgOZCaqtQF6VACmgMdCk4HS40ENAdSU5W6IB1KQHOgQ8HpYKmRgOZAaqpSF6RDCWgOdCg4HSw1EtAcSE1V6oJ0KAHNgQ4Fp4OlRgKaA6mpSl2QDiWgOdCh4HSw1EhAcyA1VakL0qEENAc6FJwOlhoJaA6kpip1QTqUgOZAh4LTwVIjAc2B1FSlLkiHEtAc6FBwOlhqJKA5kJqq1AXpUAKaAx0KTgdLjQQ0B1JTlbogHUpAc6BDwelgqZGA5kBqqlIXpEMJaA50KDgdLDUS0BxITVXqgnQoAc2BDgWng6VGApoDqalKXZAOJaA50KHgdLDUSEBzIDVVqQvSoQQ0BzoUnA6WGgloDqSmKnVBOpSA5kCHgtPBUiMBzYHUVKUuSIcSUN821GYFJNDu047xFylXIA86iZYS0P1AS7FoxzUkAc2BNVTZuqgtJaC/T9xSLMvlyBe2UYrkU9vTkdm0adNyJbYi8fIdc9Mw7Ppnwj0DQPEZcMPyGm60srYROgEeXSMMDKNb5Ysw8TWy1l0ie/Kb4+JRvCzTVfcDyyTY1tHyLXg+/i5fhC+XyyMjI639rR5XMGolMaso0MooLFtG2MBbG1+tQi67WyNPy56QTkBJIB4Ze543NjZ24MAB13Wx+74vXcSqExMEaDTVQdTM10tgGiHujUeNYpkJvJ00NNDzQo3qWf5fsE4PANZJiuuxY8eEAKhGuItZddNECuWg2YQAvogQnodKI1KugnMcghD4R34jJ1PIobwsv9yPl4LmwPEktHTPHccB+mJQhEAGehHRK9A0zNKltlIxhSj6cJruQKGbchgK4IE0+NBdLHQKQWibJv6UUeBv0KBuidzlssK80BxIyH45rYADhUdAzzWXyw0ODmYyGXGRroAr3lZZV8BgV2E2gjqNvwXMZUzgc1fHeWj5dU+K84oseI+u2MX3XCYsZ23MiltzYJY4lu+G5l/ADeixwIFSqYT+Q+ewykDfLCO0oEilCa3AtCAA5aQfwBdNf90vgwPDCUzDD01mkCzVJxh29Jhr0sy+Sz5ZRrvmwDIKNxk10K+3j0oNqE9JQwxokPSGH/G2aojBdCeqPiMAy/JNy2sQwDICCsmVNp//EEBpS2adAEo1iorNGIIQs2aWkuJYEbvmwIqIGRA04C7glt6AUTLukgNxP2mh35aZMu6FyZZTC42qxwSX71hGHsp7OASW6XgEtq0a4wE44Qc2PYTqC5UW5LnRcMIw8hkFRagxIwe6l8gp+lnGi+bAMgo3fVED5maWVqpGsWRYGZdXY0DYtn3DrtWmrGyYYaYo8D0zqPHfNqqBY9qZom24vg9j6AE8z81YNsMkx7bpKE5UbzCrI05fnekSLbkEoEHSMAYI/ZAGv2IYVf5MA/v+Q4c9X80B0PCj8e/a9TpBDg8PVWv+67t27dr9xht7dk9OTg4NDb3yyiu8LudpMp+qa5nlkHy49HbNgaWXaSpjpPmPewDhAFocxsoV3dCqBAY6DX9TrrHjsac+/4WvHBkeqvkeqySyGWd8dPStt96qlGtT5UqtVmPcbDtOV6m75rkj42PFUreTyYjQ6hNJKytBrQutrLxXf2rJToDSeIHpmQ6qTs0whsvG/Q8/dezwQd+0A8MqFotW4Aa+WyjkaPV7B09jHRHEIBRMqEamUqnQD+R7e0+gYDQHTqDwV2XScScglooXWjlWyBnjNeNr93znrSOHS3n707d/ZqDXCsMa6pBbq23aOFgx8xs39o6VjQ3nnsvbcToQlJ2Nmwaz2ayiChNLCGMF9Z+k6DUHktLQ9gVJINkVZHN51zbGpo27djx95OhoLTDf8/4LC11dTjY0mQPyWQ1V6+ou9JYGar7h5IysmQP3cIDZISdjF/MFNUV2wvCvyqs5sKBa156SEkhygAn/6XLwyGPP7j/0lhvYt22/rlQwchneggV0AqyO4gVILpNjepR1IUwUWZYZzZGqRt82bMtmTuhETQjVy6Q5kKzcpbBLh5544SkOzBvGXT0WZge96G8pklzSONydaom/tcmz7LKphrlMmzjqHddEjhU/fsY2c6aVrRh+1ZpmznOfbTzy5Cuv7no1mJ64ffutpxSNghU4vpsF9EbWyA3kQosFFLKDAK3f8utL66IRthKTWl8XvTeM1ltEkzQJ6S1p2VpHpjnQWi5r19Vkj0tOre7hRVYkBVBp09qHlg2UWfXmuj73WSc0SuMTY3fseGJydKSnUPzE/9neZRm8HUOzyZg2/iC9WlmtXopbTPioN8hzTDzXNOfJyjloDqycrFdJSoOgn7U/vNoG6g7qiuKAYfp5lvzwAqBquqHd7RnOpGc89fzQkYN7ipnsdddf05UxcngNeTFsZiyHt8REA/IptQI6TFCWuuIv0D8ZCED2NAdWCTJXKpsusFfIdU2jkuHNL8p7kDOCrGGj4/PS1/UzGd6FTYXG/Y++uuPhpwY3W7d97IZSzs7QA/gsmfYttSRCvQYG4sSkltBhqdNBWaUocy0rVcTmdDQHmiWyxu+ngbJqGu2s6gxQ+0PDV32CYeUZ0FatXMWw3pqcvmfHY4eHw1yp75YPX9RlhQXHyIZGPmtlDF4NuOj4dAl0CNHKiqgTaAyHZHnRyUMAqltzYI1jvrn46g2WggWr22jTAT8L/Mu4+KFVtrJlIzPp8yb4hQOHRoMge+NNHz510PDd0ORFGLM/0fZ5tkubagF1QwtSXYFSiaT9j6xRGqIj1a0n8kdz4ERK/yRMm/YbsDKWtfyC6gHCimG6nlktW5lJIzs0bjz57O4jR4NctvsDF523daPBODjMwpiMrcYPzAWh9KD5Rwuq68Wb2SOgJoAaJu4KGg4n7Fdz4ISJ/uRMOBtNhqqzUhSkc+DZtYxp25oyM8fKxjMvH3nw0ef6SsVbb75yU3/Yl6WRdxlAOErvocdgkRwkggCEjbaRWTK31FzWk4cA5ExzoLl6luqeF0lEpV4nRUoAq2N4P8o7IeVohHKWBA+b9tAsVeodx5MD8MxtBtEiNrT/0JwIGBV3jwXm48/vue+BZ0rF7huuu3JLnzGQDR1jPBPkVVpRaYE/+yTqsz9KFxL1ZyYvyqkxJp5xPdE2zYEVqoFCvuD53tT0FGjJFfIoz11dXaycYfWY5CChQK9Ellih0DIZh/3ALvv92Qvj8JrMzWZ9K/vmuPHEC6/f//CTfX0bb7n+is09RskxMn45b3lsEWCYK2CnM6jHqXiP5q9IcfIbzYEVqqNypbx3796DBw+yROysc84eWD/Aesn9+/dv3TBIDlaYAKTIQoaWJXfCLDthfPUeoOY5xYpl7R0ynn/tyCs7hwf6t15x2fmbB4yBnJHzKjlmQoMMc0bqRZgqgZoFUmUR9Md8aCRz0hJCc6BRRcv8S3vf399P2x9pDcZUeQrV6JRTThH0NyXe0rHJz/d4y6q11jEwwjW8mlF1HbNimuyMOTRc+cY3Hty6bdv2j17S32Ns5F2YUc1ZNVu2jdGfRK1/NBMUMUFRunUn0zrFE+2qObBCNdDb03v02FHOlkMJKfX25PP58fFxuoVN6wckB4L7FUB/MrkWhTeNac/wMsUaKyMs5677n3riyTfece5Zl158/kDG4C8PAYxKlqdOhhNEeXFAJCrb0V/UJaiJoaRpaEhJt5PIrjmwQpVRrVU5TWhgYIDRMMOAqakpbjlwV/TyGPqxZbmzJd3R3FS8DHuDnWpgHDw6/dxrrz79/14Z6O+/8L1vP2OzUXSMglfLmbUcrwA4LYLXABk2CSiucKxE9E8Rob2Rnuek04k0B9pX2ZI+AXOcLTcxMYEK1N3dXcgVRsZG2F3F7ZKms9DI2o0HptXx0EbZN557eWjHoy+ecfbZl19yfsGcXp8PckEl44cZ3iD7Ji/QXJNNAEHGz9DqQ12uyjI7/QTeo5fN6mnCbbbnE3WnObBCkgdzfX199AOiNtQ8Bgg1DthKYlE6gZXpCtqlMuXVql72vkdefvjR5zafftZFF57fUzJ6nJxjTGRCN+N0qbOjWUbEcghOiDBcNTqIDD2AqEBynU2GNmOPFZL9cZLRHDiOgBb9uFH5TYAuZnO8Cqg7KpXB4u1qRq2nqQdo8r/odNsGeE3tBwgGwS7rINi3wFCWhRCBOeX51cC3mQiyzDwzop4xTV72Z3q++/S+l3a/2tVbvfaDp545YBTsMKjWCnbeMnNK4wH/FivpWCUdbQtLjH7bt/DypP3ztplfiQeaAysh5XZpxARo52Ep3Ov7AZiyl308IBEWZAy7YBfAsuuyFsjzbKdmFKcr5Se+u2ffG7sM191+660bShmHvV7qnV69IVcaj+Ks8PYkxfRihaY5sFiJde6/CfFNt53HO39Ib1Bp4BzwoGb91Togqpw/W73fRaWvsEfMdXIVM7d/xN19YPyNnS/6lcq1V12+uT9fZBUoy0Y9Vks0equTT5ufv/QLeao5sBApLYGfJlVnhQhAxqNT0D2L5W+cf0VPwHx+jqGs0ooULTwva3HaGy/Mnt118M77HjutL/Px224Z6DG66Slo8D36jyD0GSfXjwDCDSIpfSotRnNg5WqyCffcNrksR1Zow9FcAgOlpmIaVQVrkkG1MdUkaGAVq5Z9aLT84FPPPPvasFMo3XT1RaWM36Vmf5TPjGOyEM5TE59qFBEdF62yiU4k6lFiOLAc2V+JODUHVkLKpNEE96bb5csEK+CAKUs7mdFXeFX7AXj5qxr3ip2tWAWWhz727AuvvXEodMMf+/jNZ/Qp6HNEFnso0ZxYOMEKOneaXmNmboeuQREpLUZz4ETW5AowgcafFp1NXrZXiGBcjb4Z6Y6a4biZfXPUeOPA0Vf2jASude3F7z4lb5SY/We/pGkrZAQemhOrKjhMIiEmNbyQW5kGTTxalVbNgRNWbStAgLhsaj5H7QtjLp+9klX2/E4YuTfL4dO7jzzwwBNb16/71G039mfcDT0Mnn3b9HMm3UDAqh8GDLb6tICAXulVCvfp6gg0B2KcLJdFViWAeBpUwMRGAj5CgwV3TttswGu5UneMMdO3QpdZIGZ51EFBZdcYNzNvjJXfGK5+8Rv3lXLFm2/84U19Rj+4rwzbmW4UHVsdLITWxIEqDKSZKXULXSWgbyp9qt4JkONk77BcBVj+eDUHllfG8bIc2ScA+jGSJC7Yk++Jk1lZLDfihJKRYO9S7bppcR4EKr6TcW17Miwcc42DQ+4d33hgy8DArR+5al3eKHIoUFjN2LwpU8PfaNDLVY2dowjVl2ai/QAzBIjc03DRHFjGWkziMoZ+nB6L51gw1w7rS6Up5aucC8TyHrdsB56TYXv8Mc94ZZ9//91P99q911920Znrjf4CRwdV1fdVMwVTnY8SG6X8RJ8dVgSIpkTjR4nuYMZtVdo0B5ar2mICiAVMowVx5VbWinLFpV0/sFgOxMk1lcfhdCCXow9dL2OPGMGkYT32zOFHHnpmfanvo9dccMpGoz8PzKfssGaYDJ5ZCCrHKxKN9ACN1REK8+nQfZokpPcTNwtkae5jRMYWvsg9OjrKtoGjR4+eccYZQJwNZbKdoGWSS8UBJmVRaLxMN+cCjXrujif+38ED6t3wTVddcFq/McgwISgbvvpYctW3a5aVVxsgGQwDdxp+FCC216MccbLiDAEiZamR6xnnhstq+9X9wBLXWAx64hV7fGUAwJ4Bdg7QA+CIHXWo7X6uReYrmW4yaGA7TO6XXfOoG7y068C3v/XUut4Nt9xw1ZlbjRLjW9ezQ1cdBmFZLkqQ2g9JvqGB+pORQeM2GWuq7JoDy1WdMfQlAXoADKMCdlRiQQWCDAwG2FW8JDlox4FKT3e1Zh0+6u07MPLGzqEzN5xx/nlnb1nnsRTC8lk6ypjE4XR08pCx2V5JNPQBSvXHRY6IYJMkltS8FZ4rbc2BuTJZApe5iBTVH+j3Rt8doiugE5D9NEuQXqPPmRvVKGeDBv6hofH77nssn+m+8YYr+vuCTQO0/OOmVc1k2RPm8IKM/NisrWZl3cy6oHpkzBKpziG9RnNgietW9Pi52jzfYEQXwvT09ND2s3sGXQhKxGxpF7A5f9MHo3X7pTGDoz+VQaUvMqNjTITelGsVLaeXUa3SaIKaY9ZeONI9dOjQvXff0VOwP3Ld+07dXOvJ2Y5b6XKKVkhQWnh6An7VwgjHUmsjYmP6PtRgWUXOUgdu4V5fJJH0FPtetRbNgRWqum3btvGmCaADfYAF9DscDLBxhe03Rob/qoWODkannfb5OobTzVm5vl8LzSy6fc3IVsrh0JHDDz/04Ma+9ddffcWGUjHLRnjWSqv3vkq7UaNbRRfGAyskh5MwGc2BFaoU1B7afgW7yEgPIG3/4nKQLSl1JbAKnPPMl2xMDw0mMB3Xy3dl1LswegPDmaoZPftG7YPD5oP3fGN9qeeySy4a7Otd12XZns/HAVCATCZDFYPS1aQvTpR135oDHYlt8YGY/xHEy1VUoFgRWnh840aOHkApMT6t+GTGYj4zw+YYvhsA8HMmZ8OpRn1obPyF3e4933qu2zFvuPbKDb2ldd18Op7VoCan40aroBtpRvuA6x1Cw21N/WoOrFB1o/8kU1J6drw3K/ngeHZmkWi9+eKLaU2qU9H90A5p/wPO/qwafo05zkzPwWPjL+0ZefL5PZO16c9uv2F9b3dvt8U2GTQm9gZzmjQfDUYhU0pQYxU0lhTP/MwvVM2B+eWzXE877gdEkWfbl2P70fcB1MJ+VvNYdo2PgVWs3LFJ46U9k1/++o7uwQ2f2n7tts0Ou9+hisPB6GHgRJuH1ZRUoRCXLWZC7LKmLJoDK1TdDABiXQgLHODaweFCXZEKz0m3Fss8rYJqyRnRqk9eu9NGdiJ0nnuz/PjzB/O9my95zznbStWSw6fB1ApQvjFpsSUsYBFpyCuBmWKrN2L17oAeZg0azYEVqnRp+HkpJgSQ18NNCtJCslIM1XdS1QDAKPAJMGCtvvprWhWOwbVzD3734N0PPNnfO/CpT1zTb01s6WXfcI3VDhlmgkLL9Wrg3WF/gJy3q9p/9cXINW40B1YIADIpBBNAv/CBnkFmS8mBdBEtsyKeuYrFDo5ZZtFwunx2hhHAVr0Ag+GpwLjv8beefHEPZ7pfe817N/Qam81CV61iZvMEVNWsmMMwmg0xmeiMILUcmlXV6kHDzNgaLmvhV3Ng5WoZLMarg9CCuOVdgSSP/bg0qGfU5IuRLq90AbT6+qntlA173DNe2u3d+8jTnIR468euOm3A6Mm4eU+9BwjU9wHQcZTyo/7LQFxpUKoTqMe5tn80B1a0/uGAvCAj1eRLYm4XQgP8GHYJVJtBNWs6pm1PGcaBKfPlg+U77n60u3/dhy5611nrjU2FIOeX1Xswmy/KRC/CIo0HKwkpBw5Hn0OANUsIzYGV4wAtPRoROBYTjw3IgXQCuDf1BrjE+RO7a5R4vcUMEGc/+EaBCc033vS+ef+3q0Ft+7UfOr0EAYwur8KGGZPjVNTYgW+GRf0A7b6p3k+rldGKDGsW87FE6xbNgWaJLOt9E9Zj1ShGf2whGwJ6rmIkY+wGRqHP2ZyO7o7Wcg888fq3XjzE0Sm3b79mYynYkPXybjUbOLZT8Ng7ZlQKBqNoegGFeLUaVK0JZTNAglvJAcGyFv5kjVxzYIVqRnBM28/cvIJjZKAEv9yKJWZInCd5Krdi55vZqEKukTs6Pv3Srt13PfiIU+i75dYbTx8w++yw6NdY36bed3GWrmrymTniLpr6JB0zEycXJ5GwyFuyNdc/aA4kMLCcVqCPYc8A60bBOobxQJwg0MRFrrGjWHDExI7qMzFB8dB49tWD5ad3HunbMnjxu88+vXd6S5jLuZyNzpszNoZVWA2atbOZUE19RmMB1dqr8QCp4NKIL4F3CKA5EItZW5ZHAuyl5PtLbKGUV2NJDsQJAnfIEN/OtZhGZapivnk088BjLx6bGvnYRy49ZyDc1ps3p6dyDDYi3b8WerwEUONeljzPiUxxoDleQX+z6xq5X3Q/kBTfLPEmH8wSXkK+EkC9mJylhCaDzopzVjyr9SZuxdlBduTIEZkXYksNZOA7NLa7k+8DhOZg1cqVOQVLLWhjl3doeOP5IMwyC8TGLsuocMiPo17zfufY+qFDQ/ff+4284X/6ysvP2eisK2RczysW+Nof+8AYAmcyTtEIHbUrDDHT5iteKZlbaq0oY2mlJs1+PSf9gVxXq5w7zveiOdBxSjogEmBeiCFBLArV5Aes23F8jneTtiLS4RkvZDkT1/Dc6jRD2MDmY6hW1Tcny8HoyNT9992Tt52brvvw2wb6Sl1OxgxzeFbnQUS9AD+RChSnoi3zS2DpOFBv4+ckl2zY5/QAc3yn1kHUfdGClJoSLyPNnYq6Ypl+1qxJH8DEjR1YjG9Ds+KalWpY464WZIcnjD37Jr921xfYEPOhyz542uYNvXm1+8shNtR8JTnV7qdWgstWsKXjwLJlMR0Ri6LP94nltQDjY9GRWO+vRqroLkaFrTFqW1jISji1GlSt9s/ngXjZyA6N+y+/Mfr4t19ABWI/ABtiIAAbCaI+hUOh1WA3gr+ywIS1vB9gsYBZNAeO0860eDzT9bdrpFoEWmw5Tnr/NPysDmIMAPShAYYsc52Opu6pBj72a/sVtQSCD16EbHfJBJlMzcygwg9V/Bd2HXjo0ZcqVfv2225Z15Xv4WS4iADs/2VFtOu57FJTMmiIkoGv6Fazdi2c9FI6IRlcNAcWkkvpkttdFxJD+vzIKom4H5BOgGKixUdodix6Aiby1Ze/1F75mml5tiLAcNXYfXD8zrt3mGbh1u23nrIBuGdsP2BHGB/TU7sqafrRrKQbUCRQf/KjxEg1aDOvBJaAA3OFTDXSyrW7JvPTaK2Sbol+I+m8+u0yDKjrLIAz6hAErJTZDIpREfk+AAMAjxn+qmUMTxv7D4U7HnmhkO+59Iffu6nf4FQINsUz7U/zb3MIFvsB6FKSMkOPItLIzK2a+gP9k5DAEnAgEVu9/8UFAlABTVdx55qssmTwFNuBfox+iil2aOCwtYXpHM8OOO6Nuc/QBPrTtlfL50bKxs69tft3PDF+bPiT26/fPGBs7jYcz2W6U+0ZZlOkG6lAshyISFGAmANtECDFwlzaoi2eA9K2zBE0WzmogWhKWuUwsiuso9+qpVuNnoH6Cjj/eNZGJrzzvG6Yy25YV+VvEuhSAHFhPIA6hB3cyzIh2VFQNCpsKLCi0x4MTgWtWdN2xs11vX5k8oA6Hv0xVkh/+raPnn2KMZBDqpN5K8dy6Fq17ORyaoxRrdpmND1U14VmCW11izIqSqw0zipYoxFpcuzsdvEcaJMOoJcnvJIB8PzHwst5QTfPZGEAjhzpFKgniXnyNnGmzzmu0dhisc+LT2Oos61Cj3Vw2SJ7vSZ8Y8Lr+uYDdzLx+dGPXL1lg7Eux/cBKrbPMIFzIdCB1N9Md6oajqgTSJ/Ilr9EnXJgdm8A0OkBQHa0OktVZ0QJ1UnzSF1puzzOVFPv7q1ctH6YOlQPFUeUdcas7pmMGNwzBYpsyf5B/HDF8IJLCcFyfaNWsXOukR2eMg4MG3fc/Vg203X9tReevTWzQU2DenlE5bMCSC334U0Cf2oIrTZDWtHnYZoSXIsKZ7MIFnbfKQcSsSsUR4Yu3oMI1BBf9FTdAhyAFpx8FrJtcO+ePQMD/V7N3Tg4wGtOFgOot/iKLbAk4kDUZ8i+v3qMKfoRLUius4uVDbxajW9FOjnfyB6tGXsPlu+85/HDR0d+7NM3n7bV2JCBAHxAgwlTx7By6jtJxMKQWH0mCSu3tBozXcLsyPXd8SWwBByQROgEqp5brqp5PauGpsoCRqDv21aRA2327dvnWHalUp2amDhlyyb8RI2g+lXB4QCfSonItMqHA6pcqkRtjDyNyq4u+KJrLAem73BqVmHECPe/dezBh747MnT0luuuOaXHGMwYBYNN8WXgz3JoI2BDDM0Gaz8F+pCAr4yxaX6WUc1KwzQ9ajjr3xkJLBkHOLaJd0AjIyN8Y+KUt70N+/jUJCslS90Dg4ODe/bvu/B9Fxw7Ntzd01OuVQvZXKJuFAHiHAky4tvUWAT3NODJEuE4yffCCmpWdNgNd7159P9+6eu8ILv90x89dUN+HftfODc3mKbB52BoxKRafIzaFcCgIJoSrTtF7s0XkeqsFJu96Psl7EN5+U8FM1c9NDyMnjpVKU+VmeFwqjV2fquvbnH0frlcZvU8FS8rBQQWiSsDhpkl9au0dhLFmWWV4ogTdizi4uY4FcIYrhgv7Dx2x9cfc1378kvfs3Ug2NjllozJgl/NeZbj58Igi2iqhquCcSIE/6PP5DEYAOnxn8QZXVu5JR5rayyBJesHQDmTfRsHB3fv2QPQWRvcl3HoDTJ2j+XYAwMDwyPHOHlcjRl8Zjs4ZieCQX02VdVsHRarvNmKwR2LuJ1FfKL7TfnhnoMT99776PBk+RMfv23roLm5lLH8YSfwMoyYwyxjKtoQCMD+GIlN1kJHdjXxgJkttrq36Im+HEcCgsTjeJr12Kuq22g9Op1zZFGblWigxqdrQyOjfmCu29BfKnAIFOf6MeExMSt446bdEWs5j5VgLUx0PGYLd1ZVtnBVq5RbDxOZoVqUaYfpJq0mjtNit3srQzxqdBR9iBKL6I2HDx8+su2CY0O1xx663ytPXHTeO664+J2ObxTRedgXH7IOIsqukjYv0IhXNTStom/rZlMHjfYlWRZy0jKMF6jz8GjRuOKfNovcci3kZ85mTAZsJ041/d3KtBvvRZMoKoCaKImM5JavhXNHBrjFkCsMLuRQvH3v18UJVKUn6Fez0dyousFCcY+OTPKNxXyxiz/Oxq+FigA8dPjmcyvT7n0mJ2K2NHXBzHnGopk5bsqBU3ham9ZVr4blrc1sDT720y56NzoTOvYWW1QuHb4JYDBFzAYvDhbKckr0lLfr1cNPPv64GVY/cvWHLnxHv4sPNbtQ68rwLhjARFhUso7GADQriR2YceQq7uhDGkkXsQNmLKBHbmOLIGmuf9AGvLjiAc9YxPicYtHKtEY62V0kRgVP0TxhlGE18lcWKa9kO85zXIpWOVq0WxvEzRNPfRBWxzC1hGz461vfPTzusoW1mFeUqPA/GrOp4UAr0w6j3iIxyixsS+PRDbUybaDSngNtuNGGGsZ0G1AAQlpwMusiMuwcjz6VeW3Yu+ebX912ytZLPvCBc07vhyeFDExhBjTv16YhA+hVWFThmHVW5WmHrZpiT0sz00YIdOYHkB3twiQVQBk3yTH45iYwE/vsZ8z3znao30W9WYsncRJx9sRCP6bmGH1fOkDhZ4vw34NTBxyYKTXloV4gANfhcf+pZ54fm5wqreujQ6hW3Iw6KN/wnZ6W2YuL2vTUs1kvo1i0wCtL7JtikFuG3S3d2cveMu6o2WqRZhC2IVPL2NWwtaCwIwhKXGseQyPHYZu7H6BvGEE4MjZ6cP+BTetKF19w/uaBdQhrbNzP8S7MDjgaK5oGEn4DD5NmWRJkTNUy5RhDzU+jgsXSji207s0+o3te8RBVzDTAhyFUHLBlqIU7Ml/S0iTzH6eF5eUXXmSx7bp167q7u2XluZJGm8y3jPm4jovmALWLEfkJ+oUGL76889nnnj989FhXd6nm8yrMhwPob7udgZaZiMvZ9DTn5lpiiFOWW7qHVjQ+aYol0fs3PQmA2VyE8vWiHNsRE5ht2F2vrX7fFLPcZu3JlvlkYgChKNWGE6L5GqRpCR8+fuWFfSUOXnRHjoyFtXLRMdwMy+bC4aHDShdR0iZXcIDlJwQmktblTWIombEss6iRiQUulvg26VnZlfJVN/gBbXCA62LHIc3RNu5bM49CRqqX+Ermbd/evTLFInngdEp8xhRtxPo9/S56TAzuMVG3rJgQ9wPTrrH/4DFmQvNdxZrr8RLAMtXe2WN9fS0z2FBQmx8W+F56q3bU5l1QK3fVKpIJsDL7qoYts13ETxu1lo3ozTmRe7d1d9LaM64sbW5pKK/rgiQm+o1qlQoNCgUnnze28hYMViJW+oZaJcdn8Xin6FcLOfW9VMXECP3qGwMRmlkt3TL+dv0e3+eI/cfYii3xo9gCM0kzvkXkwoH4aNT40fwWBv0tPbTOfcSB2H+cPSxTY+PoQkysIzG+aQuiMLhzjf1/j5ZFcwBcYQT9sQVHoMKSLxkDcEudIkiy2QYSUSxtLoSKYpp1Jc6W7hXJ0JyoGrrDnAdtHGaqfbaHdpJuk6xRnh08vmOSgCwpXDMkQD7RLcRYHyWMlOje2UAJADkRxfdcZkPxSSqoJrwJ5mEUgjFia1K2wwRfqInSVJckttrNC9FHSUMrDbMQAPy1m8ejYWpp2uVnnvFAMntxnF6lSk645YqRfgBL7OF7tyxaF5LEBRkglcpDCFiYMuV8S8hf9sMshyKol/vKdHmM7RhAs6Zu9pU6bXIRPzZ9PYkQ6+yrav9mu4gfny/TzWLLXP4kXcxMhZP4A5ZmzL66amNKC3e19KlVuqgJLd0Ns6dlfgpqoY8yFIxPExfUWUAqgmq5ms/wBgBko/OrpVaMfqMZGVx4/wUBmHqO9F/22bPFuM2cJjCNom++JN2TIGuHUdwxCm70uwmAt0s34WVW0sl0kw9UqdubZA7FV9z/8IhMiYel5cCi+wHVikVaqmqXgUcEdQrGwEnV4ZziseCxJdaZO23pHigOtERREskz9pqJ/9Bl3VmlOjE1OTUxObh5k9ptyGcnlPYU5VE1wXVWWdH5myxjjWatmKn0pspTADGbz/qu37Oux7FUu+BwokndD602fKVji64J3qJWgc/RET52HXYVSzmlRdic4UOqjdHEjP4WtwE8ZUzsu97YxDjvC9cPbCW3VC0tLnqHw+dl1MZIsqD+0/YzDIjkDR9Uq+JWy5VKhUUomzZtAh94FtWl3Xw8QpC38oTldQR2gpx66qntMIqujc/YUBS+psw5SOSQQ/IYlXJKEiQRShCJgCD2f1xLHTtz/LH2dY6bcmBE0tKdPLR078Cxg4honyLtVYGYPyDusQ+Kz4Q6oToGKvoLWR4tf7Rhi/rja9C0xgu/QmIaUCe0uvLd40dH3zp4eHps0mYeEo2RWTW1uIz+CQEzKYpCjR2Y8oE6jrNS5bAC9O9s1spOHJ2YHp/2pr3QpTtQYhGS2BIJR6aTCmfZBqbNmy5mN/j8nW9UxiuViemRwyOmx9e+oiSABevg5lwhFvP9HBLBSUI509y763WjVitPjE+MjnCMEO8CIi1I9fgRWaM+I8ILVDAhXkRBWMgL+LGxMc7qApFAUAgwT8WDXQwEgzmgGQsBiaFdELbng3ueypX4YRrqODSAQqIR8S6COHm0tO1xuywtt/uidaFo0npurgAcmMJErI3qTDwFdqXeCktbHF/RJWK7au+ilhqI1ERnltDHvzpu9/jYZLGrSKu8peuMXLkvM91d6O5zgIf0AlyBUKNHUO072QvNWqUCFAqFAuMsJ+S7vapGe6wsdjW4oSBkiT+FBwwWsdUt7sQ0cAQK67PF4fFpPnxqKFU39NUHtFsbmi4gyEggm8keGh47953nAccjbx7qKRbzqv2HqLxB4LWYHKwyC96qR4tk29NdWtfTS3e3oX+AyFSS0exNOzjylDabpLEww0g/gB3TOoutXMV/b2/v8PAwGcYS+1KNd5t2OvazQIuq/1amLv5Wj5bKbfEckD4rgfJ6VgQuqk6ovDjnyLoNJmb8zC4LmgChVTwLumZyzsRUBWAx925a2b7+jbUaL+hU7JJTFZX8STo8oD/g3btpjU9O1Tyf6edazSVILpuzecXdmH7mpZRSjPEs6FdZInAUm2FMV6pM1UOh3vXrJ6c5ASin0EDLbLcuLxDkJDn+0G18vg+W6w5MPqMRMFGk4Bt9nwkaRL1FlHmskfIT5VrdiBEdhqSJUHDPFcd2c5fyFM804czV4JNGnWxL2EasM78ZPmTfMKLTKd5Gr6gQ1NDQ0JYtW5i3sqNJKjy2i6cRx5zfmaLMedTKYdHxt4pkfrfFc4C2CtNUEtVrx+1Wso1hWqL1O6x6qzond7XoZerC8K9ywVfanc35mhGMTo8eHRtiBp1WdX23+lhvNApVI4dEj6CaWSJnU7pfLPadeSbt4sjU1Iuvv37mmWdOUNNgJcNJnTJJrjAYIyKCv8quKAldp2w1pzkCOqjkcuO2NcD6Ahb3BCznTxZ/pngqUeAfjWix9w9s3vnqbnqSbYPrnAynCaEyoqWpXQHRhLysd6pHlTx9AzRDANpm0Aw+hAnzAEU4w5VOD2WGVnwezzPZVbmtc4y0IBhhecrsJIqQjD1gAo+agJCMYbXYF80BPgXXVMlKCooCMu2RoEekzipqSHuysCuRCdoWeCXldaVumtds1vHDGu9iu3tKAcfzKCyi0wB6WbgUNa4RDqXalP7t2FnHZvS8efPmQleR4V0+qzAPmgmcHIuRGULhEoUlTpXJXLZAofHZXSqJu/peapuaV1OUIJ1JIZv5A+PM08/Yu3dvtqu7r6+P12UqkFoeR2g1yFTvxGJ5Rs/qsTbmhRjUglGUHMCNAdbtkI03wuIT9KPJ0ANwK+16Pc7ZP7JmjlBEK32L6hnyBsFLpdLgxkHpBKBBvSuISj47jvnulOwWY9qVazFxHMfvoueFZOZSYpX6lkIpiFGP0VVZxAfijoaWUr3JazQrpFBFJMlrtJuM0ES0oCtKWcwx1hajcDhZpe0Sp7hjF+2s5RV/uIsfNaKJcgtp0ErEvyqHKlSDwWoUGo0ooDz+sSu+NHI7E6ZR/sQvqKLhxAGLihEQq0WgxKKaD5VANLFWV7giCTbEqFSoqExcHVnIFoVVsSiatzeMcUlU0hU80Y3ILHvLQE0ckM4d3AvTpBOgiSC3BFdsVb/LaeYr3NKku2gOyMoByZhcVa1iIlmIfZZc1BrqFkaEOPeB5cXax9yHrVySCABaZINsCSzx3lKCsaN4llgVLGf7F2/iziPBply5Bc1N+OMWcLfrWeN84o2/eFQqo5YoLbLDE5WLRg7Vr8rkLA4oH/iLPMGHptlM9TRh6hpLpDXhDPGEDwkvs6xR+qSp9jnhUxr7aq3KYEkFj1oGsQiT+TDgrPBLftMQxZJHHEe4aA7EIbVFSyAdEqg34ukojC6FlkAHEtAc6EBoOkiqJKA5kKrq1IXpQAKaAx0ITQdJlQQ0B1JVnbowHUhAc6ADoekgqZKA5kCqqlMXpgMJaA50IDQdJFUS0BxIVXXqwnQgAc2BDoSmg6RKApoDqapOXZgOJKA50IHQdJBUSUBzIFXVqQvTgQQ0BzoQmg6SKgloDqSqOnVhOpCA5kAHQtNBUiUBzYFUVacuTAcS0BzoQGg6SKokoDmQqurUhelAAv8fwKj4lLXyW3EAAAAASUVORK5CYII=)\n",
        "\n",
        "Función Elu:\n",
        "\n",
        "![image.png](data:image/png;base64,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)\n",
        "\n",
        "\n",
        "El optimizador Adam vs rmsprop. Adam combina conceptos de RMSprop con el método del momento (momentum) en un solo algoritmo de optimización. Además de adaptar la tasa de aprendizaje para cada parámetro como RMSprop, Adam también utiliza el concepto de momentum para mantener un promedio móvil de los gradientes anteriores. Incorpora dos momentos, el momento del primer orden que es similar al de RMSprop (utiliza gradientes) y el momento del segundo orden que actúa como una corrección al primer momento (utiliza gradientes al cuadrado).\n",
        "\n",
        "Adam generalmente funciona bien en una variedad de configuraciones y problemas de optimización debido a su combinación de adaptabilidad de la tasa de aprendizaje y el uso de momentos.\n",
        "\n",
        "Acontinuación, se profundiza en el mejor modelo, el quinto, lo que se va a mirar es cuándo empieza a sobreentrenar, en qué época alcanza la mejor precisión en la validación."
      ],
      "metadata": {
        "id": "l-jfQS7kbV7w"
      }
    },
    {
      "cell_type": "code",
      "source": [
        "# Quinto modelo. Sin regularizadores.\n",
        "\n",
        "network = models.Sequential()\n",
        "\n",
        "network.add(layers.Dense(64, activation='elu', input_shape=(17,)))\n",
        "\n",
        "network.add(layers.Dense(10, activation='elu'))\n",
        "\n",
        "# Última capa con la función sigmoid.\n",
        "network.add(layers.Dense(1, activation='sigmoid'))\n",
        "\n",
        "network.compile(optimizer='adam', # Optimizador.\n",
        "                loss='binary_crossentropy', # Función de pérdida.\n",
        "                metrics=['accuracy']) # Medida de precisión.\n",
        "\n",
        "resultados = network.fit(df_normalized, dflabel,\n",
        "            epochs=50,\n",
        "            batch_size=68,\n",
        "            validation_data=(df_test_normalized, dflabel_test)) # Validación."
      ],
      "metadata": {
        "colab": {
          "base_uri": "https://localhost:8080/"
        },
        "id": "dliNSVpkgR84",
        "outputId": "352ec6e0-8199-4487-cab5-de6924055f05"
      },
      "execution_count": 818,
      "outputs": [
        {
          "output_type": "stream",
          "name": "stdout",
          "text": [
            "Epoch 1/50\n",
            "23/23 [==============================] - 2s 21ms/step - loss: 0.6810 - accuracy: 0.6117 - val_loss: 0.5503 - val_accuracy: 0.7796\n",
            "Epoch 2/50\n",
            "23/23 [==============================] - 0s 5ms/step - loss: 0.5235 - accuracy: 0.7549 - val_loss: 0.4656 - val_accuracy: 0.8056\n",
            "Epoch 3/50\n",
            "23/23 [==============================] - 0s 5ms/step - loss: 0.4668 - accuracy: 0.7891 - val_loss: 0.4249 - val_accuracy: 0.8278\n",
            "Epoch 4/50\n",
            "23/23 [==============================] - 0s 5ms/step - loss: 0.4415 - accuracy: 0.7917 - val_loss: 0.3999 - val_accuracy: 0.8389\n",
            "Epoch 5/50\n",
            "23/23 [==============================] - 0s 6ms/step - loss: 0.4249 - accuracy: 0.8022 - val_loss: 0.3849 - val_accuracy: 0.8481\n",
            "Epoch 6/50\n",
            "23/23 [==============================] - 0s 6ms/step - loss: 0.4145 - accuracy: 0.8068 - val_loss: 0.3747 - val_accuracy: 0.8463\n",
            "Epoch 7/50\n",
            "23/23 [==============================] - 0s 5ms/step - loss: 0.4083 - accuracy: 0.8029 - val_loss: 0.3732 - val_accuracy: 0.8519\n",
            "Epoch 8/50\n",
            "23/23 [==============================] - 0s 5ms/step - loss: 0.4020 - accuracy: 0.8068 - val_loss: 0.3578 - val_accuracy: 0.8500\n",
            "Epoch 9/50\n",
            "23/23 [==============================] - 0s 5ms/step - loss: 0.3966 - accuracy: 0.8127 - val_loss: 0.3656 - val_accuracy: 0.8389\n",
            "Epoch 10/50\n",
            "23/23 [==============================] - 0s 5ms/step - loss: 0.3962 - accuracy: 0.8101 - val_loss: 0.3568 - val_accuracy: 0.8444\n",
            "Epoch 11/50\n",
            "23/23 [==============================] - 0s 5ms/step - loss: 0.3906 - accuracy: 0.8088 - val_loss: 0.3515 - val_accuracy: 0.8426\n",
            "Epoch 12/50\n",
            "23/23 [==============================] - 0s 4ms/step - loss: 0.3885 - accuracy: 0.8075 - val_loss: 0.3507 - val_accuracy: 0.8574\n",
            "Epoch 13/50\n",
            "23/23 [==============================] - 0s 5ms/step - loss: 0.3875 - accuracy: 0.8101 - val_loss: 0.3472 - val_accuracy: 0.8556\n",
            "Epoch 14/50\n",
            "23/23 [==============================] - 0s 5ms/step - loss: 0.3847 - accuracy: 0.8147 - val_loss: 0.3532 - val_accuracy: 0.8500\n",
            "Epoch 15/50\n",
            "23/23 [==============================] - 0s 5ms/step - loss: 0.3836 - accuracy: 0.8134 - val_loss: 0.3443 - val_accuracy: 0.8519\n",
            "Epoch 16/50\n",
            "23/23 [==============================] - 0s 5ms/step - loss: 0.3808 - accuracy: 0.8134 - val_loss: 0.3489 - val_accuracy: 0.8500\n",
            "Epoch 17/50\n",
            "23/23 [==============================] - 0s 4ms/step - loss: 0.3779 - accuracy: 0.8180 - val_loss: 0.3476 - val_accuracy: 0.8537\n",
            "Epoch 18/50\n",
            "23/23 [==============================] - 0s 5ms/step - loss: 0.3783 - accuracy: 0.8160 - val_loss: 0.3457 - val_accuracy: 0.8537\n",
            "Epoch 19/50\n",
            "23/23 [==============================] - 0s 5ms/step - loss: 0.3770 - accuracy: 0.8141 - val_loss: 0.3444 - val_accuracy: 0.8481\n",
            "Epoch 20/50\n",
            "23/23 [==============================] - 0s 6ms/step - loss: 0.3738 - accuracy: 0.8187 - val_loss: 0.3478 - val_accuracy: 0.8519\n",
            "Epoch 21/50\n",
            "23/23 [==============================] - 0s 5ms/step - loss: 0.3727 - accuracy: 0.8141 - val_loss: 0.3468 - val_accuracy: 0.8500\n",
            "Epoch 22/50\n",
            "23/23 [==============================] - 0s 7ms/step - loss: 0.3706 - accuracy: 0.8187 - val_loss: 0.3450 - val_accuracy: 0.8556\n",
            "Epoch 23/50\n",
            "23/23 [==============================] - 0s 6ms/step - loss: 0.3701 - accuracy: 0.8193 - val_loss: 0.3433 - val_accuracy: 0.8519\n",
            "Epoch 24/50\n",
            "23/23 [==============================] - 0s 5ms/step - loss: 0.3698 - accuracy: 0.8219 - val_loss: 0.3424 - val_accuracy: 0.8630\n",
            "Epoch 25/50\n",
            "23/23 [==============================] - 0s 5ms/step - loss: 0.3669 - accuracy: 0.8173 - val_loss: 0.3448 - val_accuracy: 0.8537\n",
            "Epoch 26/50\n",
            "23/23 [==============================] - 0s 5ms/step - loss: 0.3679 - accuracy: 0.8193 - val_loss: 0.3491 - val_accuracy: 0.8537\n",
            "Epoch 27/50\n",
            "23/23 [==============================] - 0s 5ms/step - loss: 0.3680 - accuracy: 0.8213 - val_loss: 0.3451 - val_accuracy: 0.8574\n",
            "Epoch 28/50\n",
            "23/23 [==============================] - 0s 5ms/step - loss: 0.3658 - accuracy: 0.8213 - val_loss: 0.3456 - val_accuracy: 0.8481\n",
            "Epoch 29/50\n",
            "23/23 [==============================] - 0s 5ms/step - loss: 0.3635 - accuracy: 0.8285 - val_loss: 0.3462 - val_accuracy: 0.8463\n",
            "Epoch 30/50\n",
            "23/23 [==============================] - 0s 5ms/step - loss: 0.3660 - accuracy: 0.8239 - val_loss: 0.3461 - val_accuracy: 0.8556\n",
            "Epoch 31/50\n",
            "23/23 [==============================] - 0s 5ms/step - loss: 0.3636 - accuracy: 0.8200 - val_loss: 0.3414 - val_accuracy: 0.8537\n",
            "Epoch 32/50\n",
            "23/23 [==============================] - 0s 5ms/step - loss: 0.3626 - accuracy: 0.8219 - val_loss: 0.3437 - val_accuracy: 0.8481\n",
            "Epoch 33/50\n",
            "23/23 [==============================] - 0s 5ms/step - loss: 0.3613 - accuracy: 0.8259 - val_loss: 0.3452 - val_accuracy: 0.8500\n",
            "Epoch 34/50\n",
            "23/23 [==============================] - 0s 5ms/step - loss: 0.3612 - accuracy: 0.8239 - val_loss: 0.3455 - val_accuracy: 0.8537\n",
            "Epoch 35/50\n",
            "23/23 [==============================] - 0s 5ms/step - loss: 0.3592 - accuracy: 0.8246 - val_loss: 0.3490 - val_accuracy: 0.8481\n",
            "Epoch 36/50\n",
            "23/23 [==============================] - 0s 5ms/step - loss: 0.3593 - accuracy: 0.8311 - val_loss: 0.3405 - val_accuracy: 0.8593\n",
            "Epoch 37/50\n",
            "23/23 [==============================] - 0s 5ms/step - loss: 0.3568 - accuracy: 0.8285 - val_loss: 0.3474 - val_accuracy: 0.8481\n",
            "Epoch 38/50\n",
            "23/23 [==============================] - 0s 5ms/step - loss: 0.3576 - accuracy: 0.8292 - val_loss: 0.3468 - val_accuracy: 0.8556\n",
            "Epoch 39/50\n",
            "23/23 [==============================] - 0s 6ms/step - loss: 0.3557 - accuracy: 0.8239 - val_loss: 0.3417 - val_accuracy: 0.8593\n",
            "Epoch 40/50\n",
            "23/23 [==============================] - 0s 6ms/step - loss: 0.3552 - accuracy: 0.8285 - val_loss: 0.3417 - val_accuracy: 0.8500\n",
            "Epoch 41/50\n",
            "23/23 [==============================] - 0s 5ms/step - loss: 0.3538 - accuracy: 0.8292 - val_loss: 0.3443 - val_accuracy: 0.8537\n",
            "Epoch 42/50\n",
            "23/23 [==============================] - 0s 5ms/step - loss: 0.3570 - accuracy: 0.8279 - val_loss: 0.3460 - val_accuracy: 0.8389\n",
            "Epoch 43/50\n",
            "23/23 [==============================] - 0s 5ms/step - loss: 0.3557 - accuracy: 0.8285 - val_loss: 0.3456 - val_accuracy: 0.8556\n",
            "Epoch 44/50\n",
            "23/23 [==============================] - 0s 5ms/step - loss: 0.3542 - accuracy: 0.8318 - val_loss: 0.3419 - val_accuracy: 0.8519\n",
            "Epoch 45/50\n",
            "23/23 [==============================] - 0s 4ms/step - loss: 0.3541 - accuracy: 0.8259 - val_loss: 0.3498 - val_accuracy: 0.8556\n",
            "Epoch 46/50\n",
            "23/23 [==============================] - 0s 4ms/step - loss: 0.3511 - accuracy: 0.8298 - val_loss: 0.3454 - val_accuracy: 0.8481\n",
            "Epoch 47/50\n",
            "23/23 [==============================] - 0s 6ms/step - loss: 0.3524 - accuracy: 0.8331 - val_loss: 0.3471 - val_accuracy: 0.8500\n",
            "Epoch 48/50\n",
            "23/23 [==============================] - 0s 5ms/step - loss: 0.3517 - accuracy: 0.8311 - val_loss: 0.3492 - val_accuracy: 0.8537\n",
            "Epoch 49/50\n",
            "23/23 [==============================] - 0s 5ms/step - loss: 0.3499 - accuracy: 0.8318 - val_loss: 0.3414 - val_accuracy: 0.8574\n",
            "Epoch 50/50\n",
            "23/23 [==============================] - 0s 5ms/step - loss: 0.3519 - accuracy: 0.8252 - val_loss: 0.3483 - val_accuracy: 0.8574\n"
          ]
        }
      ]
    },
    {
      "cell_type": "code",
      "source": [
        "import matplotlib.pyplot as plt\n",
        "\n",
        "acc = resultados.history['accuracy']\n",
        "val_acc = resultados.history['val_accuracy']\n",
        "\n",
        "epochs = range(1, len(acc) + 1)\n",
        "\n",
        "plt.plot(epochs, acc, 'bo', label='Precisión de entrenamiento')\n",
        "plt.plot(epochs, val_acc, 'b', label='Precisión de validación')\n",
        "plt.title('Precisión de entreno y validación')\n",
        "plt.xlabel('Épocas')\n",
        "plt.ylabel('Precisión')\n",
        "plt.legend()\n",
        "\n",
        "plt.show()"
      ],
      "metadata": {
        "colab": {
          "base_uri": "https://localhost:8080/",
          "height": 472
        },
        "id": "HXfUTOM-gqzs",
        "outputId": "757e01c1-ac2d-415f-94bc-d3e251b965e5"
      },
      "execution_count": 819,
      "outputs": [
        {
          "output_type": "display_data",
          "data": {
            "text/plain": [
              "<Figure size 640x480 with 1 Axes>"
            ],
            "image/png": "[encoded data removed]"
          },
          "metadata": {}
        }
      ]
    },
    {
      "cell_type": "markdown",
      "source": [
        "Resulta que haciendo algunas pruebas hemos visto que no hace falta añadir ningún tipo de regulador ya que el modelo no llega a sobreentrenar, el modelo es uno más sencillo.\n",
        "\n",
        "El por qué de este posible no sobreentrenamiento puede ser debido a que el conjunto de datos de entrenamiento tenga una suficiente variabilidad como para que el modelo generalice en las épocas en las que se entrena. Ello resulta en un modelo mucho más sencillo.\n",
        "\n",
        "El modelo en algunas iteraciones alcanza precisiones de más del 85% de acierto en la validación. Además, en el gráfico anterior se puede ver como a medida que aumenta el número de épocas la precisión en la validación no disminuye ni aumenta oscila entre rangos del 83% a más del 85%.\n",
        "\n",
        "Un 85% de precisión es un resultado aceptable para nuestro problema ya que hay que tener en cuenta que cada reserva tiene 17 características y que el número de datos de entrenamiento habiendo hecho el aumento de datos para que estos estén equilibrados es de 1522. Por tanto, es aceptable una incertidumbre del 15% conociendo el contexto del problema que no plantea circunstancias de vida o muerte."
      ],
      "metadata": {
        "id": "_zWLhI9li6NY"
      }
    },
    {
      "cell_type": "markdown",
      "source": [
        "# Hallazgos\n",
        "\n",
        "Resulta que los datos obtenidos en la base de datos estaban desequilibrados en relación al número de asistencias, probando diferentes opciones se demostró que la que mejor funcionaba para un avance en la convergencia del modelo era realizar un aumento de datos mediante el método SMOTE.\n",
        "\n",
        "Posteriormente, del modelo sencillo se decidió utilizar otro tipo de funciones de activación, en vez de relu la elu, y otro optimizador, en vez de rmsprop el adam, que desmotró dar mejores resultados subiendo la precisión en una media de 5%.\n",
        "\n",
        "Por último, después de numerosas pruebas usando reguladores, dropout y l2, nos dimos cuenta de que enrealidad el modelo no llegaba a sobreentrenar y que añadiendo reguladores el modelo o no mejoraba sustancialmente o perdia precisión con respecto al modelo sin el uso de los mismos\n",
        "\n",
        "En resumen, lo más importante del problema era adaptar bien los datos, su codificación, normalización, eliminación de datos innecesarios y el aumento de algunos de ellos mediante el método SMOTE. Una vez hecho éstos, el modelo ya alcanzaba precisiones del 80% sin necesidad de dificultar su arquitectura y casi sin overfitting."
      ],
      "metadata": {
        "id": "iBgm8PlndA-y"
      }
    },
    {
      "cell_type": "markdown",
      "source": [
        "# Trabajo futuro\n",
        "\n",
        "Lo que es el modelo se podría mejorar estudiando y cambiando hiperparámetros, ingeniería de características o analizando errores que se podrían haber pasado por alto. Ahora se van a explicar propuestas interesantes para un futuro.\n",
        "\n",
        "Una muy buena idea sería desarrollar una Interfaz de Usuario. Se podría utilizar un framework sencillo como Flask, o alguno más complejo como Streamlit o Dash. El objetivo principal sería hacer una interfaz intuitiva para que el personal del gimnasio la pueda utilizar fácilmente, pudiendo interactuar sin la necesidad de tener conocimiento técnico sobre el tema. El personal podría ingresar los datos de una reserva (variables vistas en el proyecto) y obtener la predicción del modelo que concluya si la persona asistirá realmente o no. También se proporcionarían indicadores visuales o estadísticas para que se puedan comprender mejor las predicciones.\n",
        "\n",
        "Otro tema que daría mucho juego sería la expansión del gimnasio. Habría que estudiar si estas predicciones se podrían a hacer a una escala mayor y qué implicaría si por ejemplo este gimnasio es una franquicia que pretende llegar a muchas ciudades y quién sabe si a otros países.\n",
        "\n",
        "Recopilar más datos seguro que sería algo positivo. Se podrían añadir más variables al modelo de predicción o hacerlas más específicas. Por ejemplo, la hora que es AM o PM podría ser en una cifra determinada (no hace falta tener en cuenta los minutos, pero alomejor en intervalos de una hora si).\n",
        "\n",
        "Habría que conseguir un modelo que pueda ser utilizado de forma continua y automatizada. Configurar notificaciones para el personal del gimnasio teniendo en cuenta las predicciones del modelo. También algo obvio que no ha sido mencionado hasta ahora, sería de gran ayuda una mejor comunicación entre los clientes del gimnasio y los trabajadores.\n",
        "\n",
        "Finalmente, se podría enfocar una de las mayores procupaciones del gimnasio: el ámbito económico. Se debería estudiar y analizar la rentabilidad del gimnasio en relación con el modelo predictivo. Se entra en un amplio estudio con el que se reflexionaría sobre el coste del gimnasio (que pagan los clientes), la limpieza del local, los monitores y personal, sueldos y todo lo que se quiera tener en cuenta. Debe haber un equilibrio y que clientes y personal estén satisfechos con su situación."
      ],
      "metadata": {
        "id": "lIQj0VmldOHc"
      }
    },
    {
      "cell_type": "markdown",
      "source": [
        "# Bibliografía\n",
        "\n",
        "- colaboradores de Wikipedia. (2024, 6 enero). Red neuronal artificial. Wikipedia, la enciclopedia libre. https://es.wikipedia.org/wiki/Red_neuronal_artificial\n",
        "\n",
        "- Qué es una red neuronal? - Explicación de las redes neuronales artificiales - AWS. (s. f.). Amazon Web Services, Inc. https://aws.amazon.com/es/what-is/neural-network/\n",
        "\n",
        "- González-Ruiz, S., Gómez-Gallego, I., Pastrana-Brincones, J. L., & Mendo, A. H. (2015). Algoritmos de clasificación y redes neuronales en la observación automatizada de registros. Cuadernos de psicología del deporte, 15(1), 31-40. https://doi.org/10.4321/s1578-84232015000100003\n",
        "\n",
        "- Team, K. (s. f.). Keras Documentation: Developer Guides. https://keras.io/guides/\n",
        "\n",
        "- Stack Overflow - where developers learn, share, & build careers. (s. f.). Stack Overflow. https://stackoverflow.com/\n",
        "\n",
        "- Chawla, N. V., Bowyer, K. W., Hall, L. O., & Kegelmeyer, W. P. (2002). SMOTE: Synthetic Minority Over-sampling technique. Journal of Artificial Intelligence Research, 16, 321-357. https://doi.org/10.1613/jair.953\n"
      ],
      "metadata": {
        "id": "681pQDtWhoSV"
      }
    }
  ]
}